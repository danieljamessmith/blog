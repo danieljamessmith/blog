{
 "cells": [
  {
   "cell_type": "code",
   "execution_count": 1,
   "id": "4039ff95-fbe1-44f5-8819-2fdcfdc69ac8",
   "metadata": {},
   "outputs": [
    {
     "name": "stdout",
     "output_type": "stream",
     "text": [
      "+-------------------+------------+\n",
      "|     Component     |  Version   |\n",
      "+-------------------+------------+\n",
      "|       Python      |   3.12.2   |\n",
      "+-------------------+------------+\n",
      "|      PyTorch      | 2.2.2+cpu  |\n",
      "+-------------------+------------+\n",
      "| PyTorch Lightning |   2.2.3    |\n",
      "+-------------------+------------+\n",
      "|    torchvision    | 0.17.2+cpu |\n",
      "+-------------------+------------+\n"
     ]
    }
   ],
   "source": [
    "import torch\n",
    "import torch.nn as nn\n",
    "import torch.optim as optim\n",
    "import torch.nn.functional as F\n",
    "\n",
    "import torchvision\n",
    "import torchvision.datasets as datasets\n",
    "import torchvision.transforms as transforms\n",
    "\n",
    "import pytorch_lightning as pl\n",
    "\n",
    "from torch.utils.data import DataLoader, random_split\n",
    "from torchvision.datasets import FashionMNIST\n",
    "\n",
    "import matplotlib.pyplot as plt\n",
    "%matplotlib inline\n",
    "\n",
    "import os \n",
    "from utils import *\n",
    "\n",
    "BATCH_SIZE = 128\n",
    "NUM_WORKERS=int(os.cpu_count() / 2)\n",
    "versions()"
   ]
  },
  {
   "cell_type": "markdown",
   "id": "765d98c1-3602-4c77-9a07-1b3eb1da6c17",
   "metadata": {},
   "source": [
    "# Generative Adversarial Networks (GANs)\n",
    "\n",
    "Generative Adversarial Networks (GANs) are a class of artificial intelligence algorithms used in unsupervised machine learning, implemented by a system of two neural networks contesting with each other in a zero-sum game framework. \n",
    "This technique was introduced by Ian Goodfellow and his colleagues in 2014 and has since been an active topic of research with applications including in generative image models, video generation, and voice generation systems.\n",
    "\n",
    "GANs consist of two distinct models: a **generator** and a **discriminator**:\n",
    "\n",
    "<img src=\"gan_structure.png\" style=\"width:75%\">\n",
    "\n",
    "- **Generator**: This network learns to generate plausible data. The generated instances become negative training samples for the discriminator.\n",
    "- **Discriminator**: This network learns to distinguish between real and fake data from the generator. The discriminator penalizes the generator for producing implausible results.\n",
    "\n",
    "When training a GAN, the generator and discriminator are trained simultaneously:\n",
    "\n",
    "1. **Generator Learning**: The generator improves its ability to create fake data by continuously attempting to deceive the discriminator. It tries to minimize the following function:\n",
    "\n",
    "    $$ \\min_G \\log(1 - D(G(z))) $$\n",
    "\n",
    "   where $G(z)$ is the generator's output when given noise $z$, and $D$ is the discriminator's estimate of the probability that a sample came from the training data rather than the generator.\n",
    "\n",
    "2. **Discriminator Learning**: The discriminator improves its ability to distinguish real data from fake data produced by the generator. It tries to maximize the following function:\n",
    "\n",
    "    $$ \\max_D \\, \\left[\\log D(x) + \\log(1 - D(G(z)))\\right] $$\n",
    "\n",
    "   where $x$ is data from the true distribution.\n",
    "\n",
    "The training involves back-and-forth iterations where the discriminator guides the generator to produce more realistic outputs, and the generator forces the discriminator to become more skilled at distinguishing real data from fakes.\n",
    "\n",
    "For a more comprehensive overview of GANs, refer to the original paper or additional resources on generative models:\n",
    "\n",
    "> [Original GAN Paper by Ian Goodfellow et al., 2014](https://arxiv.org/abs/1406.2661)\n",
    ">\n",
    "> [Generative Models on OpenAI](https://openai.com/blog/generative-models/)\n",
    "\n",
    "\n",
    "<img src=\"img/GANs.png\" style=\"width:75%\">"
   ]
  },
  {
   "cell_type": "markdown",
   "id": "1bed183f-788d-4b42-8236-5121e8dfde63",
   "metadata": {},
   "source": [
    "# PyTorch Lightning\n",
    "\n",
    "> PyTorch Lightning is a library built on top of PyTorch that abstracts complexity so that researchers and developers can build models faster and more efficiently. By structuring PyTorch code to be more modular and hardware-agnostic, Lightning enables scalability across different hardware setups without changing the model code.\n",
    ">\n",
    ">PyTorch Lightning is designed for high flexibility and even higher performance, making it a popular choice for both academic researchers and industry practitioners.\n",
    ">\n",
    ">For more detailed information on PyTorch Lightning, visit the official documentation:\n",
    "> \n",
    ">> [PyTorch Lightning Documentation](https://pytorch-lightning.readthedocs.io/en/latest/)\n",
    "\n",
    "<br>\n",
    "\n",
    "To install PyTorch Lightning using the `pip` package manager run\n",
    "```cmd\n",
    "pip install pytorch_lightning\n",
    "```\n",
    "at the command line.\n"
   ]
  },
  {
   "cell_type": "markdown",
   "id": "cc92dfdb-ed1f-4bc4-82c2-670ca30cbf87",
   "metadata": {},
   "source": [
    "# Fashion-MNIST Dataset\n",
    "\n",
    "Fashion-MNIST is a dataset of Zalando's article images, designed as a more challenging replacement for the traditional MNIST dataset of handwritten digits. Each example in Fashion-MNIST is a 28x28 grayscale image, associated with a label from 10 classes. \n",
    "\n",
    "- **Number of Samples**: 70,000 (60,000 training and 10,000 test images)\n",
    "- **Image Size**: 28x28 pixels, grayscale\n",
    "- **Number of Classes**: 10\n",
    "\n",
    "Each class corresponds to a type of clothing:\n",
    "    \n",
    ">    0. T-shirt/top\n",
    ">    1. Trouser\n",
    ">    2. Pullover\n",
    ">    3. Dress\n",
    ">    4. Coat\n",
    ">    5. Sandal\n",
    ">    6. Shirt\n",
    ">    7. Sneaker\n",
    ">    8. Bag\n",
    ">    9. Ankle boot"
   ]
  },
  {
   "cell_type": "code",
   "execution_count": 3,
   "id": "d20d3960-b464-49e7-90b7-19730038d10a",
   "metadata": {},
   "outputs": [],
   "source": [
    "#| code-fold: show\n",
    "\n",
    "class FashionMNISTDataModule(pl.LightningDataModule):\n",
    "    \"\"\"\n",
    "    PyTorch Lightning Data Module for the FashionMNIST dataset.\n",
    "    Handles the loading, downloading, and transforming of data into train, validation, and test splits.\n",
    "    \"\"\"\n",
    "\n",
    "    def __init__(self, data_dir=\"./data\", batch_size=32, num_workers=4):\n",
    "        \"\"\"\n",
    "        Initializes the data module.\n",
    "        \n",
    "        Args:\n",
    "            data_dir (str): The directory to store/download the dataset.\n",
    "            batch_size (int): Number of samples in each batch.\n",
    "            num_workers (int): Number of subprocesses to use for data loading.\n",
    "        \"\"\"\n",
    "        super().__init__()\n",
    "        self.data_dir = data_dir\n",
    "        self.batch_size = batch_size\n",
    "        self.num_workers = num_workers\n",
    "\n",
    "        # Define transformations that will be applied to each data sample\n",
    "        self.transform = transforms.Compose([\n",
    "                    transforms.RandomHorizontalFlip(),  # Randomly flip images on the horizontal axis\n",
    "                    transforms.RandomRotation(30),  # Randomly rotate the images by up to 10 degrees\n",
    "                    transforms.RandomAffine(degrees=30,\n",
    "                                            scale=(0.8,1.2),\n",
    "                                            shear=10),\n",
    "                    transforms.ToTensor(),\n",
    "                    transforms.Normalize((0.5,), (0.5,)),  # Assuming you still want to normalize the images\n",
    "                ])\n",
    "\n",
    "    def prepare_data(self):\n",
    "        \"\"\"\n",
    "        Download the FashionMNIST dataset if not already available locally.\n",
    "        This method is only called from a single GPU.\n",
    "        \"\"\"\n",
    "        FashionMNIST(self.data_dir, train=True, download=True)\n",
    "        FashionMNIST(self.data_dir, train=False, download=True)\n",
    "\n",
    "    def setup(self, stage=None):\n",
    "        \"\"\"\n",
    "        Set up the dataset for the 'fit' and 'test' stages.\n",
    "        \n",
    "        Args:\n",
    "            stage (str, optional): Stage for which the setup is being run. \n",
    "                                   If 'fit', set up for training and validation. \n",
    "                                   If 'test', set up for testing.\n",
    "        \"\"\"\n",
    "        if stage == \"fit\" or stage is None:\n",
    "            fashion_full = FashionMNIST(self.data_dir, train=True, transform=self.transform)\n",
    "            # Randomly split the dataset into training and validation data\n",
    "            self.fashion_train, self.fashion_val = random_split(fashion_full, [55000, 5000])\n",
    "\n",
    "        if stage == \"test\" or stage is None:\n",
    "            self.fashion_test = FashionMNIST(self.data_dir, train=False, transform=self.transform)\n",
    "\n",
    "    def train_dataloader(self):\n",
    "        \"\"\"\n",
    "        Returns:\n",
    "            DataLoader: DataLoader for the training data.\n",
    "        \"\"\"\n",
    "        return DataLoader(self.fashion_train, batch_size=self.batch_size, num_workers=self.num_workers, persistent_workers=True)\n",
    "\n",
    "    def val_dataloader(self):\n",
    "        \"\"\"\n",
    "        Returns:\n",
    "            DataLoader: DataLoader for the validation data.\n",
    "        \"\"\"\n",
    "        return DataLoader(self.fashion_val, batch_size=self.batch_size, num_workers=self.num_workers, persistent_workers=True)\n",
    "\n",
    "    def test_dataloader(self):\n",
    "        \"\"\"\n",
    "        Returns:\n",
    "            DataLoader: DataLoader for the test data.\n",
    "        \"\"\"\n",
    "        return DataLoader(self.fashion_test, batch_size=self.batch_size, num_workers=self.num_workers)\n"
   ]
  },
  {
   "cell_type": "code",
   "execution_count": 4,
   "id": "e51a3db4-33a6-44aa-a404-56ddd74cef0e",
   "metadata": {},
   "outputs": [
    {
     "data": {
      "image/png": "[encoded data removed]",
      "text/plain": [
       "<Figure size 800x800 with 4 Axes>"
      ]
     },
     "metadata": {},
     "output_type": "display_data"
    }
   ],
   "source": [
    "show_img()"
   ]
  },
  {
   "cell_type": "markdown",
   "id": "f0a278b0-15b7-45e3-8eb6-f2d928ff1d49",
   "metadata": {},
   "source": [
    "# Generator Architecture\n",
    "\n",
    "> The **Generator** is designed to map latent space vectors to the data space. It consists of a series of layers that progressively upsample the input vector to a higher resolution, culminating in an image of the desired size.\n",
    "> \n",
    "> - **Input**: Receives a latent vector of dimensionality `latent_dim`.\n",
    "> - **Layers**:\n",
    ">   - A fully connected layer expands the latent vector into a 7x7x64 tensor.\n",
    ">   - Two transposed convolutional layers (also known as deconvolutional layers) further upsample the tensor to larger spatial dimensions (14x14 and 28x28).\n",
    ">   - The final convolutional layer reduces the depth to produce a single-channel image, typically representing a grayscale image."
   ]
  },
  {
   "cell_type": "code",
   "execution_count": 5,
   "id": "f5a8f31e-9c5c-4091-a390-96f31235efb9",
   "metadata": {},
   "outputs": [],
   "source": [
    "#| code-fold: show\n",
    "\n",
    "class Generator(nn.Module):\n",
    "    \"\"\"\n",
    "    Generator class for a GAN, producing images from a latent space input.\n",
    "    \"\"\"\n",
    "    def __init__(self, latent_dim):\n",
    "        \"\"\"\n",
    "        Initializes the Generator model.\n",
    "        Args:\n",
    "            latent_dim (int): Dimensionality of the latent space vector.\n",
    "        \"\"\"\n",
    "        super().__init__()\n",
    "        self.lin1 = nn.Linear(latent_dim, 7 * 7 * 64)\n",
    "        self.ct1 = nn.ConvTranspose2d(64, 32, 4, stride=2)\n",
    "        self.ct2 = nn.ConvTranspose2d(32, 16, 4, stride=2)\n",
    "        self.conv = nn.Conv2d(16, 1, kernel_size=7)\n",
    "        self.bn1 = nn.BatchNorm2d(64)\n",
    "        self.bn2 = nn.BatchNorm2d(32)\n",
    "\n",
    "    def forward(self, x):\n",
    "        \"\"\"\n",
    "        Forward pass through the Generator.\n",
    "        Args:\n",
    "            x (Tensor): Latent space input tensor.\n",
    "        Returns:\n",
    "            Tensor: Generated image tensor of shape [1, 28, 28].\n",
    "        \"\"\"\n",
    "        x = F.relu(self.lin1(x))\n",
    "        x = x.view(-1, 64, 7, 7)\n",
    "        x = self.bn1(x)\n",
    "        x = F.relu(self.ct1(x))\n",
    "        x = self.bn2(x)\n",
    "        x = F.relu(self.ct2(x))\n",
    "        x = self.conv(x)\n",
    "        return torch.tanh(x)\n"
   ]
  },
  {
   "cell_type": "markdown",
   "id": "b52b96cb-7a8d-4cd5-a9e2-380daef0192c",
   "metadata": {},
   "source": [
    "# Discriminator Architecture\n",
    "\n",
    "> The **Discriminator** evaluates images, distinguishing between samples drawn from the training data and those generated by the generator. It is structured as a conventional convolutional neural network (CNN), which downsamples the input image to a scalar output that estimates the probability of the input being a real image.\n",
    "> \n",
    "> - **Input**: Receives an image (real or generated).\n",
    "> - **Layers**:\n",
    ">   - Two convolutional layers with kernel size 5 for feature extraction, each followed by max pooling for spatial reduction.\n",
    ">   - Dropout layer after the second convolutional layer to prevent overfitting.\n",
    ">   - Two fully connected layers to output a probability score."
   ]
  },
  {
   "cell_type": "code",
   "execution_count": 6,
   "id": "6b6cf6f5-9ea0-495a-a3fd-fd61fd66d35e",
   "metadata": {},
   "outputs": [],
   "source": [
    "#| code-fold: show\n",
    "\n",
    "class Discriminator(nn.Module):\n",
    "    \"\"\"\n",
    "    Discriminator class for a GAN, distinguishing generated images from real images.\n",
    "    \"\"\"\n",
    "    def __init__(self):\n",
    "        \"\"\"\n",
    "        Initializes the Discriminator model.\n",
    "        \"\"\"\n",
    "        super().__init__()\n",
    "        self.conv1 = nn.Conv2d(1, 10, kernel_size=5)\n",
    "        self.conv2 = nn.Conv2d(10, 20, kernel_size=5)\n",
    "        self.conv2_drop = nn.Dropout2d()\n",
    "        self.fc1 = nn.Linear(320, 50)\n",
    "        self.fc2 = nn.Linear(50, 1)\n",
    "\n",
    "    def forward(self, x):\n",
    "        \"\"\"\n",
    "        Forward pass through the Discriminator.\n",
    "        Args:\n",
    "            x (Tensor): Input image tensor.\n",
    "        Returns:\n",
    "            Tensor: Probability tensor indicating the likelihood of the input being real.\n",
    "        \"\"\"\n",
    "        x = F.leaky_relu(F.max_pool2d(self.conv1(x), 2), negative_slope=0.2)\n",
    "        x = F.leaky_relu(F.max_pool2d(self.conv2_drop(self.conv2(x)), 2), negative_slope=0.2)\n",
    "        x = x.view(-1, 320)  # Flatten the output for the dense layer\n",
    "        x = F.relu(self.fc1(x))\n",
    "        x = F.dropout(x, training=self.training)\n",
    "        x = self.fc2(x)\n",
    "        return torch.sigmoid(x)"
   ]
  },
  {
   "cell_type": "markdown",
   "id": "5f1ff5a0-04d4-4d61-afbe-c8445f5872e1",
   "metadata": {},
   "source": [
    "# Combining into `GAN` Class"
   ]
  },
  {
   "cell_type": "code",
   "execution_count": 17,
   "id": "712f1f2e-b7d6-48de-b2bf-72f3be91c6b6",
   "metadata": {},
   "outputs": [],
   "source": [
    "#| code-fold: show\n",
    "\n",
    "class GAN(pl.LightningModule):\n",
    "    \"\"\"\n",
    "    A GAN class inheriting from PyTorch Lightning Module for generating and discriminating images.\n",
    "    \"\"\"\n",
    "    def __init__(self, latent_dim=100, lr=0.0002, clip_value=0.01):\n",
    "        \"\"\"\n",
    "        Initializes the GAN model.\n",
    "        Args:\n",
    "            latent_dim (int): Dimensionality of the latent space.\n",
    "            lr (float): Learning rate for the optimizer.\n",
    "        \"\"\"\n",
    "        super().__init__()\n",
    "        self.save_hyperparameters()\n",
    "        self.automatic_optimization = False\n",
    "\n",
    "        self.generator = Generator(latent_dim=self.hparams.latent_dim)\n",
    "        self.discriminator = Discriminator()\n",
    "        self.validation_z = torch.randn(6, self.hparams.latent_dim)  # Validation noise\n",
    "        self.clip_value = clip_value\n",
    "        self.generator_losses = []\n",
    "        self.discriminator_losses = []\n",
    "\n",
    "    def forward(self, z):\n",
    "        \"\"\"\n",
    "        Forward pass through the generator to create images from noise.\n",
    "        Args:\n",
    "            z (Tensor): A batch of random noise vectors.\n",
    "        Returns:\n",
    "            Tensor: Generated images.\n",
    "        \"\"\"\n",
    "        return self.generator(z)\n",
    "\n",
    "    def adversarial_loss(self, y_hat, y, is_real=True, is_discriminator=True, label_smoothing=0.1):\n",
    "        \"\"\"\n",
    "        Computes the binary cross-entropy loss for adversarial training with label smoothing if required. \n",
    "        Args:\n",
    "            y_hat (Tensor): Predicted probabilities.\n",
    "            y (Tensor): True labels.\n",
    "        Returns:\n",
    "            Tensor: Loss value.\n",
    "        \"\"\"\n",
    "        if is_discriminator and is_real:\n",
    "            smoothed_labels = (1.0 - label_smoothing) * y\n",
    "        else:\n",
    "            smoothed_labels = y\n",
    "        return F.binary_cross_entropy(y_hat, smoothed_labels)\n",
    "\n",
    "\n",
    "    def training_step(self, batch, batch_idx):\n",
    "        \"\"\"\n",
    "        Training logic for one epoch's step.\n",
    "        Args:\n",
    "            batch: The output of your DataLoader. A tuple (images, labels) in this case.\n",
    "            batch_idx (int): Integer displaying index of this batch.\n",
    "        Returns:\n",
    "            Dictionary: Training loss and log metrics.\n",
    "        \"\"\"\n",
    "\n",
    "        real_imgs, _ = batch\n",
    "        d_loss = self._train_discriminator(real_imgs)\n",
    "        g_loss = self._train_generator(real_imgs.size(0))  # Pass batch size from real images\n",
    "        self.generator_losses.append(g_loss.item())\n",
    "        self.discriminator_losses.append(d_loss.item())\n",
    "        self.log_dict({'g_loss': g_loss, 'd_loss': d_loss})\n",
    "        return {'loss': d_loss, 'progress_bar': {'g_loss': g_loss, 'd_loss': d_loss}, 'log': {'g_loss': g_loss, 'd_loss': d_loss}}\n",
    "\n",
    "\n",
    "    def plot_learning_curves(self):\n",
    "        plt.figure(figsize=(10, 5))\n",
    "        plt.title(\"Generator and Discriminator Loss During Training\")\n",
    "        plt.plot(self.generator_losses, label=\"Generator Loss\")\n",
    "        plt.plot(self.discriminator_losses, label=\"Discriminator Loss\")\n",
    "        plt.xlabel(\"Training Steps\")\n",
    "        plt.ylabel(\"Loss\")\n",
    "        plt.legend()\n",
    "        plt.grid(True)\n",
    "        plt.show()\n",
    "\n",
    "    def _train_generator(self, batch_size):\n",
    "        \"\"\"\n",
    "        Handles the training of the generator.\n",
    "        Args:\n",
    "            batch_size (int): The size of the batch.\n",
    "        Returns:\n",
    "            Tensor: Generator loss.\n",
    "        \"\"\"\n",
    "        fake_imgs = self.generator(self._generate_noise(batch_size))\n",
    "        # Adversarial loss for generator\n",
    "        g_loss = -torch.mean(self.discriminator(fake_imgs))\n",
    "        \n",
    "        self.manual_backward(g_loss)\n",
    "        self.optimizers()[0].step()\n",
    "        self.optimizers()[0].zero_grad()\n",
    "\n",
    "        return g_loss\n",
    "\n",
    "    def _train_discriminator(self, real_imgs):\n",
    "        \"\"\"\n",
    "        Handles the training of the discriminator.\n",
    "        Args:\n",
    "            real_imgs (Tensor): Real images from the dataset.\n",
    "        Returns:\n",
    "            Tensor: Discriminator loss.\n",
    "        \"\"\"\n",
    "        # Get real and fake images\n",
    "        real_validity = self.discriminator(real_imgs)\n",
    "        fake_imgs = self.generator(self._generate_noise(real_imgs.size(0))).detach()\n",
    "        fake_validity = self.discriminator(fake_imgs)\n",
    "\n",
    "        # Wasserstein loss for discriminator\n",
    "        d_loss = -torch.mean(real_validity) + torch.mean(fake_validity)\n",
    "        \n",
    "        self.manual_backward(d_loss)\n",
    "        self.optimizers()[1].step()\n",
    "        self.optimizers()[1].zero_grad()\n",
    "\n",
    "        # Apply weight clipping\n",
    "        for p in self.discriminator.parameters():\n",
    "            p.data.clamp_(-self.clip_value, self.clip_value)\n",
    "\n",
    "        return d_loss\n",
    "\n",
    "    def validation_step(self, batch, batch_idx):\n",
    "        # This is necessary if you have defined a validation dataloader\n",
    "        pass\n",
    "\n",
    "\n",
    "    def _generate_noise(self, batch_size):\n",
    "        \"\"\"\n",
    "        Generates a tensor of random noise.\n",
    "        Args:\n",
    "            batch_size (int): The size of the batch.\n",
    "        Returns:\n",
    "            Tensor: A batch of random noise vectors.\n",
    "        \"\"\"\n",
    "        return torch.randn(batch_size, self.hparams.latent_dim, device=self.device)\n",
    "\n",
    "    def configure_optimizers(self):\n",
    "        \"\"\"\n",
    "        Initializes and returns optimizers for generator and discriminator.\n",
    "        Returns:\n",
    "            List: List containing optimizers for generator and discriminator.\n",
    "        \"\"\"\n",
    "        opt_g = torch.optim.RMSprop(self.generator.parameters(), lr=self.hparams.lr)\n",
    "        opt_d = torch.optim.RMSprop(self.discriminator.parameters(), lr=self.hparams.lr)\n",
    "        return [opt_g, opt_d], []\n",
    "\n",
    "    def plot_imgs(self):\n",
    "        \"\"\"\n",
    "        Plots generated images to visualize progress using matplotlib.\n",
    "        \"\"\"\n",
    "        z = self.validation_z.to(self.generator.lin1.weight.device)\n",
    "        with torch.no_grad():  # Ensures that gradients are not calculated in the forward pass\n",
    "            sample_imgs = self(z).detach().cpu()  # Detach and move to CPU to avoid RuntimeError\n",
    "\n",
    "        sample_imgs = (sample_imgs + 1) / 2\n",
    "        print(f'Epoch: {self.current_epoch}')\n",
    "        fig = plt.figure(figsize=(10, 6))\n",
    "        for i in range(sample_imgs.size(0)):\n",
    "            ax = fig.add_subplot(2, 3, i+1)\n",
    "            ax.imshow(sample_imgs[i, 0, :, :], cmap='Greys_r')\n",
    "            ax.axis('off')\n",
    "        plt.show()\n",
    "\n",
    "    def on_epoch_end(self):\n",
    "        \"\"\"\n",
    "        A hook called at the end of every epoch.\n",
    "        \"\"\"\n",
    "        self.plot_imgs()\n"
   ]
  },
  {
   "cell_type": "markdown",
   "id": "0483500a-ef52-416c-8c57-52a24db8bce8",
   "metadata": {},
   "source": [
    "# Training\n",
    "\n",
    "> During training, the generator and discriminator contest with each other:\n",
    ">\n",
    "> > The **Generator** aims to fool the discriminator by generating increasingly convincing images.\n",
    "> > \n",
    "> > \n",
    "> >\n",
    "> > The **Discriminator** strives to accurately classify real and generated images.\n",
    ">\n",
    "> The system is trained using a minimax game strategy, optimizing both networks concurrently to improve their accuracy and robustness. This adversarial setup helps improve the generative quality of the images as the training progresses.\n",
    "\n",
    "The following code cell creates instances of the `FashionMNISTDataModule` and `GAN` classes and then trains the model on the training data, using the jupyter magic command `%%time` to track the time taken."
   ]
  },
  {
   "cell_type": "code",
   "execution_count": 18,
   "id": "36c1ec39-9dbb-4e35-a30e-7c1bb42901ce",
   "metadata": {},
   "outputs": [
    {
     "name": "stderr",
     "output_type": "stream",
     "text": [
      "GPU available: False, used: False\n",
      "TPU available: False, using: 0 TPU cores\n",
      "IPU available: False, using: 0 IPUs\n",
      "HPU available: False, using: 0 HPUs\n",
      "\n",
      "  | Name          | Type          | Params\n",
      "------------------------------------------------\n",
      "0 | generator     | Generator     | 358 K \n",
      "1 | discriminator | Discriminator | 21.4 K\n",
      "------------------------------------------------\n",
      "380 K     Trainable params\n",
      "0         Non-trainable params\n",
      "380 K     Total params\n",
      "1.520     Total estimated model params size (MB)\n"
     ]
    },
    {
     "data": {
      "application/vnd.jupyter.widget-view+json": {
       "model_id": "",
       "version_major": 2,
       "version_minor": 0
      },
      "text/plain": [
       "Sanity Checking: |                                                                               | 0/? [00:00<…"
      ]
     },
     "metadata": {},
     "output_type": "display_data"
    },
    {
     "data": {
      "application/vnd.jupyter.widget-view+json": {
       "model_id": "9e66ee162db149dea74abdd35d5b828d",
       "version_major": 2,
       "version_minor": 0
      },
      "text/plain": [
       "Training: |                                                                                      | 0/? [00:00<…"
      ]
     },
     "metadata": {},
     "output_type": "display_data"
    },
    {
     "data": {
      "application/vnd.jupyter.widget-view+json": {
       "model_id": "",
       "version_major": 2,
       "version_minor": 0
      },
      "text/plain": [
       "Validation: |                                                                                    | 0/? [00:00<…"
      ]
     },
     "metadata": {},
     "output_type": "display_data"
    },
    {
     "data": {
      "application/vnd.jupyter.widget-view+json": {
       "model_id": "",
       "version_major": 2,
       "version_minor": 0
      },
      "text/plain": [
       "Validation: |                                                                                    | 0/? [00:00<…"
      ]
     },
     "metadata": {},
     "output_type": "display_data"
    },
    {
     "name": "stdout",
     "output_type": "stream",
     "text": [
      "\n",
      "Training Complete.\n",
      "\n",
      "CPU times: total: 17min 16s\n",
      "Wall time: 3min 5s\n"
     ]
    },
    {
     "name": "stderr",
     "output_type": "stream",
     "text": [
      "C:\\Users\\Daniel\\AppData\\Local\\Programs\\Python\\Python312\\Lib\\site-packages\\pytorch_lightning\\trainer\\call.py:54: Detected KeyboardInterrupt, attempting graceful shutdown...\n"
     ]
    }
   ],
   "source": [
    "%%time\n",
    "\n",
    "dm = FashionMNISTDataModule()\n",
    "model = GAN(lr=5e-5)\n",
    "\n",
    "trainer = pl.Trainer(\n",
    "    max_epochs=50,\n",
    "    check_val_every_n_epoch=1,  # Ensures validation happens and might trigger related hooks\n",
    "    logger=True,\n",
    "    enable_checkpointing=True,\n",
    ")\n",
    "\n",
    "trainer.fit(model, dm)\n",
    "\n",
    "print('\\nTraining Complete.\\n')"
   ]
  },
  {
   "cell_type": "code",
   "execution_count": 19,
   "id": "2a508b85-2558-4e97-aad9-12aaf85c4134",
   "metadata": {},
   "outputs": [
    {
     "name": "stdout",
     "output_type": "stream",
     "text": [
      "Epoch: 2\n"
     ]
    },
    {
     "data": {
      "image/png": "[encoded data removed]",
      "text/plain": [
       "<Figure size 1000x600 with 6 Axes>"
      ]
     },
     "metadata": {},
     "output_type": "display_data"
    }
   ],
   "source": [
    "model.plot_imgs()"
   ]
  },
  {
   "cell_type": "code",
   "execution_count": 20,
   "id": "21254fbc-ee19-40d1-a28d-6755c28db876",
   "metadata": {},
   "outputs": [
    {
     "data": {
      "image/png": "[encoded data removed]",
      "text/plain": [
       "<Figure size 1000x500 with 1 Axes>"
      ]
     },
     "metadata": {},
     "output_type": "display_data"
    }
   ],
   "source": [
    "model.plot_learning_curves()"
   ]
  },
  {
   "cell_type": "code",
   "execution_count": null,
   "id": "60ceca1b-bdc7-4be8-8e69-2523e58f3a6a",
   "metadata": {},
   "outputs": [],
   "source": []
  }
 ],
 "metadata": {
  "kernelspec": {
   "display_name": "Python 3 (ipykernel)",
   "language": "python",
   "name": "python3"
  },
  "language_info": {
   "codemirror_mode": {
    "name": "ipython",
    "version": 3
   },
   "file_extension": ".py",
   "mimetype": "text/x-python",
   "name": "python",
   "nbconvert_exporter": "python",
   "pygments_lexer": "ipython3",
   "version": "3.12.2"
  }
 },
 "nbformat": 4,
 "nbformat_minor": 5
}
