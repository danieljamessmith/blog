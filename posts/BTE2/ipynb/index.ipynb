{
 "cells": [
  {
   "cell_type": "markdown",
   "id": "94058be4-3261-476a-b67b-4f6c87bba3a1",
   "metadata": {},
   "source": [
    "---\n",
    "title: \"Probabilistic Preliminaries\"\n",
    "author: \"Daniel Smith\"\n",
    "date: \"2024-02-13\"\n",
    "categories: [Mathematics, Probability Theory]\n",
    "title-block-banner: false\n",
    "image: 'preview.png'\n",
    "draft: true\n",
    "description:  \"Before we can discuss Information Theory and it's consequences for the Boltzmann Transport Equation we first need to make some definitions from probability theory.\"\n",
    "---\n"
   ]
  },
  {
   "cell_type": "markdown",
   "id": "1bf35338-838f-4882-8ab4-dd66d46e75ea",
   "metadata": {},
   "source": [
    "# Probability Theory\n",
    "\n",
    "Throughout we fix a probability space $(\\Omega,\\mathcal{F},\\mathbb{P})$\n",
    "and consider $\\mathbb{R}$ equipped with Lebesgue measure $\\lambda$ on\n",
    "the Borel $\\sigma$-algebra $\\mathcal{B}(\\mathbb{R}).$ The reader is assumed to have taken a first course on measure theory.\n",
    "\n",
    "Note that a probability space $(\\Omega,\\mathcal{F},\\mathbb{P})$ is a measure space with unit total mass\n",
    "\n",
    "$$\\mathbb{P}(\\Omega)=1.$$\n",
    "\n"
   ]
  },
  {
   "cell_type": "markdown",
   "id": "8f71ca6e-a90d-4072-89b9-49f168435588",
   "metadata": {},
   "source": [
    "## Definition 1\n",
    "\n",
    "A **random variable** $X$ is a measurable function\n",
    "$X:\\Omega\\longrightarrow\\mathbb{R}$.\n",
    "\n",
    "The cumulative distribution function (CDF) $F_X$ of a random variable\n",
    "$X$ is defined by $F_X(x) = \\mathbb{P}(X\\leq x).$\n",
    "\n",
    "A **stochastic process** is an indexed family of random variables\n",
    "${\\{X_t\\}_{t\\in T}}$, where the indexing set $T$ is not necessarily\n",
    "countable, and the index $t$ is often interpreted as time."
   ]
  },
  {
   "cell_type": "markdown",
   "id": "567c7aaf-90dd-4320-ac08-fd3ce42fd5bc",
   "metadata": {},
   "source": [
    "## Definition 2\n",
    "\n",
    "$X$ is said to be a **continuous** random variable if its law\n",
    "$\\,\\mathbb{P}_X = \\mathbb{P}\\circ X^{-1}$ is absolutely continuous with\n",
    "respect to the Lebesgue measure $\\lambda$ as a measure on $\\mathbb{R}$. That is, if\n",
    "\n",
    "$$\\forall \\, N \\in \\mathcal{B}(\\mathbb{R}):$$\n",
    "$$\\lambda(N) = 0 \\Rightarrow \\mathbb{P}(X \\in N) = 0.$$\n",
    "\n",
    "By the Radon-Nikodym theorem, a random variable $X$ is continuous if\n",
    "(and only if) there exists a measurable function\n",
    "$f_X : \\mathbb{R} \\longrightarrow [0,\\infty)$ such that for all\n",
    "$\\, B \\in \\mathcal{B}(\\mathbb{R})$,\n",
    "\n",
    "$$\\mathbb{P}(X\\in B) = \\int_B f_X\\,\\text{d}\\lambda.$$\n",
    "\n",
    "The function $f$ is called the probability density function (PDF) of $X$\n",
    "and is unique up to equality almost everywhere.\n",
    "\n",
    "\n",
    "\n",
    "\n",
    "Unless otherwise stated we now assume that a random variable $X$ is\n",
    "continuous and has density $f$."
   ]
  },
  {
   "cell_type": "markdown",
   "id": "40b71259-5944-4b33-b262-ef170df99d1c",
   "metadata": {},
   "source": [
    "## Definition 3\n",
    "\n",
    "The **expectation** $\\mathbb{E}[X]$ of a random variable $X$ is simply\n",
    "its Lebesgue integral with respect to $\\mathbb{P}$ $$\\begin{aligned}\n",
    "    \\mathbb{E}[X] &= \\int_\\Omega X \\, \\text{d}\\mathbb{P}\\\\\n",
    "    &= \\int_\\mathbb{R} xf(x) \\,\\text{d} x.\n",
    "\\end{aligned}$$ \n",
    "\n",
    "The $k^{th}$ moment of $f$ around the non-random value\n",
    "$c\\in\\mathbb{R}$ is\n",
    "\n",
    "$$\\mathbb{E}\\left[(X-c)^k\\right] = \\int_{-\\infty}^{\\infty} (x-c)^kf(x)\\,\\text{d} x.$$\n",
    "\n",
    "The $k^{th}$ raw moment is the $k^{th}$ moment around the origin, $c=0$,\n",
    "$$\\mathbb{E}[X^k] = \\int_{-\\infty}^{\\infty} x^kf(x)\\,\\text{d} x.$$\n",
    "\n",
    "For example, the $1^{st}$ raw moment is the distribution's mean,\n",
    "$\\mu = \\mathbb{E}[X]$.\n",
    "\n",
    "The $k^{th}$ central moment is the $k^{th}$ moment around the mean,\n",
    "$c = \\mu = \\mathbb{E}[X]$,\n",
    "\n",
    "$$\\mathbb{E}[(X-\\mu)^k] = \\int_{-\\infty}^{\\infty} (x-\\mu)^kf(x)\\,\\text{d} x.$$\n",
    "\n",
    "For example, the $2^{nd}$ central moment is the distribution's variance,\n",
    "$\\sigma^2 = \\mathbb{E}\\left[(X-\\mu)^2\\right]$.\n",
    "\n",
    "By abuse of language, it is common to refer to integrals of the form\n",
    "$\\int r(x)f(x)\\,\\text{d} x$ as 'moments' even when the function $r$ is not a\n",
    "polynomial in $x$.\n"
   ]
  },
  {
   "cell_type": "markdown",
   "id": "748d9417-e1ca-41d4-a6ee-39eab9863bd9",
   "metadata": {},
   "source": [
    "## Definition 4\n",
    "\n",
    "A **random vector** $\\mathbf{X}\\in\\mathbb{R}^n$ is an n-tuple of random\n",
    "variables\n",
    "\n",
    "$$\\mathbf{X}=(X_1,\\ldots,X_n) : \\Omega \\longrightarrow \\mathbb{R}^n.$$\n",
    "\n",
    "The joint CDF $F_{X,Y}$ of a pair of random variables $X,\\,Y$ is defined\n",
    "as\n",
    "\n",
    "$$F_{X,Y}(x,y) = \\mathbb{P}(X\\leq x, Y\\leq y).$$\n",
    "\n",
    "From the joint CDF $F_{X,Y}$ we can recover the marginal CDFs $F_X$,\n",
    "$F_Y$ by sending the other variable to infinity:\n",
    "\n",
    "$$\\lim_{y\\to\\infty}F_{X,Y}(x,y) = F_X(x),\\quad \\lim_{x\\to\\infty}F_{X,Y}(x,y) = F_Y(y).$$\n",
    "\n",
    "X and Y are **jointly continuous** if their joint law is absolutely\n",
    "continuous with respect to the two-dimensional Lebesgue measure\n",
    "$\\lambda_2$ on $(\\mathbb{R}^2,\\mathcal{B}(\\mathbb{R}^2)).$ By the\n",
    "Radon-Nikodym theorem, X and Y are jointly continuous if (and only if)\n",
    "there exists a measurable function\n",
    "$f_{X,Y} : \\mathbb{R}^2 \\longrightarrow [0,\\infty)$ such that for all\n",
    "$\\, B \\in \\mathcal{B}(\\mathbb{R}^2)$,\n",
    "\n",
    "$$\\mathbb{P}((X,Y)\\in B) = \\int_B f_{X,Y}\\,\\text{d}\\lambda_2,$$ \n",
    "\n",
    "where\n",
    "$f_{X,Y}$ is called the **joint PDF** of X and Y. The marginal PDFs\n",
    "$f_X$, $f_Y$ can be obtained from $f_{X,Y}$ by integrating out the other\n",
    "variable:\n",
    "\n",
    "$$f_X(x) = \\int_{-\\infty}^{\\infty} f_{X,Y}(x,y)\\,\\text{d} y, \\quad f_Y(y) = \\int_{-\\infty}^{\\infty} f_{X,Y}(x,y)\\,\\text{d} x.$$\n",
    "\n",
    "In particular, jointly continuous random variables are automatically\n",
    "marginally continuous, although the converse is not true in general.\n",
    "\n",
    "Analagously, $X_1,\\dots,X_n$ are jointly continuous if their joint\n",
    "    law is absolutely continuous with respect to $\\lambda_n$, or\n",
    "    equivalently if there exists a joint PDF for $(X_1,\\dots,X_n)$."
   ]
  },
  {
   "cell_type": "markdown",
   "id": "46776f56-6cf9-4f4e-b3c6-c5a31dffd2ce",
   "metadata": {},
   "source": [
    "## Definition 5\n",
    "\n",
    "Given continuous random variables $X$ and $Y$ with $f_Y(y)>0$ we define:\n",
    "\n",
    "1.  The conditional CDF $F_{X|Y}$ of $X$ given Y by\n",
    "\n",
    "    $$F_{X|Y}(x|y) = \\frac{\\int_{-\\infty}^{x}f_{X,Y}(u,y)\\,\\text{d} u}{f_Y(y)}.$$\n",
    "\n",
    "2.  The conditional PDF $f_{X|Y}$ of $X$ given $Y$ by\n",
    "\n",
    "    $$f_{X|Y}(x|y) = \\frac{f_{X,Y}(x,y)}{f_Y(y)}.$$\n",
    "\n",
    "3.  The conditional probability of the event $\\{ X\\in A\\}$,\n",
    "    $A\\in\\mathcal{B}(\\mathbb{R)}$, given that $Y = y$ by\n",
    "\n",
    "    $$\\mathbb{P}(X\\in A|Y = y) = \\int_A f_{X|Y}(x|y)\\,\\text{d} x.$$\n"
   ]
  },
  {
   "cell_type": "markdown",
   "id": "fdc6fe84-b0f3-4598-8558-602d688797ad",
   "metadata": {},
   "source": [
    "## Definition 6\n",
    "\n",
    "Random variables $X$ and $Y$ are said to be **independent** if their\n",
    "joint CDF $F_{X,Y}$ factorises into the tensor product of the\n",
    "marginals:\n",
    "\n",
    "$$F_{X,Y}(x,y) = F_X(x)F_Y(y).$$\n",
    "\n",
    "Equivalently, if X and Y are jointly continuous then we say they are\n",
    "independent if their joint PDF $f_{X,Y}$ factorises into the tensor\n",
    "product of the marginals:\n",
    "\n",
    "$$f_{X,Y}(x,y) = f_X(x)f_Y(y)\\quad\\text{a.e.}$$\n",
    "\n",
    "Where for $f,g:E\\longrightarrow \\mathbb{R}$ the **tensor product**\n",
    "    $f\\otimes g : E^2\\longrightarrow \\mathbb{R}$ is defined by\n",
    "    $f\\otimes g(x,y) = f(x)g(y).$"
   ]
  },
  {
   "cell_type": "markdown",
   "id": "3a5da8f2-144a-4ded-a6e8-e97e6119301b",
   "metadata": {},
   "source": [
    "## Remark 1\n",
    "\n",
    " This is not the most compact and elegant way of defining independence of random variables through the independence of the $\\sigma$-algebras they generate. However this definition is equivalent, more intuitive and will suffice for our purposes. \n",
    " "
   ]
  },
  {
   "cell_type": "markdown",
   "id": "d16714d2-57ac-4c6a-b317-494e444c2118",
   "metadata": {},
   "source": [
    "# References\n",
    "\n",
    "1. Josephine Evans. *MA359 Measure Theory*, 2022. Warwick Mathematics Institute, University of Warwick.\n",
    "2. Paul Chleboun. *ST318 Probability Theory*, 2022. Department of Statistics, University of Warwick.\n",
    "\n"
   ]
  }
 ],
 "metadata": {
  "kernelspec": {
   "display_name": "Python 3 (ipykernel)",
   "language": "python",
   "name": "python3"
  },
  "language_info": {
   "codemirror_mode": {
    "name": "ipython",
    "version": 3
   },
   "file_extension": ".py",
   "mimetype": "text/x-python",
   "name": "python",
   "nbconvert_exporter": "python",
   "pygments_lexer": "ipython3",
   "version": "3.11.4"
  }
 },
 "nbformat": 4,
 "nbformat_minor": 5
}
