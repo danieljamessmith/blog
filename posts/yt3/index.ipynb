{
 "cells": [
  {
   "cell_type": "markdown",
   "id": "70ab31e8-2415-4940-b7d1-118406576547",
   "metadata": {},
   "source": [
    "---\n",
    "title: \"Implementing Variational AutoEncoders (VAEs) in PyTorch\"\n",
    "author: \"Daniel J Smith\"\n",
    "date: \"2024-04-14\"\n",
    "categories: [Python, ML, Deep Learning, PyTorch]\n",
    "title-block-banner: false\n",
    "jupyter: python3\n",
    "image: 'vae.png'\n",
    "draft: false\n",
    "description: \"Explore the implementation of Variational AutoEncoders (VAEs) in PyTorch. This notebook provides a brief overview of VAEs and their function. The focus is on the implementation and comparison of both 1 and 2 hidden layer VAEs. The VAEs are trained on the MNIST dataset and are then used to generate new examples of handwritten digits.\"\n",
    "---"
   ]
  },
  {
   "cell_type": "code",
   "execution_count": 1,
   "id": "60d935c4",
   "metadata": {},
   "outputs": [],
   "source": [
    "import torch\n",
    "from torch import nn\n",
    "\n",
    "import torchvision.datasets as datasets\n",
    "from torchvision import transforms\n",
    "from torch.utils.data import DataLoader\n",
    "\n",
    "import numpy as np\n",
    "import matplotlib.pyplot as plt\n",
    "\n",
    "from tqdm import tqdm   # Progress Bar"
   ]
  },
  {
   "cell_type": "markdown",
   "id": "85b770a5",
   "metadata": {},
   "source": [
    "**Table of contents**<a id='toc0_'></a>    \n",
    "1. [Variational AutoEncoders (VAEs)](#toc1_)    \n",
    "2. [Single-Hidden-Layer VAE](#toc2_)    \n",
    "2.1. [Hyperparameters](#toc2_1_)    \n",
    "2.2. [Initialising Single-Layer VAE model](#toc2_2_)    \n",
    "2.3. [The Dataset](#toc2_3_)    \n",
    "2.3.1. [MNIST](#toc2_3_1_)    \n",
    "2.3.2. [Data Loading](#toc2_3_2_)    \n",
    "2.4. [Training](#toc2_4_)    \n",
    "2.4.1. [Training Function `train_vae`](#toc2_4_1_)    \n",
    "2.5. [Visualising Results](#toc2_5_)    \n",
    "3. [Double-Hidden-Layer VAE](#toc3_)    \n",
    "3.1. [Hyperparameters](#toc3_1_)    \n",
    "3.2. [Initialising Double-Layer VAE model](#toc3_2_)    \n",
    "3.3. [Training](#toc3_3_)    \n",
    "3.4. [Visualing Results](#toc3_4_)    \n",
    "4. [Remarks and Further Directions](#toc4_)    \n",
    "\n",
    "<!-- vscode-jupyter-toc-config\n",
    "\tnumbering=true\n",
    "\tanchor=true\n",
    "\tflat=true\n",
    "\tminLevel=1\n",
    "\tmaxLevel=5\n",
    "\t/vscode-jupyter-toc-config -->\n",
    "<!-- THIS CELL WILL BE REPLACED ON TOC UPDATE. DO NOT WRITE YOUR TEXT IN THIS CELL -->"
   ]
  },
  {
   "cell_type": "markdown",
   "id": "933168d4",
   "metadata": {},
   "source": [
    "# 1. <a id='toc1_'></a>[Variational AutoEncoders (VAEs)](#toc0_)\n",
    "\n",
    "Variational AutoEncoders (VAEs) are a type of generative model designed to capture the underlying probability distribution of a given dataset and generate novel samples. They utilize an architecture that comprises of an encoder-decoder structure:\n",
    "\n",
    "<img src=\"vae.png\">\n",
    "\n",
    "In a nutshell, a VAE is an autoencoder whose encodings distribution is regularised during the training to ensure that its latent space has good properties allowing us to generate some new data. The term “variational” comes from the close relation there is between the regularisation and the variational inference method in statistics.\n",
    "\n",
    "VAEs tackle the problem of the latent space irregularity by making the encoder return a distribution over the latent space instead of a single point and by adding in the loss function a regularisation term over that returned distribution in order to ensure a better organisation of the latent space.\n",
    "\n",
    "For more details see the VAE wikipedia page:\n",
    "\n",
    "> - [https://en.wikipedia.org/wiki/Variational_autoencoder](https://en.wikipedia.org/wiki/Variational_autoencoder)\n",
    "\n",
    "\n",
    "In this post we implement a 1 and 2 hidden layer VAE in PyTorch trained on the MNIST dataset and use the trained models to generate novel examples of handwritten digits."
   ]
  },
  {
   "cell_type": "markdown",
   "metadata": {},
   "source": [
    "# 2. <a id='toc2_'></a>[Single-Hidden-Layer VAE](#toc0_)"
   ]
  },
  {
   "cell_type": "code",
   "execution_count": 2,
   "id": "df2b7054",
   "metadata": {},
   "outputs": [],
   "source": [
    "class VariationalAutoEncoder(nn.Module):\n",
    "    \"\"\"\n",
    "    A Variational AutoEncoder (VAE) with a single hidden layer in the encoder and decoder.\n",
    "\n",
    "    Args:\n",
    "    input_dim (int): The dimension of the input data.\n",
    "    h_dim (int, optional): The dimension of the hidden layer. Defaults to 200.\n",
    "    z_dim (int, optional): The dimension of the latent space. Defaults to 20.\n",
    "    \"\"\"\n",
    "    def __init__(self, input_dim, h_dim=200, z_dim=20):\n",
    "        super().__init__()\n",
    "        # Encoder\n",
    "        self.img_2hid = nn.Linear(input_dim, h_dim)\n",
    "        self.hid_2mu = nn.Linear(h_dim, z_dim)\n",
    "        self.hid_2logvar = nn.Linear(h_dim, z_dim)\n",
    "\n",
    "        # Decoder\n",
    "        self.z_2hid = nn.Linear(z_dim, h_dim)\n",
    "        self.hid_2img = nn.Linear(h_dim, input_dim)\n",
    "\n",
    "        self.relu = nn.ReLU()\n",
    "\n",
    "    def encode(self, x):\n",
    "        \"\"\"\n",
    "        Encodes the input into a distribution over the latent space.\n",
    "\n",
    "        Args:\n",
    "        x (Tensor): The input data.\n",
    "\n",
    "        Returns:\n",
    "        tuple of Tensor: The mean and log variance of the latent distribution.\n",
    "        \"\"\"\n",
    "        h = self.relu(self.img_2hid(x))\n",
    "        mu, logvar = self.hid_2mu(h), self.hid_2logvar(h)\n",
    "        return mu, logvar\n",
    "\n",
    "    def reparameterize(self, mu, logvar):\n",
    "        \"\"\"\n",
    "        Generates a latent vector by reparameterization.\n",
    "\n",
    "        Args:\n",
    "        mu (Tensor): The mean of the latent distribution.\n",
    "        logvar (Tensor): The log variance of the latent distribution.\n",
    "\n",
    "        Returns:\n",
    "        Tensor: The latent vector.\n",
    "        \"\"\"\n",
    "        std = torch.exp(0.5*logvar)\n",
    "        eps = torch.randn_like(std)\n",
    "        return mu + eps*std\n",
    "\n",
    "    def decode(self, z):\n",
    "        \"\"\"\n",
    "        Decodes a latent vector into the input space.\n",
    "\n",
    "        Args:\n",
    "        z (Tensor): The latent vector.\n",
    "\n",
    "        Returns:\n",
    "        Tensor: The decoded data.\n",
    "        \"\"\"\n",
    "        h = self.relu(self.z_2hid(z))\n",
    "        return torch.sigmoid(self.hid_2img(h))\n",
    "\n",
    "    def forward(self, x):\n",
    "        \"\"\"\n",
    "        Performs a forward pass through the model.\n",
    "\n",
    "        Args:\n",
    "        x (Tensor): The input data.\n",
    "\n",
    "        Returns:\n",
    "        tuple of Tensor: The decoded data, mean and log variance of the latent distribution.\n",
    "        \"\"\"\n",
    "        mu, logvar = self.encode(x)\n",
    "        z = self.reparameterize(mu, logvar)\n",
    "        return self.decode(z), mu, logvar\n"
   ]
  },
  {
   "cell_type": "markdown",
   "metadata": {},
   "source": [
    "## 2.1. <a id='toc2_1_'></a>[Hyperparameters](#toc0_)"
   ]
  },
  {
   "cell_type": "code",
   "execution_count": 3,
   "id": "1dce9a43",
   "metadata": {},
   "outputs": [],
   "source": [
    "# Configuration\n",
    "# Set the device for computation, prefer GPU (cuda) if available, else use CPU\n",
    "DEVICE = torch.device(\"cuda\" if torch.cuda.is_available() else \"cpu\")\n",
    "\n",
    "# The dimension of the input data. For MNIST, images are 28x28 pixels, so the input dimension is 784.\n",
    "INPUT_DIM = 784\n",
    "\n",
    "# The dimension of the hidden layer in the VAE.\n",
    "H_DIM = 200\n",
    "\n",
    "# The dimension of the latent space in the VAE. This is the dimension of the random variable z in the VAE.\n",
    "Z_DIM = 50\n",
    "\n",
    "# The number of epochs to train the model. An epoch is one complete pass through the entire training dataset.\n",
    "NUM_EPOCHS = 10\n",
    "\n",
    "# The number of samples per batch. The model parameters are updated once per batch.\n",
    "BATCH_SIZE = 32\n",
    "\n",
    "# The learning rate for the Adam optimizer.\n",
    "LR = 3e-4"
   ]
  },
  {
   "cell_type": "markdown",
   "metadata": {},
   "source": [
    "## 2.2. <a id='toc2_2_'></a>[Initialising Single-Layer VAE model](#toc0_)"
   ]
  },
  {
   "cell_type": "code",
   "execution_count": 4,
   "id": "18fb4a0a",
   "metadata": {},
   "outputs": [],
   "source": [
    "# Initialise Model\n",
    "# Create an instance of the VariationalAutoEncoder class with the specified input, hidden, and latent dimensions.\n",
    "# The model is moved to the specified device (either CPU or GPU) for computation.\n",
    "model = VariationalAutoEncoder(INPUT_DIM, H_DIM, Z_DIM).to(DEVICE)\n",
    "\n",
    "# Optimizer\n",
    "# The Adam optimizer is used for updating the parameters of the model.\n",
    "# The learning rate (LR) is a hyperparameter that controls how much the weights of the network will change in response to the gradient.\n",
    "optimizer = torch.optim.Adam(model.parameters(), lr=LR)\n",
    "\n",
    "# Loss Function\n",
    "# The Binary Cross Entropy (BCE) loss function is used as the reconstruction loss for the VAE.\n",
    "# This loss function measures the error between the reconstructed image and the original image.\n",
    "# The 'sum' reduction mode is used, which means the losses are summed over all elements in the output.\n",
    "loss_fn = nn.BCELoss(reduction=\"sum\")"
   ]
  },
  {
   "cell_type": "markdown",
   "id": "08a05d36",
   "metadata": {},
   "source": [
    "## 2.3. <a id='toc2_3_'></a>[The Dataset](#toc0_)"
   ]
  },
  {
   "cell_type": "markdown",
   "id": "e3b3fadb",
   "metadata": {},
   "source": [
    "### 2.3.1. <a id='toc2_3_1_'></a>[MNIST](#toc0_)\n",
    "\n",
    "The **MNIST dataset** is a large database of handwritten digits that is commonly used for training various image processing systems. It contains **60,000 training images** and **10,000 testing images**. Each image is a grayscale 28x28 pixel representation of a digit.\n",
    "\n",
    "<img src=\"OIP.jpg\">\n",
    "\n",
    "For more details see the MNIST wikipedia page:\n",
    "\n",
    "> - [https://en.wikipedia.org/wiki/MNIST_database](https://en.wikipedia.org/wiki/MNIST_database)"
   ]
  },
  {
   "cell_type": "markdown",
   "metadata": {},
   "source": [
    "### 2.3.2. <a id='toc2_3_2_'></a>[Data Loading](#toc0_)\n",
    "\n",
    "The dataset is loaded from a local directory named `dataset/`. If the dataset is not available in this directory, it will be downloaded. The images from the dataset are transformed into tensors using the `transforms.ToTensor()` function from PyTorch. This converts the images from a PIL Image or numpy `ndarray` into tensor format.\n",
    "\n",
    "After loading the dataset, we use PyTorch's `DataLoader` to shuffle and batch the data. Shuffling the data ensures that the model's performance is not affected by the order of the data in the dataset. The `batch_size` parameter for the DataLoader is set to `BATCH_SIZE`."
   ]
  },
  {
   "cell_type": "code",
   "execution_count": 5,
   "id": "384f095e",
   "metadata": {},
   "outputs": [],
   "source": [
    "# Dataset loading\n",
    "# Load the MNIST dataset. If it's not available in the local directory, download it.\n",
    "# The images are transformed to tensors using transforms.ToTensor().\n",
    "dataset = datasets.MNIST(root=\"dataset/\",\n",
    "                         train=True,\n",
    "                         transform=transforms.ToTensor(),\n",
    "                         download=True)\n",
    "\n",
    "# DataLoader is used to shuffle and batch the data.\n",
    "# Shuffling helps to make sure that the model is not affected by the order of the data in the dataset.\n",
    "train_loader = DataLoader(dataset=dataset,\n",
    "                          batch_size=BATCH_SIZE,\n",
    "                          shuffle=True)"
   ]
  },
  {
   "cell_type": "markdown",
   "id": "e49d35e4",
   "metadata": {},
   "source": [
    "## 2.4. <a id='toc2_4_'></a>[Training](#toc0_)"
   ]
  },
  {
   "cell_type": "markdown",
   "metadata": {},
   "source": [
    "### 2.4.1. <a id='toc2_4_1_'></a>[Training Function `train_vae`](#toc0_)\n",
    "\n",
    "The `train_vae` function is implemented and used to train the VAE model.\n",
    "\n",
    ">  **Training Loop**:\n",
    ">\n",
    ">    - The model is set to training mode at the start.\n",
    ">\n",
    ">    - For each epoch, the function initializes the total loss for the epoch (`epoch_loss`).\n",
    ">\n",
    ">    - It then loops over the training data. For each batch, it performs a forward pass, computes the loss, performs backpropagation, and updates the model parameters.\n",
    "\n",
    "<br>\n",
    "\n",
    "> **Loss Function**:\n",
    ">\n",
    ">    - The loss function consists of two parts: the reconstruction loss and the Kullback-Leibler (KL) divergence.\n",
    ">\n",
    ">    - The **reconstruction loss** (`reconstruction_loss`) measures how well the model can reconstruct the input.\n",
    ">\n",
    ">    - The **KL divergence** (`kl_div`) measures how much the latent distribution deviates from a standard normal distribution. It is computed as `-0.5 * torch.sum(1 + logvar - mu.pow(2) - logvar.exp())`.\n",
    "\n",
    "For a precise definition of the KL divergence, see my previous blog post: \n",
    "\n",
    ">  [\"The Boltzmann Equation - 3. Information Theory\"](https://danieljamessmith.github.io/blog/posts/bte3/#definition-2.2.1---kl-divergence)"
   ]
  },
  {
   "cell_type": "code",
   "execution_count": 6,
   "id": "27fa1eee-8f15-433d-bc58-03ce9eb8b395",
   "metadata": {},
   "outputs": [],
   "source": [
    "def train_vae(model, train_loader, optimizer, loss_fn, num_epochs, device):\n",
    "    \"\"\"\n",
    "    Train a Variational AutoEncoder (VAE) model.\n",
    "\n",
    "    Args:\n",
    "    model (nn.Module): The VAE model.\n",
    "    train_loader (DataLoader): The DataLoader for the training data.\n",
    "    optimizer (Optimizer): The optimizer for the model.\n",
    "    loss_fn (Loss): The loss function to use.\n",
    "    num_epochs (int): The number of epochs to train for.\n",
    "    device (torch.device): The device to train the model on.\n",
    "    \"\"\"\n",
    "    # Ensure model is in training mode\n",
    "    model.train()\n",
    "\n",
    "    # Start Training\n",
    "    for epoch in range(num_epochs):\n",
    "        # Initialize the loss for this epoch\n",
    "        epoch_loss = 0.0\n",
    "\n",
    "        # tqdm is used to show a progress bar for the training loop\n",
    "        loop = tqdm(enumerate(train_loader), total=len(train_loader), leave=True)\n",
    "        for i, (x, _) in loop:\n",
    "            # Forward Pass:\n",
    "            # Move the input to the device and reshape it\n",
    "            x = x.to(device).view(x.shape[0], -1)\n",
    "            # Pass the input through the model to get the reconstructed output and the parameters of the latent distribution\n",
    "            x_reconstructed, mu, logvar = model(x)\n",
    "\n",
    "            # Compute Loss:\n",
    "            # Compute the reconstruction loss (how well the model can reconstruct the input)\n",
    "            reconstruction_loss = loss_fn(x_reconstructed, x)\n",
    "            # Compute the KL divergence loss (how much the latent distribution deviates from a standard normal distribution)\n",
    "            kl_div = -0.5 * torch.sum(1 + logvar - mu.pow(2) - logvar.exp())\n",
    "\n",
    "            # Backpropagation:\n",
    "            # Compute the total loss, perform backpropagation to compute gradients, and update the model parameters\n",
    "            loss = reconstruction_loss + kl_div \n",
    "            optimizer.zero_grad()\n",
    "            loss.backward()\n",
    "            optimizer.step()\n",
    "\n",
    "            # Add the loss for this batch to the total loss for this epoch\n",
    "            epoch_loss += loss.item()\n",
    "\n",
    "            # Update the progress bar with the current loss\n",
    "            loop.set_description(f\"Epoch [{epoch+1}/{num_epochs}]\")\n",
    "            loop.set_postfix(loss=epoch_loss / (i+1))\n",
    "\n",
    "    print(\"Training completed.\")"
   ]
  },
  {
   "cell_type": "code",
   "execution_count": 7,
   "id": "403eb639",
   "metadata": {},
   "outputs": [
    {
     "name": "stderr",
     "output_type": "stream",
     "text": [
      "Epoch [1/10]: 100%|█████████████████████████████████████████████████| 1875/1875 [00:17<00:00, 104.52it/s, loss=5.78e+3]\n",
      "Epoch [2/10]: 100%|█████████████████████████████████████████████████| 1875/1875 [00:18<00:00, 103.98it/s, loss=4.41e+3]\n",
      "Epoch [3/10]: 100%|█████████████████████████████████████████████████| 1875/1875 [00:18<00:00, 103.65it/s, loss=4.05e+3]\n",
      "Epoch [4/10]: 100%|█████████████████████████████████████████████████| 1875/1875 [00:17<00:00, 105.10it/s, loss=3.85e+3]\n",
      "Epoch [5/10]: 100%|█████████████████████████████████████████████████| 1875/1875 [00:17<00:00, 104.45it/s, loss=3.73e+3]\n",
      "Epoch [6/10]: 100%|█████████████████████████████████████████████████| 1875/1875 [00:18<00:00, 102.88it/s, loss=3.65e+3]\n",
      "Epoch [7/10]: 100%|██████████████████████████████████████████████████| 1875/1875 [00:18<00:00, 102.84it/s, loss=3.6e+3]\n",
      "Epoch [8/10]: 100%|█████████████████████████████████████████████████| 1875/1875 [00:17<00:00, 104.33it/s, loss=3.56e+3]\n",
      "Epoch [9/10]: 100%|█████████████████████████████████████████████████| 1875/1875 [00:18<00:00, 102.58it/s, loss=3.53e+3]\n",
      "Epoch [10/10]: 100%|████████████████████████████████████████████████| 1875/1875 [00:18<00:00, 102.18it/s, loss=3.51e+3]"
     ]
    },
    {
     "name": "stdout",
     "output_type": "stream",
     "text": [
      "Training completed.\n"
     ]
    },
    {
     "name": "stderr",
     "output_type": "stream",
     "text": [
      "\n"
     ]
    }
   ],
   "source": [
    "train_vae(model, train_loader, optimizer, loss_fn, NUM_EPOCHS, DEVICE)"
   ]
  },
  {
   "cell_type": "markdown",
   "metadata": {},
   "source": [
    "## 2.5. <a id='toc2_5_'></a>[Visualising Results](#toc0_)"
   ]
  },
  {
   "cell_type": "code",
   "execution_count": 8,
   "id": "f7d99ebd-9b82-487e-9f49-92ff7c5bf206",
   "metadata": {},
   "outputs": [],
   "source": [
    "def inference(model, digit, num_examples=1, plot=False):\n",
    "    \"\"\"\n",
    "    Generate `num_examples` of the specified `digit` using the provided VAE `model`.\n",
    "\n",
    "    Args:\n",
    "    model (nn.Module): The Variational AutoEncoder model.\n",
    "    digit (int): The digit to generate (0-9).\n",
    "    num_examples (int, optional): The number of examples to generate. Defaults to 1.\n",
    "    plot (bool, optional): Whether to plot the generated images. Defaults to False.\n",
    "\n",
    "    Returns:\n",
    "    list of Tensor: The generated images.\n",
    "    \"\"\"\n",
    "    # Ensure model is in evaluation mode\n",
    "    model.eval()\n",
    "\n",
    "    # Extract an example of the specified digit from the dataset\n",
    "    image = None\n",
    "    for x, y in train_loader.dataset:\n",
    "        if y == digit:\n",
    "            image = x\n",
    "            break\n",
    "\n",
    "    # Get the mean and logvar for the specified digit\n",
    "    mu, logvar = model.encode(image.view(1, 784).to(DEVICE))\n",
    "\n",
    "    # Create a list to store the output images\n",
    "    out_images = []\n",
    "\n",
    "    for example in range(num_examples):\n",
    "        # Create a latent vector\n",
    "        std = torch.exp(0.5 * logvar)\n",
    "        eps = torch.randn_like(std).to(DEVICE)\n",
    "        z = mu + eps * std\n",
    "\n",
    "        # Decode the latent vector\n",
    "        with torch.no_grad():\n",
    "            out = model.decode(z)\n",
    "\n",
    "        # Reshape the output and move it to CPU\n",
    "        out = out.view(-1, 1, 28, 28).cpu()\n",
    "\n",
    "        # Add the output image to the list\n",
    "        out_images.append(out)\n",
    "\n",
    "        # Plot the image if plot is True\n",
    "        if plot:\n",
    "            plt.imshow(out[0].detach().numpy().reshape(28, 28), cmap='gray')\n",
    "            plt.axis('off')\n",
    "            plt.show()\n",
    "            return None\n",
    "\n",
    "    return out_images\n"
   ]
  },
  {
   "cell_type": "code",
   "execution_count": 9,
   "id": "2e0973b5-2934-4f1b-a1d9-9b9412293737",
   "metadata": {},
   "outputs": [
    {
     "data": {
      "image/png": "[encoded data removed]",
      "text/plain": [
       "<Figure size 640x480 with 1 Axes>"
      ]
     },
     "metadata": {},
     "output_type": "display_data"
    }
   ],
   "source": [
    "inference(model, digit=1, plot=True)"
   ]
  },
  {
   "cell_type": "code",
   "execution_count": 10,
   "id": "d37d6180-6973-4fbe-8605-af2e021585f2",
   "metadata": {},
   "outputs": [
    {
     "data": {
      "image/png": "[encoded data removed]",
      "text/plain": [
       "<Figure size 640x480 with 1 Axes>"
      ]
     },
     "metadata": {},
     "output_type": "display_data"
    }
   ],
   "source": [
    "inference(model, digit=6, plot=True)"
   ]
  },
  {
   "cell_type": "code",
   "execution_count": 11,
   "id": "b3c5f21e-9b2c-4b85-85c1-5a61ecd1f4f9",
   "metadata": {},
   "outputs": [],
   "source": [
    "def visualise_digits(model):\n",
    "    \"\"\"\n",
    "    Generate and plot an example of each digit (0-9) using the provided VAE `model`.\n",
    "\n",
    "    Args:\n",
    "    model (nn.Module): The Variational AutoEncoder model.\n",
    "    \"\"\"\n",
    "    # Ensure model is in evaluation mode\n",
    "    model.eval()\n",
    "\n",
    "    # Create a subplot for each digit in a 5x2 grid\n",
    "    fig, axs = plt.subplots(5, 2, figsize=(5, 10))\n",
    "    fig.subplots_adjust(hspace=0.5, wspace=0)\n",
    "\n",
    "    for digit in range(10):\n",
    "        # Generate an example of the digit\n",
    "        out_images = inference(model, digit, num_examples=1)\n",
    "\n",
    "        # Display the output image with a title\n",
    "        ax = axs[digit // 2, digit % 2]\n",
    "        ax.imshow(out_images[0][0].detach().numpy().reshape(28, 28), cmap='gray')\n",
    "        ax.axis('off')\n",
    "        ax.set_title(f'Generated Digit: {digit}')\n",
    "\n",
    "    plt.show()"
   ]
  },
  {
   "cell_type": "code",
   "execution_count": 12,
   "id": "5039c8fe",
   "metadata": {},
   "outputs": [
    {
     "data": {
      "image/png": "[encoded data removed]",
      "text/plain": [
       "<Figure size 500x1000 with 10 Axes>"
      ]
     },
     "metadata": {},
     "output_type": "display_data"
    }
   ],
   "source": [
    "visualise_digits(model)"
   ]
  },
  {
   "cell_type": "markdown",
   "metadata": {},
   "source": [
    "# 3. <a id='toc3_'></a>[Double-Hidden-Layer VAE](#toc0_)"
   ]
  },
  {
   "cell_type": "code",
   "execution_count": 13,
   "id": "5d74798e",
   "metadata": {},
   "outputs": [],
   "source": [
    "class VariationalAutoEncoder_nlayers(nn.Module):\n",
    "    \"\"\"\n",
    "    A Variational AutoEncoder (VAE) with a configurable number of hidden layers.\n",
    "\n",
    "    Args:\n",
    "    input_dim (int): The dimension of the input data.\n",
    "    h_dim1 (int, optional): The dimension of the first hidden layer. Defaults to 400.\n",
    "    h_dim2 (int, optional): The dimension of the second hidden layer. Defaults to 200.\n",
    "    z_dim (int, optional): The dimension of the latent space. Defaults to 20.\n",
    "    num_layers (int, optional): The number of hidden layers in the encoder and decoder (1 or 2). Defaults to 1.\n",
    "    \"\"\"\n",
    "    def __init__(self, input_dim, h_dim1=400, h_dim2=200, z_dim=20, num_layers=1):\n",
    "        super().__init__()\n",
    "        self.num_layers = num_layers\n",
    "\n",
    "        # Encoder\n",
    "        self.img_2hid1 = nn.Linear(input_dim, h_dim1)\n",
    "        if num_layers == 2:\n",
    "            self.hid1_2hid2 = nn.Linear(h_dim1, h_dim2)\n",
    "            self.hid2_2mu = nn.Linear(h_dim2, z_dim)\n",
    "            self.hid2_2logvar = nn.Linear(h_dim2, z_dim)\n",
    "        else:\n",
    "            self.hid2_2mu = nn.Linear(h_dim1, z_dim)\n",
    "            self.hid2_2logvar = nn.Linear(h_dim1, z_dim)\n",
    "\n",
    "        # Decoder\n",
    "        if num_layers == 2:\n",
    "            self.z_2hid2 = nn.Linear(z_dim, h_dim2)\n",
    "            self.hid2_2hid1 = nn.Linear(h_dim2, h_dim1)\n",
    "        else:\n",
    "            self.z_2hid2 = nn.Linear(z_dim, h_dim1)\n",
    "        self.hid1_2img = nn.Linear(h_dim1, input_dim)\n",
    "\n",
    "        self.relu = nn.ReLU()\n",
    "\n",
    "    def encode(self, x):\n",
    "        \"\"\"\n",
    "        Encodes the input into a distribution over the latent space.\n",
    "\n",
    "        Args:\n",
    "        x (Tensor): The input data.\n",
    "\n",
    "        Returns:\n",
    "        tuple of Tensor: The mean and log variance of the latent distribution.\n",
    "        \"\"\"\n",
    "        h1 = self.relu(self.img_2hid1(x))\n",
    "        if self.num_layers == 2:\n",
    "            h2 = self.relu(self.hid1_2hid2(h1))\n",
    "            mu, logvar = self.hid2_2mu(h2), self.hid2_2logvar(h2)\n",
    "        else:\n",
    "            mu, logvar = self.hid2_2mu(h1), self.hid2_2logvar(h1)\n",
    "        return mu, logvar\n",
    "\n",
    "    def reparameterize(self, mu, logvar):\n",
    "        \"\"\"\n",
    "        Generates a latent vector by reparameterization.\n",
    "\n",
    "        Args:\n",
    "        mu (Tensor): The mean of the latent distribution.\n",
    "        logvar (Tensor): The log variance of the latent distribution.\n",
    "\n",
    "        Returns:\n",
    "        Tensor: The latent vector.\n",
    "        \"\"\"\n",
    "        std = torch.exp(0.5*logvar)\n",
    "        eps = torch.randn_like(std)\n",
    "        return mu + eps*std\n",
    "\n",
    "    def decode(self, z):\n",
    "        \"\"\"\n",
    "        Decodes a latent vector into the input space.\n",
    "\n",
    "        Args:\n",
    "        z (Tensor): The latent vector.\n",
    "\n",
    "        Returns:\n",
    "        Tensor: The decoded data.\n",
    "        \"\"\"\n",
    "        if self.num_layers == 2:\n",
    "            h2 = self.relu(self.z_2hid2(z))\n",
    "            h1 = self.relu(self.hid2_2hid1(h2))\n",
    "        else:\n",
    "            h1 = self.relu(self.z_2hid2(z))\n",
    "        return torch.sigmoid(self.hid1_2img(h1))\n",
    "\n",
    "    def forward(self, x):\n",
    "        \"\"\"\n",
    "        Performs a forward pass through the model.\n",
    "\n",
    "        Args:\n",
    "        x (Tensor): The input data.\n",
    "\n",
    "        Returns:\n",
    "        tuple of Tensor: The decoded data, mean and log variance of the latent distribution.\n",
    "        \"\"\"\n",
    "        mu, logvar = self.encode(x)\n",
    "        z = self.reparameterize(mu, logvar)\n",
    "        return self.decode(z), mu, logvar\n"
   ]
  },
  {
   "cell_type": "markdown",
   "metadata": {},
   "source": [
    "## 3.1. <a id='toc3_1_'></a>[Hyperparameters](#toc0_)"
   ]
  },
  {
   "cell_type": "code",
   "execution_count": 14,
   "id": "2afb23af",
   "metadata": {},
   "outputs": [],
   "source": [
    "# Configuration\n",
    "# Set the device for computation, prefer GPU (cuda) if available, else use CPU\n",
    "DEVICE = torch.device(\"cuda\" if torch.cuda.is_available() else \"cpu\")\n",
    "\n",
    "# The dimension of the input data. For MNIST, images are 28x28 pixels, so the input dimension is 784.\n",
    "INPUT_DIM = 784\n",
    "\n",
    "# The dimension of the first hidden layer in the VAE.\n",
    "H_DIM1 = 400\n",
    "\n",
    "# The dimension of the second hidden layer in the VAE.\n",
    "H_DIM2 = 200\n",
    "\n",
    "# The dimension of the latent space in the VAE. This is the dimension of the random variable z in the VAE.\n",
    "Z_DIM = 50\n",
    "\n",
    "# The number of epochs to train the model. An epoch is one complete pass through the entire training dataset.\n",
    "NUM_EPOCHS = 10\n",
    "\n",
    "# The number of samples per batch. The model parameters are updated once per batch.\n",
    "BATCH_SIZE = 32\n",
    "\n",
    "# The learning rate for the Adam optimizer.\n",
    "LR = 3e-4"
   ]
  },
  {
   "cell_type": "markdown",
   "metadata": {},
   "source": [
    "## 3.2. <a id='toc3_2_'></a>[Initialising Double-Layer VAE model](#toc0_)"
   ]
  },
  {
   "cell_type": "code",
   "execution_count": 15,
   "id": "ecef6739",
   "metadata": {},
   "outputs": [],
   "source": [
    "# Initialise Model\n",
    "# Create an instance of the VariationalAutoEncoder_nlayer class with the specified input, hidden, and latent dimensions. Set num_layers=2.\n",
    "# The model is moved to the specified device (either CPU or GPU) for computation.\n",
    "model_2layers = VariationalAutoEncoder_nlayers(INPUT_DIM, \n",
    "                                               H_DIM1, \n",
    "                                               H_DIM2, \n",
    "                                               Z_DIM, \n",
    "                                               num_layers=2).to(DEVICE)\n",
    "\n",
    "# Optimizer\n",
    "# The Adam optimizer is used for updating the parameters of the model.\n",
    "# The learning rate (LR) is a hyperparameter that controls how much the weights of the network will change in response to the gradient.\n",
    "optimizer = torch.optim.Adam(model_2layers.parameters(), lr=LR)\n",
    "\n",
    "# Loss Function\n",
    "# The Binary Cross Entropy (BCE) loss function is used as the reconstruction loss for the VAE.\n",
    "# This loss function measures the error between the reconstructed image and the original image.\n",
    "# The 'sum' reduction mode is used, which means the losses are summed over all elements in the output.\n",
    "loss_fn = nn.BCELoss(reduction=\"sum\")"
   ]
  },
  {
   "cell_type": "markdown",
   "metadata": {},
   "source": [
    "## 3.3. <a id='toc3_3_'></a>[Training](#toc0_)\n",
    "\n",
    "Using the `train_vae` model as defined for the Single-Hidden-Layer VAE model:"
   ]
  },
  {
   "cell_type": "code",
   "execution_count": 16,
   "id": "92348ad5",
   "metadata": {},
   "outputs": [
    {
     "name": "stderr",
     "output_type": "stream",
     "text": [
      "Epoch [1/10]: 100%|███████████████████████████████████████████████████| 1875/1875 [00:25<00:00, 74.91it/s, loss=5.7e+3]\n",
      "Epoch [2/10]: 100%|██████████████████████████████████████████████████| 1875/1875 [00:25<00:00, 74.91it/s, loss=4.33e+3]\n",
      "Epoch [3/10]: 100%|██████████████████████████████████████████████████| 1875/1875 [00:24<00:00, 75.31it/s, loss=3.89e+3]\n",
      "Epoch [4/10]: 100%|██████████████████████████████████████████████████| 1875/1875 [00:27<00:00, 68.30it/s, loss=3.68e+3]\n",
      "Epoch [5/10]: 100%|██████████████████████████████████████████████████| 1875/1875 [00:26<00:00, 70.11it/s, loss=3.56e+3]\n",
      "Epoch [6/10]: 100%|██████████████████████████████████████████████████| 1875/1875 [00:25<00:00, 72.26it/s, loss=3.48e+3]\n",
      "Epoch [7/10]: 100%|██████████████████████████████████████████████████| 1875/1875 [00:26<00:00, 72.02it/s, loss=3.43e+3]\n",
      "Epoch [8/10]: 100%|██████████████████████████████████████████████████| 1875/1875 [00:25<00:00, 73.71it/s, loss=3.39e+3]\n",
      "Epoch [9/10]: 100%|██████████████████████████████████████████████████| 1875/1875 [00:25<00:00, 74.50it/s, loss=3.36e+3]\n",
      "Epoch [10/10]: 100%|█████████████████████████████████████████████████| 1875/1875 [00:25<00:00, 73.04it/s, loss=3.33e+3]"
     ]
    },
    {
     "name": "stdout",
     "output_type": "stream",
     "text": [
      "Training completed.\n"
     ]
    },
    {
     "name": "stderr",
     "output_type": "stream",
     "text": [
      "\n"
     ]
    }
   ],
   "source": [
    "train_vae(model_2layers, train_loader, optimizer, loss_fn, NUM_EPOCHS, DEVICE)"
   ]
  },
  {
   "cell_type": "markdown",
   "metadata": {},
   "source": [
    "## 3.4. <a id='toc3_4_'></a>[Visualing Results](#toc0_)\n",
    "\n",
    "Using the `inference` and `visualize_digits` functions as defined for the Single-Hidden-Layer VAE model:"
   ]
  },
  {
   "cell_type": "code",
   "execution_count": 17,
   "id": "df2b67cb-5757-4d6e-9c9e-65a3f1ec03a8",
   "metadata": {},
   "outputs": [
    {
     "data": {
      "image/png": "[encoded data removed]",
      "text/plain": [
       "<Figure size 640x480 with 1 Axes>"
      ]
     },
     "metadata": {},
     "output_type": "display_data"
    }
   ],
   "source": [
    "inference(model_2layers, digit=1, plot=True)"
   ]
  },
  {
   "cell_type": "code",
   "execution_count": 18,
   "id": "54cad69c-1054-45c8-a1e0-4226d66b0eec",
   "metadata": {},
   "outputs": [
    {
     "data": {
      "image/png": "[encoded data removed]",
      "text/plain": [
       "<Figure size 640x480 with 1 Axes>"
      ]
     },
     "metadata": {},
     "output_type": "display_data"
    }
   ],
   "source": [
    "inference(model_2layers, digit=6, plot=True)"
   ]
  },
  {
   "cell_type": "code",
   "execution_count": 19,
   "id": "208cbefa",
   "metadata": {},
   "outputs": [
    {
     "data": {
      "image/png": "[encoded data removed]",
      "text/plain": [
       "<Figure size 500x1000 with 10 Axes>"
      ]
     },
     "metadata": {},
     "output_type": "display_data"
    }
   ],
   "source": [
    "visualise_digits(model_2layers)"
   ]
  },
  {
   "cell_type": "markdown",
   "metadata": {},
   "source": [
    "# 4. <a id='toc4_'></a>[Remarks and Further Directions](#toc0_)\n",
    "\n",
    "> - The generated images of the digits are slightly sharper and more interpretable when the encoder & decoder have 2 hidden layers compared to 1 hidden layer. This is because a model with more hidden layers is more expressible and is able to capture more complex patterns in the training data.\n",
    ">\n",
    "> <br>\n",
    ">\n",
    "> - Further improvements could be seen by tuning the hyperparameters of the models such as the learning rate `LR` and the batch size `BATCH_SIZE`.\n",
    ">\n",
    "> <br>\n",
    ">\n",
    "> - Adding regularization e.g. through dropout layers and/or regularization terms in the loss function would result in more generalisable models."
   ]
  },
  {
   "cell_type": "markdown",
   "id": "faede717",
   "metadata": {},
   "source": []
  }
 ],
 "metadata": {
  "kernelspec": {
   "display_name": "Python 3 (ipykernel)",
   "language": "python",
   "name": "python3"
  },
  "language_info": {
   "codemirror_mode": {
    "name": "ipython",
    "version": 3
   },
   "file_extension": ".py",
   "mimetype": "text/x-python",
   "name": "python",
   "nbconvert_exporter": "python",
   "pygments_lexer": "ipython3",
   "version": "3.12.2"
  }
 },
 "nbformat": 4,
 "nbformat_minor": 5
}
