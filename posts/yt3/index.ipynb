{
 "cells": [
  {
   "cell_type": "markdown",
   "id": "70ab31e8-2415-4940-b7d1-118406576547",
   "metadata": {},
   "source": [
    "---\n",
    "title: \"Variational AutoEncoders in PyTorch\"\n",
    "author: \"Daniel J Smith\"\n",
    "date: \"2024-04-14\"\n",
    "categories: [Python, ML, Deep Learning, PyTorch]\n",
    "title-block-banner: false\n",
    "jupyter: python3\n",
    "image: 'vae.png'\n",
    "draft: false\n",
    "description: \"Variational AutoEncoders (VAEs) are implemented in PyTorch. The focus is on the implementation and comparison of VAEs with either 1 or 2 hidden layers in the encoder and decoder. The VAEs are trained on the MNIST dataset and are then used to generate new examples of handwritten digits.\"\n",
    "---"
   ]
  },
  {
   "cell_type": "code",
   "execution_count": 3,
   "id": "60d935c4",
   "metadata": {},
   "outputs": [],
   "source": [
    "import torch\n",
    "from torch import nn\n",
    "\n",
    "import torchvision.datasets as datasets\n",
    "from torchvision import transforms\n",
    "from torch.utils.data import DataLoader\n",
    "\n",
    "import numpy as np\n",
    "import matplotlib.pyplot as plt\n",
    "\n",
    "from tqdm import tqdm   # Progress Bar\n",
    "from utils import versions"
   ]
  },
  {
   "cell_type": "code",
   "execution_count": 4,
   "id": "27aa309f",
   "metadata": {},
   "outputs": [
    {
     "name": "stdout",
     "output_type": "stream",
     "text": [
      "+-------------+------------+\n",
      "|  Component  |  Version   |\n",
      "+-------------+------------+\n",
      "|    Python   |   3.12.2   |\n",
      "+-------------+------------+\n",
      "|   pytorch   | 2.2.2+cpu  |\n",
      "+-------------+------------+\n",
      "| torchvision | 0.17.2+cpu |\n",
      "+-------------+------------+\n"
     ]
    }
   ],
   "source": [
    "versions()"
   ]
  },
  {
   "cell_type": "markdown",
   "id": "07190b4a",
   "metadata": {},
   "source": [
    "# Variational AutoEncoders (VAEs)\n",
    "\n",
    "Variational AutoEncoders (VAEs) are a type of generative model designed to capture the underlying probability distribution of a given dataset and generate novel samples. They utilize an architecture that comprises of an encoder-decoder structure:\n",
    "\n",
    "<img src=\"vae.png\" style=\"width:75%\">\n",
    "\n",
    "In a nutshell, a VAE is an autoencoder whose encodings distribution is regularised during the training to ensure that its latent space has good properties allowing us to generate some new data. The term “variational” comes from the close relation there is between the regularisation and the variational inference method in statistics.\n",
    "\n",
    "VAEs tackle the problem of the latent space irregularity by making the encoder return a distribution over the latent space instead of a single point and by adding in the loss function a regularisation term over that returned distribution in order to ensure a better organisation of the latent space.\n",
    "\n",
    "For more details see the VAE wikipedia page:\n",
    "\n",
    "> [https://en.wikipedia.org/wiki/Variational_autoencoder](https://en.wikipedia.org/wiki/Variational_autoencoder)\n",
    "\n",
    "\n",
    "In this post we implement a 1 and 2 hidden layer VAE in PyTorch trained on the MNIST dataset and use the trained models to generate novel examples of handwritten digits."
   ]
  },
  {
   "cell_type": "markdown",
   "id": "61c7456c",
   "metadata": {},
   "source": [
    "# Single-Hidden-Layer VAE"
   ]
  },
  {
   "cell_type": "code",
   "execution_count": 3,
   "id": "7472c875",
   "metadata": {},
   "outputs": [],
   "source": [
    "#| code-fold: show\n",
    "\n",
    "class VariationalAutoEncoder(nn.Module):\n",
    "    \"\"\"\n",
    "    A Variational AutoEncoder (VAE) with a single hidden layer in the encoder and decoder.\n",
    "\n",
    "    Args:\n",
    "    input_dim (int): The dimension of the input data.\n",
    "    h_dim (int, optional): The dimension of the hidden layer. Defaults to 200.\n",
    "    z_dim (int, optional): The dimension of the latent space. Defaults to 20.\n",
    "    \"\"\"\n",
    "    def __init__(self, input_dim, h_dim=200, z_dim=20):\n",
    "        super().__init__()\n",
    "        # Encoder\n",
    "        self.img_2hid = nn.Linear(input_dim, h_dim)\n",
    "        self.hid_2mu = nn.Linear(h_dim, z_dim)\n",
    "        self.hid_2logvar = nn.Linear(h_dim, z_dim)\n",
    "\n",
    "        # Decoder\n",
    "        self.z_2hid = nn.Linear(z_dim, h_dim)\n",
    "        self.hid_2img = nn.Linear(h_dim, input_dim)\n",
    "\n",
    "        self.relu = nn.ReLU()\n",
    "\n",
    "    def encode(self, x):\n",
    "        \"\"\"\n",
    "        Encodes the input into a distribution over the latent space.\n",
    "\n",
    "        Args:\n",
    "        x (Tensor): The input data.\n",
    "\n",
    "        Returns:\n",
    "        tuple of Tensor: The mean and log variance of the latent distribution.\n",
    "        \"\"\"\n",
    "        h = self.relu(self.img_2hid(x))\n",
    "        mu, logvar = self.hid_2mu(h), self.hid_2logvar(h)\n",
    "        return mu, logvar\n",
    "\n",
    "    def reparameterize(self, mu, logvar):\n",
    "        \"\"\"\n",
    "        Generates a latent vector by reparameterization.\n",
    "\n",
    "        Args:\n",
    "        mu (Tensor): The mean of the latent distribution.\n",
    "        logvar (Tensor): The log variance of the latent distribution.\n",
    "\n",
    "        Returns:\n",
    "        Tensor: The latent vector.\n",
    "        \"\"\"\n",
    "        std = torch.exp(0.5*logvar)\n",
    "        eps = torch.randn_like(std)\n",
    "        return mu + eps*std\n",
    "\n",
    "    def decode(self, z):\n",
    "        \"\"\"\n",
    "        Decodes a latent vector into the input space.\n",
    "\n",
    "        Args:\n",
    "        z (Tensor): The latent vector.\n",
    "\n",
    "        Returns:\n",
    "        Tensor: The decoded data.\n",
    "        \"\"\"\n",
    "        h = self.relu(self.z_2hid(z))\n",
    "        return torch.sigmoid(self.hid_2img(h))\n",
    "\n",
    "    def forward(self, x):\n",
    "        \"\"\"\n",
    "        Performs a forward pass through the model.\n",
    "\n",
    "        Args:\n",
    "        x (Tensor): The input data.\n",
    "\n",
    "        Returns:\n",
    "        tuple of Tensor: The decoded data, mean and log variance of the latent distribution.\n",
    "        \"\"\"\n",
    "        mu, logvar = self.encode(x)\n",
    "        z = self.reparameterize(mu, logvar)\n",
    "        return self.decode(z), mu, logvar\n"
   ]
  },
  {
   "cell_type": "code",
   "execution_count": 4,
   "id": "1dce9a43",
   "metadata": {},
   "outputs": [],
   "source": [
    "# Configuration\n",
    "# Set the device for computation, prefer GPU (cuda) if available, else use CPU\n",
    "DEVICE = torch.device(\"cuda\" if torch.cuda.is_available() else \"cpu\")\n",
    "\n",
    "# The dimension of the input data. For MNIST, images are 28x28 pixels, so the input dimension is 784.\n",
    "INPUT_DIM = 784\n",
    "\n",
    "# The dimension of the hidden layer in the VAE.\n",
    "H_DIM = 200\n",
    "\n",
    "# The dimension of the latent space in the VAE. This is the dimension of the random variable z in the VAE.\n",
    "Z_DIM = 50\n",
    "\n",
    "# The number of epochs to train the model. An epoch is one complete pass through the entire training dataset.\n",
    "NUM_EPOCHS = 10\n",
    "\n",
    "# The number of samples per batch. The model parameters are updated once per batch.\n",
    "BATCH_SIZE = 32\n",
    "\n",
    "# The learning rate for the Adam optimizer.\n",
    "LR = 3e-4"
   ]
  },
  {
   "cell_type": "markdown",
   "id": "064690b9",
   "metadata": {},
   "source": [
    "## Initialising Single-Layer VAE model"
   ]
  },
  {
   "cell_type": "code",
   "execution_count": 5,
   "id": "d5745424",
   "metadata": {},
   "outputs": [],
   "source": [
    "# Initialise Model\n",
    "# Create an instance of the VariationalAutoEncoder class with the specified input, hidden, and latent dimensions.\n",
    "# The model is moved to the specified device (either CPU or GPU) for computation.\n",
    "model = VariationalAutoEncoder(INPUT_DIM, H_DIM, Z_DIM).to(DEVICE)\n",
    "\n",
    "# Optimizer\n",
    "# The Adam optimizer is used for updating the parameters of the model.\n",
    "# The learning rate (LR) is a hyperparameter that controls how much the weights of the network will change in response to the gradient.\n",
    "optimizer = torch.optim.Adam(model.parameters(), lr=LR)\n",
    "\n",
    "# Loss Function\n",
    "# The Binary Cross Entropy (BCE) loss function is used as the reconstruction loss for the VAE.\n",
    "# This loss function measures the error between the reconstructed image and the original image.\n",
    "# The 'sum' reduction mode is used, which means the losses are summed over all elements in the output.\n",
    "loss_fn = nn.BCELoss(reduction=\"sum\")"
   ]
  },
  {
   "cell_type": "markdown",
   "id": "eaf4f1a4",
   "metadata": {},
   "source": [
    "## The Dataset"
   ]
  },
  {
   "cell_type": "markdown",
   "id": "73c4f766",
   "metadata": {},
   "source": [
    "### MNIST\n",
    "\n",
    "The **MNIST dataset** is a large database of handwritten digits that is commonly used for training various image processing systems. It contains **60,000 training images** and **10,000 testing images**. Each image is a grayscale 28x28 pixel representation of a digit.\n",
    "\n",
    "<img src=\"OIP.jpg\">\n",
    "\n",
    "For more details see the MNIST wikipedia page:\n",
    "\n",
    "> [https://en.wikipedia.org/wiki/MNIST_database](https://en.wikipedia.org/wiki/MNIST_database)"
   ]
  },
  {
   "cell_type": "markdown",
   "id": "448022fa",
   "metadata": {},
   "source": [
    "### Data Loading\n",
    "\n",
    "The dataset is loaded from a local directory named `dataset/`. If the dataset is not available in this directory, it will be downloaded. The images from the dataset are transformed into tensors using the `transforms.ToTensor()` function from PyTorch. This converts the images from a PIL Image or numpy `ndarray` into tensor format.\n",
    "\n",
    "After loading the dataset, we use PyTorch's `DataLoader` to shuffle and batch the data. Shuffling the data ensures that the model's performance is not affected by the order of the data in the dataset. The `batch_size` parameter for the DataLoader is set to `BATCH_SIZE`."
   ]
  },
  {
   "cell_type": "code",
   "execution_count": 6,
   "id": "165cd9b8",
   "metadata": {},
   "outputs": [
    {
     "name": "stdout",
     "output_type": "stream",
     "text": [
      "Downloading http://yann.lecun.com/exdb/mnist/train-images-idx3-ubyte.gz\n",
      "Downloading http://yann.lecun.com/exdb/mnist/train-images-idx3-ubyte.gz to dataset/MNIST\\raw\\train-images-idx3-ubyte.gz\n"
     ]
    },
    {
     "name": "stderr",
     "output_type": "stream",
     "text": [
      "100%|██████████| 9912422/9912422 [00:01<00:00, 5711216.86it/s]\n"
     ]
    },
    {
     "name": "stdout",
     "output_type": "stream",
     "text": [
      "Extracting dataset/MNIST\\raw\\train-images-idx3-ubyte.gz to dataset/MNIST\\raw\n",
      "\n",
      "Downloading http://yann.lecun.com/exdb/mnist/train-labels-idx1-ubyte.gz\n",
      "Downloading http://yann.lecun.com/exdb/mnist/train-labels-idx1-ubyte.gz to dataset/MNIST\\raw\\train-labels-idx1-ubyte.gz\n"
     ]
    },
    {
     "name": "stderr",
     "output_type": "stream",
     "text": [
      "100%|██████████| 28881/28881 [00:00<00:00, 28869326.46it/s]\n"
     ]
    },
    {
     "name": "stdout",
     "output_type": "stream",
     "text": [
      "Extracting dataset/MNIST\\raw\\train-labels-idx1-ubyte.gz to dataset/MNIST\\raw\n",
      "\n",
      "Downloading http://yann.lecun.com/exdb/mnist/t10k-images-idx3-ubyte.gz\n",
      "Downloading http://yann.lecun.com/exdb/mnist/t10k-images-idx3-ubyte.gz to dataset/MNIST\\raw\\t10k-images-idx3-ubyte.gz\n"
     ]
    },
    {
     "name": "stderr",
     "output_type": "stream",
     "text": [
      "100%|██████████| 1648877/1648877 [00:00<00:00, 6409941.87it/s]\n"
     ]
    },
    {
     "name": "stdout",
     "output_type": "stream",
     "text": [
      "Extracting dataset/MNIST\\raw\\t10k-images-idx3-ubyte.gz to dataset/MNIST\\raw\n",
      "\n",
      "Downloading http://yann.lecun.com/exdb/mnist/t10k-labels-idx1-ubyte.gz\n",
      "Downloading http://yann.lecun.com/exdb/mnist/t10k-labels-idx1-ubyte.gz to dataset/MNIST\\raw\\t10k-labels-idx1-ubyte.gz\n"
     ]
    },
    {
     "name": "stderr",
     "output_type": "stream",
     "text": [
      "100%|██████████| 4542/4542 [00:00<?, ?it/s]"
     ]
    },
    {
     "name": "stdout",
     "output_type": "stream",
     "text": [
      "Extracting dataset/MNIST\\raw\\t10k-labels-idx1-ubyte.gz to dataset/MNIST\\raw\n",
      "\n"
     ]
    },
    {
     "name": "stderr",
     "output_type": "stream",
     "text": [
      "\n"
     ]
    }
   ],
   "source": [
    "# Dataset loading\n",
    "# Load the MNIST dataset. If it's not available in the local directory, download it.\n",
    "# The images are transformed to tensors using transforms.ToTensor().\n",
    "dataset = datasets.MNIST(root=\"dataset/\",\n",
    "                         train=True,\n",
    "                         transform=transforms.ToTensor(),\n",
    "                         download=True)\n",
    "\n",
    "# DataLoader is used to shuffle and batch the data.\n",
    "# Shuffling helps to make sure that the model is not affected by the order of the data in the dataset.\n",
    "train_loader = DataLoader(dataset=dataset,\n",
    "                          batch_size=BATCH_SIZE,\n",
    "                          shuffle=True)"
   ]
  },
  {
   "cell_type": "markdown",
   "id": "8f8a2ef4",
   "metadata": {},
   "source": [
    "## Training"
   ]
  },
  {
   "cell_type": "markdown",
   "id": "23aaad7d",
   "metadata": {},
   "source": [
    "### Training Function `train_vae`\n",
    "\n",
    "The `train_vae` function is implemented and used to train the VAE model.\n",
    "\n",
    ">  **Training Loop**:\n",
    ">\n",
    ">    - The model is set to training mode at the start.\n",
    ">\n",
    ">    - For each epoch, the function initializes the total loss for the epoch (`epoch_loss`).\n",
    ">\n",
    ">    - It then loops over the training data. For each batch, it performs a forward pass, computes the loss, performs backpropagation, and updates the model parameters.\n",
    "> <br>\n",
    ">\n",
    "> **Loss Function**:\n",
    ">\n",
    ">    - The loss function consists of two parts: the reconstruction loss and the Kullback-Leibler (KL) divergence.\n",
    ">\n",
    ">    - The **reconstruction loss** (`reconstruction_loss`) measures how well the model can reconstruct the input.\n",
    ">\n",
    ">    - The **KL divergence** (`kl_div`) measures how much the latent distribution deviates from a standard normal distribution. It is computed as `-0.5 * torch.sum(1 + logvar - mu.pow(2) - logvar.exp())`.\n",
    "\n",
    "For a precise definition of the KL divergence, see my previous blog post: \n",
    "\n",
    ">  [\"The Boltzmann Equation - 3. Information Theory\"](https://danieljamessmith.github.io/blog/posts/bte3/#definition-2.2.1---kl-divergence)"
   ]
  },
  {
   "cell_type": "code",
   "execution_count": 7,
   "id": "d2a702e0",
   "metadata": {},
   "outputs": [],
   "source": [
    "#| code-fold: show\n",
    "\n",
    "def train_vae(model, train_loader, optimizer, loss_fn, num_epochs, device):\n",
    "    \"\"\"\n",
    "    Train a Variational AutoEncoder (VAE) model.\n",
    "\n",
    "    Args:\n",
    "    model (nn.Module): The VAE model.\n",
    "    train_loader (DataLoader): The DataLoader for the training data.\n",
    "    optimizer (Optimizer): The optimizer for the model.\n",
    "    loss_fn (Loss): The loss function to use.\n",
    "    num_epochs (int): The number of epochs to train for.\n",
    "    device (torch.device): The device to train the model on.\n",
    "    \"\"\"\n",
    "    # Ensure model is in training mode\n",
    "    model.train()\n",
    "\n",
    "    # Start Training\n",
    "    for epoch in range(num_epochs):\n",
    "        # Initialize the loss for this epoch\n",
    "        epoch_loss = 0.0\n",
    "\n",
    "        # tqdm is used to show a progress bar for the training loop\n",
    "        loop = tqdm(enumerate(train_loader), total=len(train_loader), leave=True)\n",
    "        for i, (x, _) in loop:\n",
    "            # Forward Pass:\n",
    "            # Move the input to the device and reshape it\n",
    "            x = x.to(device).view(x.shape[0], -1)\n",
    "            # Pass the input through the model to get the reconstructed output and the parameters of the latent distribution\n",
    "            x_reconstructed, mu, logvar = model(x)\n",
    "\n",
    "            # Compute Loss:\n",
    "            # Compute the reconstruction loss (how well the model can reconstruct the input)\n",
    "            reconstruction_loss = loss_fn(x_reconstructed, x)\n",
    "            # Compute the KL divergence loss (how much the latent distribution deviates from a standard normal distribution)\n",
    "            kl_div = -0.5 * torch.sum(1 + logvar - mu.pow(2) - logvar.exp())\n",
    "\n",
    "            # Backpropagation:\n",
    "            # Compute the total loss, perform backpropagation to compute gradients, and update the model parameters\n",
    "            loss = reconstruction_loss + kl_div \n",
    "            optimizer.zero_grad()\n",
    "            loss.backward()\n",
    "            optimizer.step()\n",
    "\n",
    "            # Add the loss for this batch to the total loss for this epoch\n",
    "            epoch_loss += loss.item()\n",
    "\n",
    "            # Update the progress bar with the current loss\n",
    "            loop.set_description(f\"Epoch [{epoch+1}/{num_epochs}]\")\n",
    "            loop.set_postfix(loss=epoch_loss / (i+1))\n",
    "\n",
    "    print(\"Training completed.\")"
   ]
  },
  {
   "cell_type": "code",
   "execution_count": 8,
   "id": "403eb639",
   "metadata": {},
   "outputs": [
    {
     "name": "stderr",
     "output_type": "stream",
     "text": [
      "  0%|          | 0/1875 [00:00<?, ?it/s]"
     ]
    },
    {
     "name": "stderr",
     "output_type": "stream",
     "text": [
      "Epoch [1/10]: 100%|██████████| 1875/1875 [00:21<00:00, 89.18it/s, loss=5.79e+3]\n",
      "Epoch [2/10]: 100%|██████████| 1875/1875 [00:20<00:00, 89.30it/s, loss=4.45e+3]\n",
      "Epoch [3/10]: 100%|██████████| 1875/1875 [00:20<00:00, 91.68it/s, loss=4.1e+3] \n",
      "Epoch [4/10]: 100%|██████████| 1875/1875 [00:20<00:00, 89.58it/s, loss=3.89e+3]\n",
      "Epoch [5/10]: 100%|██████████| 1875/1875 [00:20<00:00, 90.01it/s, loss=3.77e+3]\n",
      "Epoch [6/10]: 100%|██████████| 1875/1875 [00:21<00:00, 87.77it/s, loss=3.68e+3]\n",
      "Epoch [7/10]: 100%|██████████| 1875/1875 [00:21<00:00, 88.52it/s, loss=3.62e+3]\n",
      "Epoch [8/10]: 100%|██████████| 1875/1875 [00:20<00:00, 89.39it/s, loss=3.58e+3]\n",
      "Epoch [9/10]: 100%|██████████| 1875/1875 [00:21<00:00, 87.81it/s, loss=3.54e+3]\n",
      "Epoch [10/10]: 100%|██████████| 1875/1875 [00:21<00:00, 86.45it/s, loss=3.52e+3]"
     ]
    },
    {
     "name": "stdout",
     "output_type": "stream",
     "text": [
      "Training completed.\n"
     ]
    },
    {
     "name": "stderr",
     "output_type": "stream",
     "text": [
      "\n"
     ]
    }
   ],
   "source": [
    "train_vae(model, train_loader, optimizer, loss_fn, NUM_EPOCHS, DEVICE)"
   ]
  },
  {
   "cell_type": "markdown",
   "metadata": {},
   "source": [
    "## Visualising Results"
   ]
  },
  {
   "cell_type": "code",
   "execution_count": 9,
   "id": "407a5693",
   "metadata": {},
   "outputs": [],
   "source": [
    "#| code-fold: show\n",
    "\n",
    "def inference(model, digit, num_examples=1, plot=False):\n",
    "    \"\"\"\n",
    "    Generate `num_examples` of the specified `digit` using the provided VAE `model`.\n",
    "\n",
    "    Args:\n",
    "    model (nn.Module): The Variational AutoEncoder model.\n",
    "    digit (int): The digit to generate (0-9).\n",
    "    num_examples (int, optional): The number of examples to generate. Defaults to 1.\n",
    "    plot (bool, optional): Whether to plot the generated images. Defaults to False.\n",
    "\n",
    "    Returns:\n",
    "    list of Tensor: The generated images.\n",
    "    \"\"\"\n",
    "    # Ensure model is in evaluation mode\n",
    "    model.eval()\n",
    "\n",
    "    # Extract an example of the specified digit from the dataset\n",
    "    image = None\n",
    "    for x, y in train_loader.dataset:\n",
    "        if y == digit:\n",
    "            image = x\n",
    "            break\n",
    "\n",
    "    # Get the mean and logvar for the specified digit\n",
    "    mu, logvar = model.encode(image.view(1, 784).to(DEVICE))\n",
    "\n",
    "    # Create a list to store the output images\n",
    "    out_images = []\n",
    "\n",
    "    for example in range(num_examples):\n",
    "        # Create a latent vector\n",
    "        std = torch.exp(0.5 * logvar)\n",
    "        eps = torch.randn_like(std).to(DEVICE)\n",
    "        z = mu + eps * std\n",
    "\n",
    "        # Decode the latent vector\n",
    "        with torch.no_grad():\n",
    "            out = model.decode(z)\n",
    "\n",
    "        # Reshape the output and move it to CPU\n",
    "        out = out.view(-1, 1, 28, 28).cpu()\n",
    "\n",
    "        # Add the output image to the list\n",
    "        out_images.append(out)\n",
    "\n",
    "        # Plot the image if plot is True\n",
    "        if plot:\n",
    "            plt.imshow(out[0].detach().numpy().reshape(28, 28), cmap='gray')\n",
    "            plt.axis('off')\n",
    "            plt.show()\n",
    "            return None\n",
    "\n",
    "    return out_images\n"
   ]
  },
  {
   "cell_type": "code",
   "execution_count": 10,
   "id": "2e0973b5-2934-4f1b-a1d9-9b9412293737",
   "metadata": {},
   "outputs": [
    {
     "data": {
      "image/png": "[encoded data removed]",
      "text/plain": [
       "<Figure size 640x480 with 1 Axes>"
      ]
     },
     "metadata": {},
     "output_type": "display_data"
    }
   ],
   "source": [
    "inference(model, digit=1, plot=True)"
   ]
  },
  {
   "cell_type": "code",
   "execution_count": 11,
   "id": "d37d6180-6973-4fbe-8605-af2e021585f2",
   "metadata": {},
   "outputs": [
    {
     "data": {
      "image/png": "[encoded data removed]",
      "text/plain": [
       "<Figure size 640x480 with 1 Axes>"
      ]
     },
     "metadata": {},
     "output_type": "display_data"
    }
   ],
   "source": [
    "inference(model, digit=6, plot=True)"
   ]
  },
  {
   "cell_type": "code",
   "execution_count": 12,
   "id": "b3c5f21e-9b2c-4b85-85c1-5a61ecd1f4f9",
   "metadata": {},
   "outputs": [],
   "source": [
    "#| code-fold: show\n",
    "\n",
    "def visualise_digits(model):\n",
    "    \"\"\"\n",
    "    Generate and plot an example of each digit (0-9) using the provided VAE `model`.\n",
    "\n",
    "    Args:\n",
    "    model (nn.Module): The Variational AutoEncoder model.\n",
    "    \"\"\"\n",
    "    # Ensure model is in evaluation mode\n",
    "    model.eval()\n",
    "\n",
    "    # Create a subplot for each digit in a 5x2 grid\n",
    "    fig, axs = plt.subplots(5, 2, figsize=(5, 10))\n",
    "    fig.subplots_adjust(hspace=0.5, wspace=0)\n",
    "\n",
    "    for digit in range(10):\n",
    "        # Generate an example of the digit\n",
    "        out_images = inference(model, digit, num_examples=1)\n",
    "\n",
    "        # Display the output image with a title\n",
    "        ax = axs[digit // 2, digit % 2]\n",
    "        ax.imshow(out_images[0][0].detach().numpy().reshape(28, 28), cmap='gray')\n",
    "        ax.axis('off')\n",
    "        ax.set_title(f'Generated Digit: {digit}')\n",
    "\n",
    "    plt.show()"
   ]
  },
  {
   "cell_type": "code",
   "execution_count": 13,
   "id": "5039c8fe",
   "metadata": {},
   "outputs": [
    {
     "data": {
      "image/png": "[encoded data removed]",
      "text/plain": [
       "<Figure size 500x1000 with 10 Axes>"
      ]
     },
     "metadata": {},
     "output_type": "display_data"
    }
   ],
   "source": [
    "visualise_digits(model)"
   ]
  },
  {
   "cell_type": "markdown",
   "metadata": {},
   "source": [
    "# Double-Hidden-Layer VAE"
   ]
  },
  {
   "cell_type": "code",
   "execution_count": 14,
   "id": "07145d1a",
   "metadata": {},
   "outputs": [],
   "source": [
    "#| code-fold: show\n",
    "\n",
    "class VariationalAutoEncoder_nlayers(nn.Module):\n",
    "    \"\"\"\n",
    "    A Variational AutoEncoder (VAE) with a configurable number of hidden layers.\n",
    "\n",
    "    Args:\n",
    "    input_dim (int): The dimension of the input data.\n",
    "    h_dim1 (int, optional): The dimension of the first hidden layer. Defaults to 400.\n",
    "    h_dim2 (int, optional): The dimension of the second hidden layer. Defaults to 200.\n",
    "    z_dim (int, optional): The dimension of the latent space. Defaults to 20.\n",
    "    num_layers (int, optional): The number of hidden layers in the encoder and decoder (1 or 2). Defaults to 1.\n",
    "    \"\"\"\n",
    "    def __init__(self, input_dim, h_dim1=400, h_dim2=200, z_dim=20, num_layers=1):\n",
    "        super().__init__()\n",
    "        self.num_layers = num_layers\n",
    "\n",
    "        # Encoder\n",
    "        self.img_2hid1 = nn.Linear(input_dim, h_dim1)\n",
    "        if num_layers == 2:\n",
    "            self.hid1_2hid2 = nn.Linear(h_dim1, h_dim2)\n",
    "            self.hid2_2mu = nn.Linear(h_dim2, z_dim)\n",
    "            self.hid2_2logvar = nn.Linear(h_dim2, z_dim)\n",
    "        else:\n",
    "            self.hid2_2mu = nn.Linear(h_dim1, z_dim)\n",
    "            self.hid2_2logvar = nn.Linear(h_dim1, z_dim)\n",
    "\n",
    "        # Decoder\n",
    "        if num_layers == 2:\n",
    "            self.z_2hid2 = nn.Linear(z_dim, h_dim2)\n",
    "            self.hid2_2hid1 = nn.Linear(h_dim2, h_dim1)\n",
    "        else:\n",
    "            self.z_2hid2 = nn.Linear(z_dim, h_dim1)\n",
    "        self.hid1_2img = nn.Linear(h_dim1, input_dim)\n",
    "\n",
    "        self.relu = nn.ReLU()\n",
    "\n",
    "    def encode(self, x):\n",
    "        \"\"\"\n",
    "        Encodes the input into a distribution over the latent space.\n",
    "\n",
    "        Args:\n",
    "        x (Tensor): The input data.\n",
    "\n",
    "        Returns:\n",
    "        tuple of Tensor: The mean and log variance of the latent distribution.\n",
    "        \"\"\"\n",
    "        h1 = self.relu(self.img_2hid1(x))\n",
    "        if self.num_layers == 2:\n",
    "            h2 = self.relu(self.hid1_2hid2(h1))\n",
    "            mu, logvar = self.hid2_2mu(h2), self.hid2_2logvar(h2)\n",
    "        else:\n",
    "            mu, logvar = self.hid2_2mu(h1), self.hid2_2logvar(h1)\n",
    "        return mu, logvar\n",
    "\n",
    "    def reparameterize(self, mu, logvar):\n",
    "        \"\"\"\n",
    "        Generates a latent vector by reparameterization.\n",
    "\n",
    "        Args:\n",
    "        mu (Tensor): The mean of the latent distribution.\n",
    "        logvar (Tensor): The log variance of the latent distribution.\n",
    "\n",
    "        Returns:\n",
    "        Tensor: The latent vector.\n",
    "        \"\"\"\n",
    "        std = torch.exp(0.5*logvar)\n",
    "        eps = torch.randn_like(std)\n",
    "        return mu + eps*std\n",
    "\n",
    "    def decode(self, z):\n",
    "        \"\"\"\n",
    "        Decodes a latent vector into the input space.\n",
    "\n",
    "        Args:\n",
    "        z (Tensor): The latent vector.\n",
    "\n",
    "        Returns:\n",
    "        Tensor: The decoded data.\n",
    "        \"\"\"\n",
    "        if self.num_layers == 2:\n",
    "            h2 = self.relu(self.z_2hid2(z))\n",
    "            h1 = self.relu(self.hid2_2hid1(h2))\n",
    "        else:\n",
    "            h1 = self.relu(self.z_2hid2(z))\n",
    "        return torch.sigmoid(self.hid1_2img(h1))\n",
    "\n",
    "    def forward(self, x):\n",
    "        \"\"\"\n",
    "        Performs a forward pass through the model.\n",
    "\n",
    "        Args:\n",
    "        x (Tensor): The input data.\n",
    "\n",
    "        Returns:\n",
    "        tuple of Tensor: The decoded data, mean and log variance of the latent distribution.\n",
    "        \"\"\"\n",
    "        mu, logvar = self.encode(x)\n",
    "        z = self.reparameterize(mu, logvar)\n",
    "        return self.decode(z), mu, logvar\n"
   ]
  },
  {
   "cell_type": "markdown",
   "metadata": {},
   "source": [
    "## Hyperparameters"
   ]
  },
  {
   "cell_type": "code",
   "execution_count": 15,
   "id": "37742a9d",
   "metadata": {},
   "outputs": [],
   "source": [
    "# Configuration\n",
    "# Set the device for computation, prefer GPU (cuda) if available, else use CPU\n",
    "DEVICE = torch.device(\"cuda\" if torch.cuda.is_available() else \"cpu\")\n",
    "\n",
    "# The dimension of the input data. For MNIST, images are 28x28 pixels, so the input dimension is 784.\n",
    "INPUT_DIM = 784\n",
    "\n",
    "# The dimension of the first hidden layer in the VAE.\n",
    "H_DIM1 = 400\n",
    "\n",
    "# The dimension of the second hidden layer in the VAE.\n",
    "H_DIM2 = 200\n",
    "\n",
    "# The dimension of the latent space in the VAE. This is the dimension of the random variable z in the VAE.\n",
    "Z_DIM = 50\n",
    "\n",
    "# The number of epochs to train the model. An epoch is one complete pass through the entire training dataset.\n",
    "NUM_EPOCHS = 10\n",
    "\n",
    "# The number of samples per batch. The model parameters are updated once per batch.\n",
    "BATCH_SIZE = 32\n",
    "\n",
    "# The learning rate for the Adam optimizer.\n",
    "LR = 3e-4"
   ]
  },
  {
   "cell_type": "markdown",
   "metadata": {},
   "source": [
    "## Initialising Double-Layer VAE model"
   ]
  },
  {
   "cell_type": "code",
   "execution_count": 16,
   "id": "ba5b901a",
   "metadata": {},
   "outputs": [],
   "source": [
    "# Initialise Model\n",
    "# Create an instance of the VariationalAutoEncoder_nlayer class with the specified input, hidden, and latent dimensions. Set num_layers=2.\n",
    "# The model is moved to the specified device (either CPU or GPU) for computation.\n",
    "model_2layers = VariationalAutoEncoder_nlayers(INPUT_DIM, \n",
    "                                               H_DIM1, \n",
    "                                               H_DIM2, \n",
    "                                               Z_DIM, \n",
    "                                               num_layers=2).to(DEVICE)\n",
    "\n",
    "# Optimizer\n",
    "# The Adam optimizer is used for updating the parameters of the model.\n",
    "# The learning rate (LR) is a hyperparameter that controls how much the weights of the network will change in response to the gradient.\n",
    "optimizer = torch.optim.Adam(model_2layers.parameters(), lr=LR)\n",
    "\n",
    "# Loss Function\n",
    "# The Binary Cross Entropy (BCE) loss function is used as the reconstruction loss for the VAE.\n",
    "# This loss function measures the error between the reconstructed image and the original image.\n",
    "# The 'sum' reduction mode is used, which means the losses are summed over all elements in the output.\n",
    "loss_fn = nn.BCELoss(reduction=\"sum\")"
   ]
  },
  {
   "cell_type": "markdown",
   "metadata": {},
   "source": [
    "## Training\n",
    "\n",
    "Using the `train_vae` model as defined for the Single-Hidden-Layer VAE model:"
   ]
  },
  {
   "cell_type": "code",
   "execution_count": 17,
   "id": "ab2e069c",
   "metadata": {},
   "outputs": [
    {
     "name": "stderr",
     "output_type": "stream",
     "text": [
      "Epoch [1/10]: 100%|██████████| 1875/1875 [00:27<00:00, 67.16it/s, loss=5.66e+3]\n",
      "Epoch [2/10]: 100%|██████████| 1875/1875 [00:28<00:00, 66.65it/s, loss=4.33e+3]\n",
      "Epoch [3/10]: 100%|██████████| 1875/1875 [00:27<00:00, 67.01it/s, loss=3.89e+3]\n",
      "Epoch [4/10]: 100%|██████████| 1875/1875 [00:28<00:00, 66.40it/s, loss=3.68e+3]\n",
      "Epoch [5/10]: 100%|██████████| 1875/1875 [00:27<00:00, 66.99it/s, loss=3.56e+3]\n",
      "Epoch [6/10]: 100%|██████████| 1875/1875 [00:28<00:00, 65.96it/s, loss=3.49e+3]\n",
      "Epoch [7/10]: 100%|██████████| 1875/1875 [00:28<00:00, 66.65it/s, loss=3.44e+3]\n",
      "Epoch [8/10]: 100%|██████████| 1875/1875 [00:28<00:00, 65.94it/s, loss=3.4e+3] \n",
      "Epoch [9/10]: 100%|██████████| 1875/1875 [00:28<00:00, 64.93it/s, loss=3.37e+3]\n",
      "Epoch [10/10]: 100%|██████████| 1875/1875 [00:28<00:00, 64.87it/s, loss=3.35e+3]"
     ]
    },
    {
     "name": "stdout",
     "output_type": "stream",
     "text": [
      "Training completed.\n"
     ]
    },
    {
     "name": "stderr",
     "output_type": "stream",
     "text": [
      "\n"
     ]
    }
   ],
   "source": [
    "train_vae(model_2layers, train_loader, optimizer, loss_fn, NUM_EPOCHS, DEVICE)"
   ]
  },
  {
   "cell_type": "markdown",
   "metadata": {},
   "source": [
    "## Visualing Results\n",
    "\n",
    "Using the `inference` and `visualize_digits` functions as defined for the Single-Hidden-Layer VAE model:"
   ]
  },
  {
   "cell_type": "code",
   "execution_count": 18,
   "id": "76f4f1dc",
   "metadata": {},
   "outputs": [
    {
     "data": {
      "image/png": "[encoded data removed]",
      "text/plain": [
       "<Figure size 640x480 with 1 Axes>"
      ]
     },
     "metadata": {},
     "output_type": "display_data"
    }
   ],
   "source": [
    "inference(model_2layers, digit=1, plot=True)"
   ]
  },
  {
   "cell_type": "code",
   "execution_count": 19,
   "id": "54cad69c-1054-45c8-a1e0-4226d66b0eec",
   "metadata": {},
   "outputs": [
    {
     "data": {
      "image/png": "[encoded data removed]",
      "text/plain": [
       "<Figure size 640x480 with 1 Axes>"
      ]
     },
     "metadata": {},
     "output_type": "display_data"
    }
   ],
   "source": [
    "inference(model_2layers, digit=6, plot=True)"
   ]
  },
  {
   "cell_type": "code",
   "execution_count": 20,
   "id": "208cbefa",
   "metadata": {},
   "outputs": [
    {
     "data": {
      "image/png": "[encoded data removed]",
      "text/plain": [
       "<Figure size 500x1000 with 10 Axes>"
      ]
     },
     "metadata": {},
     "output_type": "display_data"
    }
   ],
   "source": [
    "visualise_digits(model_2layers)"
   ]
  },
  {
   "cell_type": "markdown",
   "metadata": {},
   "source": [
    "# Remarks and Further Directions\n",
    "\n",
    "> - The generated images of the digits are slightly sharper and more interpretable when the encoder & decoder have 2 hidden layers compared to 1 hidden layer. This is because a model with more hidden layers is more expressible and is able to capture more complex patterns in the training data.\n",
    "> <br>\n",
    "> - Further improvements could be seen by tuning the hyperparameters of the models such as the learning rate `LR` and the batch size `BATCH_SIZE`.\n",
    "> <br>\n",
    "> - Adding regularization e.g. through dropout layers and/or regularization terms in the loss function would result in more generalisable models."
   ]
  },
  {
   "cell_type": "markdown",
   "id": "1bd93a40",
   "metadata": {},
   "source": []
  }
 ],
 "metadata": {
  "kernelspec": {
   "display_name": "Python 3 (ipykernel)",
   "language": "python",
   "name": "python3"
  },
  "language_info": {
   "codemirror_mode": {
    "name": "ipython",
    "version": 3
   },
   "file_extension": ".py",
   "mimetype": "text/x-python",
   "name": "python",
   "nbconvert_exporter": "python",
   "pygments_lexer": "ipython3",
   "version": "3.12.2"
  }
 },
 "nbformat": 4,
 "nbformat_minor": 5
}
