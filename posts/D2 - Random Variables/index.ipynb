{
 "cells": [
  {
   "cell_type": "markdown",
   "id": "64cc321c",
   "metadata": {},
   "source": [
    "---\n",
    "title: \"Random Variables\"\n",
    "author: \"Daniel Smith\"\n",
    "date: \"2024-01-16\"\n",
    "categories: [Mathematics, Probability Theory]\n",
    "title-block-banner: false\n",
    "jupyter: python3\n",
    "draft: true\n",
    "---"
   ]
  },
  {
   "cell_type": "markdown",
   "id": "55dc6f20-7c13-46a2-9d87-c76d16031592",
   "metadata": {},
   "source": [
    "A gentle overview of the theory of random variables is provided for those with a basic knowledge of measure theory. Throughout we fix a probability space $(\\Omega,\\mathcal{F},\\mathbb{P})$ and consider $\\mathbb{R}$ equipped with the Borel $\\sigma$-algebra $\\mathcal{B}(\\mathbb{R})$."
   ]
  },
  {
   "cell_type": "markdown",
   "id": "e59f44d5-077a-48ff-9910-2aecb9ab49bd",
   "metadata": {},
   "source": [
    "## Definition - Random Variables\n",
    "\n",
    "A **random variable** $X$ is a measurable map\n",
    "$X:\\Omega\\rightarrow\\mathbb{\\mathbb{R}}$.\\\n",
    "That is, $X:\\Omega\\rightarrow\\mathbb{\\mathbb{R}}$ is a random variable if for all measurable $A\\subset\\mathbb{R}$ we have that the pre-image \n",
    "\n",
    "$$X^{-1}(A) := \\{\\omega \\in \\Omega \\,|\\, X(\\omega)\\in A \\} \\subset \\Omega$$\n",
    "is a measurable subset of $\\Omega$, i.e. is an element of $\\mathcal{F}$.\n",
    "\n",
    "\n",
    "\\\n",
    "For measurable $A\\subset\\mathbb{R}$ introduce the notation\n",
    "$$\\mathbb{P}(X \\in A) := \\mathbb{P}\\left(X^{-1}(A)\\right) = \\mathbb{P} \\left( \\left\\{ \\omega \\in \\Omega \\,|\\, X(\\omega)\\in A  \\right\\} \\right).$$\n",
    "\n",
    "\n",
    "A **stochastic process** is an indexed family of random variables\n",
    "${\\{X_t\\}_{t\\in T}}$ where the indexing set $T$ is not necessarily\n",
    "countable, and the index $t$ is often interpreted as time.\n",
    "\n",
    "---"
   ]
  },
  {
   "cell_type": "markdown",
   "id": "79f91586-e766-4baf-9d65-f7abb56072a9",
   "metadata": {
    "tags": []
   },
   "source": [
    "## Definition - The Distribution of a Random Variable\n",
    "\n",
    "Given a random variable $X$ the map\n",
    "\\begin{align*}\n",
    "\\mathcal{L}_X: \\mathcal{B}(\\mathbb{R}) &\\longrightarrow [0,1]\\\\\n",
    "A &\\longmapsto \\mathbb{P}(X\\in A)\n",
    "\\end{align*}\n",
    "\n",
    "is called the **distribution** (or the **law**) of X. The distribution completely describes the random variable and there is often no need to explicitly refer to the sample space $\\Omega$.\n",
    "\n",
    "The distribution $\\mathcal{L}_X$ is a (Borel) probability measure on $\\left(\\mathbb{R},\\mathcal{B}(\\mathbb{R})\\right)$ and is the pushforward/image measure on $\\left(\\mathbb{R},\\mathcal{B}(\\mathbb{R})\\right)$ induced from $\\mathbb{P}$ by $X$. By abuse of notation it is common to write\n",
    "\n",
    "$$\\mathcal{L}_X = \\mathbb{P} \\circ X^{-1}$$\n",
    "\n",
    "The **cumulative distribution function** (CDF) $F_X : \\mathbb{R} \\rightarrow [0,1]$ of a random variable\n",
    "$X$ is defined by \n",
    "\n",
    "$$F_X(x) = \\mathbb{P}(X\\leq x) := \\mathbb{P}(X\\in (-\\infty,x]) = \\mathcal{L}_X((-\\infty,x]).$$\n",
    "\n",
    "-------------------------"
   ]
  },
  {
   "cell_type": "markdown",
   "id": "b3015b23-ebf9-4e3e-b7c8-2ceeb679091d",
   "metadata": {},
   "source": [
    "## Remark - Random Variables vs Distributions\n",
    "\n",
    "Do not confuse a random variable $X: \\Omega \\rightarrow \\mathbb{R}$ with it's distribution $\\mathcal{L}_X: \\mathcal{B}(\\mathbb{R}) \\rightarrow [0,1]$. \n",
    "\n",
    "The distribution $\\mathcal{L}_X$ completely describes the random variable $X$ in the sense that we can recover any probability $\\mathbb{P}(X\\in A)$ from the distribution $\\mathcal{L}_X$ via\n",
    "\n",
    "$$\\mathbb{P}(X\\in A) = \\mathcal{L}_X(A).$$\n",
    "\n",
    "Since the probabilities of outcomes are the only physically relevant features of $X$ the distribution $\\mathcal{L}_X$ carries all useful information about $X$. However, very different random variables can have the same distributions. For example:\n",
    "\n",
    "\n",
    "---"
   ]
  },
  {
   "cell_type": "markdown",
   "id": "8ad39aa2-096b-4824-9f89-21877f7d4a2f",
   "metadata": {},
   "source": [
    "By standard properties of measurable functions we have the following \n",
    "\n",
    "## Lemma - New Random Variables from Old\n",
    "\n",
    "If $X,\\,Y : \\Omega \\rightarrow \\mathbb{R}$ are random variables, $\\lambda\\in\\mathbb{R}$ and $g:\\mathbb{R}\\rightarrow\\mathbb{R}$ is measurable then:\n",
    "\n",
    "- $X + Y$ is a random variable\n",
    "- $XY$ is a random variable\n",
    "- $\\lambda X$ is a random variable (in particular $X - Y$ is a random variable)\n",
    "- $X/Y$ is a random variable if $Y$ is never zero\n",
    "- $g(X) = g \\circ X : \\Omega \\rightarrow \\mathbb{R}$ is a random variable\n",
    "\n",
    "---"
   ]
  },
  {
   "cell_type": "markdown",
   "id": "5062f9c0-2596-48a6-8169-6859820ed947",
   "metadata": {
    "tags": []
   },
   "source": [
    "## Definition - Discrete Random Variables/Distributions\n",
    "\n",
    "A random variable $X:\\Omega\\rightarrow\\mathbb{\\mathbb{R}}$ is called **discrete** if there exists a countable set $C\\subset\\mathbb{R}$ with $\\mathcal{L}_X(C)=1$.\n",
    "\n",
    "In particular, if $X$ exclusively takes values in a discrete set such as $\\mathbb{N}$ or $\\{0,1,\\dots,k\\}$ then $X$ is a discrete random variable.\n",
    "\n",
    "For discrete random variables it makes sense to talk about the probability of individual outcomes, such as for $k\\in\\mathbb{R}$: \n",
    "\n",
    "\\begin{align*}\n",
    "\\mathbb{P}(X=k) &= \\mathbb{P}\\left(X^{-1}\\{k\\}\\right)\\\\\n",
    "&= \\mathcal{L}_X\\left(\\{k\\}\\right).\n",
    "\\end{align*}\n",
    "\n",
    "We can then define the **probability mass function** (PMF) $p_X : \\mathbb{R} \\rightarrow [0,1]$ of $X$ by $p_X(x) = \\mathbb{P}(X=x).$\n",
    "\n",
    "The probability mass function $p_X$ is related to the cumulative distribution function $F_X$ via\n",
    "\n",
    "$$F_X(x) = \\sum_{x_i \\leq x}p_X(x_i) = \\sum_{x_i \\leq x}\\mathbb{P}(X=x_i) .$$\n",
    "\n",
    "---"
   ]
  },
  {
   "cell_type": "markdown",
   "id": "29945454-fe61-4885-920c-5f3d37ffd741",
   "metadata": {},
   "source": [
    "## Example - Bernoulli Distribution\n",
    "\n",
    "Consider a random variable $X$ taking values in $\\{0,1\\}$ with probabilities\n",
    "\n",
    "\\begin{align*}\n",
    "\\mathbb{P}(X=1) &= p \\\\\n",
    "\\mathbb{P}(X=0) &= 1-p\n",
    "\\end{align*}\n",
    "\n",
    "for some parameter $p\\in[0,1]$. \n",
    "\n",
    "Then $X$ follows the **Bernoulli distribution** with parameter $p$, denoted $X \\sim \\text{Ber} (p)$.\n",
    "\n",
    "Equivalently, a Bernoulli random variable $X$ has probability mass function \n",
    "\n",
    "\\begin{align*}\n",
    "p_X(x) = \n",
    "\\begin{cases}\n",
    "p \\,&\\text{if}\\, x=1\\\\\n",
    "1-p \\,&\\text{if}\\, x=0\n",
    "\\end{cases}\n",
    "\\end{align*}\n",
    "\n",
    "Informally, the Bernoulli distribution can be thought of as a model for the set of possible outcomes of a single random experiment with a yes/no outcome. \n",
    "\n",
    "For example, a single flip of a coin is a *Bernoulli trial* with probability of success (heads) $p=0.5$, assuming the coin is unbiased.\n",
    "\n",
    "---"
   ]
  },
  {
   "cell_type": "markdown",
   "id": "fca58f89-974b-46f9-8450-c254ad4d7197",
   "metadata": {},
   "source": [
    "## Example - Binomial Distribution\n",
    "\n",
    "Consider a random variable $X$ taking values in $\\{0,1,\\dots,n\\}$ for some positive integer $n$ with probabilities\n",
    "\n",
    "$$ \\mathbb{P}(X=k) = {n \\choose k}p^k(1-p)^{n-k} $$\n",
    "\n",
    "for $k\\in\\{0,1,\\dots,n\\}$ and some parameter $p\\in[0,1]$.\n",
    "\n",
    "Then $X$ follows the **Binomial distribution** with parameters $n$ and $p$, denoted $X \\sim \\text{Bin} (n,p)$.\n",
    "\n",
    "Such a binomial random variable $X$ can be written as the sum of $n$ Bernoulli random variables $X_j$ defined on the same sample space:\n",
    "\n",
    "$$X = X_1 + X_2 + \\dots + X_n$$\n",
    "\n",
    "because $X=k \\iff k$ of the summands take the value 1."
   ]
  },
  {
   "cell_type": "code",
   "execution_count": null,
   "id": "7645fa19-27c6-4b56-9521-8f3e2f7bfeef",
   "metadata": {},
   "outputs": [],
   "source": []
  }
 ],
 "metadata": {
  "kernelspec": {
   "display_name": "Python 3 (ipykernel)",
   "language": "python",
   "name": "python3"
  },
  "language_info": {
   "codemirror_mode": {
    "name": "ipython",
    "version": 3
   },
   "file_extension": ".py",
   "mimetype": "text/x-python",
   "name": "python",
   "nbconvert_exporter": "python",
   "pygments_lexer": "ipython3",
   "version": "3.11.4"
  }
 },
 "nbformat": 4,
 "nbformat_minor": 5
}
