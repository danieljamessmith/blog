{
 "cells": [
  {
   "cell_type": "code",
   "execution_count": 1,
   "id": "01e1b3b4-df28-4a5f-8412-cd67377702fe",
   "metadata": {
    "tags": []
   },
   "outputs": [],
   "source": [
    "import pandas as pd\n",
    "import numpy as np\n",
    "\n",
    "np.random.seed(594)"
   ]
  },
  {
   "cell_type": "code",
   "execution_count": 2,
   "id": "eda717bd-a691-43f7-9e08-04098b8a53b6",
   "metadata": {
    "tags": []
   },
   "outputs": [],
   "source": [
    "df = pd.read_csv('nottm_postcodes.csv')"
   ]
  },
  {
   "cell_type": "code",
   "execution_count": 3,
   "id": "229543be-2ff2-4043-adff-e781b84319b8",
   "metadata": {
    "tags": []
   },
   "outputs": [
    {
     "data": {
      "text/html": [
       "<div>\n",
       "<style scoped>\n",
       "    .dataframe tbody tr th:only-of-type {\n",
       "        vertical-align: middle;\n",
       "    }\n",
       "\n",
       "    .dataframe tbody tr th {\n",
       "        vertical-align: top;\n",
       "    }\n",
       "\n",
       "    .dataframe thead th {\n",
       "        text-align: right;\n",
       "    }\n",
       "</style>\n",
       "<table border=\"1\" class=\"dataframe\">\n",
       "  <thead>\n",
       "    <tr style=\"text-align: right;\">\n",
       "      <th></th>\n",
       "      <th>Postcode</th>\n",
       "    </tr>\n",
       "  </thead>\n",
       "  <tbody>\n",
       "    <tr>\n",
       "      <th>0</th>\n",
       "      <td>NG9 3WF</td>\n",
       "    </tr>\n",
       "    <tr>\n",
       "      <th>1</th>\n",
       "      <td>NG9 4WP</td>\n",
       "    </tr>\n",
       "    <tr>\n",
       "      <th>2</th>\n",
       "      <td>NG9 3EL</td>\n",
       "    </tr>\n",
       "    <tr>\n",
       "      <th>3</th>\n",
       "      <td>NG1 9FH</td>\n",
       "    </tr>\n",
       "    <tr>\n",
       "      <th>4</th>\n",
       "      <td>NG5 6QZ</td>\n",
       "    </tr>\n",
       "  </tbody>\n",
       "</table>\n",
       "</div>"
      ],
      "text/plain": [
       "  Postcode\n",
       "0  NG9 3WF\n",
       "1  NG9 4WP\n",
       "2  NG9 3EL\n",
       "3  NG1 9FH\n",
       "4  NG5 6QZ"
      ]
     },
     "execution_count": 3,
     "metadata": {},
     "output_type": "execute_result"
    }
   ],
   "source": [
    "df.head()"
   ]
  },
  {
   "cell_type": "code",
   "execution_count": 4,
   "id": "9d2efbb3-b1d9-4708-a61a-8130043c779d",
   "metadata": {
    "tags": []
   },
   "outputs": [],
   "source": [
    "num_donations = 1+np.round(5**np.random.randn(100))\n",
    "df['NumberDonations'] = pd.Series(num_donations).astype(int)"
   ]
  },
  {
   "cell_type": "code",
   "execution_count": 5,
   "id": "e415bc0d-6dae-4f1c-b7cb-ba0646a03808",
   "metadata": {
    "tags": []
   },
   "outputs": [],
   "source": [
    "total_donated = np.round(np.abs(15*num_donations + 20**np.random.randn(100)))\n",
    "df['TotalDonated'] = pd.Series(total_donated).astype(int)"
   ]
  },
  {
   "cell_type": "code",
   "execution_count": 6,
   "id": "f2b13ba5-6194-4c51-9b20-b598c0fa03c5",
   "metadata": {
    "tags": []
   },
   "outputs": [
    {
     "data": {
      "text/html": [
       "<div>\n",
       "<style scoped>\n",
       "    .dataframe tbody tr th:only-of-type {\n",
       "        vertical-align: middle;\n",
       "    }\n",
       "\n",
       "    .dataframe tbody tr th {\n",
       "        vertical-align: top;\n",
       "    }\n",
       "\n",
       "    .dataframe thead th {\n",
       "        text-align: right;\n",
       "    }\n",
       "</style>\n",
       "<table border=\"1\" class=\"dataframe\">\n",
       "  <thead>\n",
       "    <tr style=\"text-align: right;\">\n",
       "      <th></th>\n",
       "      <th>Postcode</th>\n",
       "      <th>NumberDonations</th>\n",
       "      <th>TotalDonated</th>\n",
       "      <th>AverageDonated</th>\n",
       "    </tr>\n",
       "  </thead>\n",
       "  <tbody>\n",
       "    <tr>\n",
       "      <th>0</th>\n",
       "      <td>NG9 3WF</td>\n",
       "      <td>4</td>\n",
       "      <td>61</td>\n",
       "      <td>15.25</td>\n",
       "    </tr>\n",
       "    <tr>\n",
       "      <th>1</th>\n",
       "      <td>NG9 4WP</td>\n",
       "      <td>1</td>\n",
       "      <td>21</td>\n",
       "      <td>21.00</td>\n",
       "    </tr>\n",
       "    <tr>\n",
       "      <th>2</th>\n",
       "      <td>NG9 3EL</td>\n",
       "      <td>1</td>\n",
       "      <td>27</td>\n",
       "      <td>27.00</td>\n",
       "    </tr>\n",
       "    <tr>\n",
       "      <th>3</th>\n",
       "      <td>NG1 9FH</td>\n",
       "      <td>5</td>\n",
       "      <td>75</td>\n",
       "      <td>15.00</td>\n",
       "    </tr>\n",
       "    <tr>\n",
       "      <th>4</th>\n",
       "      <td>NG5 6QZ</td>\n",
       "      <td>1</td>\n",
       "      <td>15</td>\n",
       "      <td>15.00</td>\n",
       "    </tr>\n",
       "    <tr>\n",
       "      <th>...</th>\n",
       "      <td>...</td>\n",
       "      <td>...</td>\n",
       "      <td>...</td>\n",
       "      <td>...</td>\n",
       "    </tr>\n",
       "    <tr>\n",
       "      <th>95</th>\n",
       "      <td>NG2 1WY</td>\n",
       "      <td>1</td>\n",
       "      <td>15</td>\n",
       "      <td>15.00</td>\n",
       "    </tr>\n",
       "    <tr>\n",
       "      <th>96</th>\n",
       "      <td>NG8 1ND</td>\n",
       "      <td>10</td>\n",
       "      <td>164</td>\n",
       "      <td>16.40</td>\n",
       "    </tr>\n",
       "    <tr>\n",
       "      <th>97</th>\n",
       "      <td>NG9 2QA</td>\n",
       "      <td>1</td>\n",
       "      <td>15</td>\n",
       "      <td>15.00</td>\n",
       "    </tr>\n",
       "    <tr>\n",
       "      <th>98</th>\n",
       "      <td>NG3 1FF</td>\n",
       "      <td>22</td>\n",
       "      <td>333</td>\n",
       "      <td>15.14</td>\n",
       "    </tr>\n",
       "    <tr>\n",
       "      <th>99</th>\n",
       "      <td>NG7 1UB</td>\n",
       "      <td>3</td>\n",
       "      <td>45</td>\n",
       "      <td>15.00</td>\n",
       "    </tr>\n",
       "  </tbody>\n",
       "</table>\n",
       "<p>100 rows × 4 columns</p>\n",
       "</div>"
      ],
      "text/plain": [
       "   Postcode  NumberDonations  TotalDonated  AverageDonated\n",
       "0   NG9 3WF                4            61           15.25\n",
       "1   NG9 4WP                1            21           21.00\n",
       "2   NG9 3EL                1            27           27.00\n",
       "3   NG1 9FH                5            75           15.00\n",
       "4   NG5 6QZ                1            15           15.00\n",
       "..      ...              ...           ...             ...\n",
       "95  NG2 1WY                1            15           15.00\n",
       "96  NG8 1ND               10           164           16.40\n",
       "97  NG9 2QA                1            15           15.00\n",
       "98  NG3 1FF               22           333           15.14\n",
       "99  NG7 1UB                3            45           15.00\n",
       "\n",
       "[100 rows x 4 columns]"
      ]
     },
     "execution_count": 6,
     "metadata": {},
     "output_type": "execute_result"
    }
   ],
   "source": [
    "df['AverageDonated'] = np.round(df['TotalDonated']/df['NumberDonations'], decimals=2)\n",
    "df"
   ]
  },
  {
   "cell_type": "code",
   "execution_count": 7,
   "id": "6b66f587-b0bc-4258-abbb-dd2b57e8073f",
   "metadata": {
    "tags": []
   },
   "outputs": [
    {
     "data": {
      "text/plain": [
       "count    100.000000\n",
       "mean       4.320000\n",
       "std        5.454828\n",
       "min        1.000000\n",
       "25%        1.000000\n",
       "50%        2.000000\n",
       "75%        5.000000\n",
       "max       37.000000\n",
       "Name: NumberDonations, dtype: float64"
      ]
     },
     "execution_count": 7,
     "metadata": {},
     "output_type": "execute_result"
    }
   ],
   "source": [
    "df['NumberDonations'].describe()"
   ]
  },
  {
   "cell_type": "code",
   "execution_count": 8,
   "id": "b7682e57-435b-45c3-994c-e4dd4ce52631",
   "metadata": {
    "tags": []
   },
   "outputs": [
    {
     "data": {
      "text/plain": [
       "array([0, 1, 1, 1, 0, 0, 0, 1, 0, 1, 0, 1, 0, 1, 1, 0, 1, 1, 1, 0, 1, 0,\n",
       "       0, 0, 0, 0, 0, 1, 1, 0, 1, 0, 1, 1, 0, 0, 1, 0, 1, 1, 1, 0, 1, 1,\n",
       "       1, 1, 0, 1, 0, 0, 1, 0, 0, 1, 0, 1, 0, 0, 1, 0, 0, 1, 1, 0, 1, 0,\n",
       "       0, 1, 0, 0, 0, 0, 1, 0, 0, 1, 1, 1, 1, 1, 0, 0, 0, 0, 0, 0, 1, 1,\n",
       "       0, 0, 0, 0, 0, 1, 0, 0, 0, 1, 1, 0])"
      ]
     },
     "execution_count": 8,
     "metadata": {},
     "output_type": "execute_result"
    }
   ],
   "source": [
    "newsletter = (np.random.rand(100) > 0.5).astype(int)\n",
    "newsletter"
   ]
  },
  {
   "cell_type": "code",
   "execution_count": 9,
   "id": "b662f307-6901-4648-b0c8-45897bf9534d",
   "metadata": {
    "tags": []
   },
   "outputs": [],
   "source": [
    "def generate_newsletter(total_donated):\n",
    "    # Define the probability of being 1 based on TotalDonated\n",
    "    probability = total_donated / np.max(total_donated)  # Normalize to [0, 1] range\n",
    "    # Scale the effect of TotalDonated and add random noise\n",
    "    probability_with_noise = probability + 2*np.random.randn()  # Adjust scale as needed\n",
    "    # Ensure probability is within valid range [0, 1]\n",
    "    probability_with_noise = np.clip(probability_with_noise, 0, 1)\n",
    "    # Generate random boolean value with higher probability for 1 if TotalDonated is large with added noise\n",
    "    return np.random.rand() < probability_with_noise"
   ]
  },
  {
   "cell_type": "code",
   "execution_count": 10,
   "id": "bc58e955-e9ef-41ee-9c05-dea82da05f19",
   "metadata": {
    "tags": []
   },
   "outputs": [],
   "source": [
    "df['Newsletter'] = df['TotalDonated'].apply(generate_newsletter).astype(int)"
   ]
  },
  {
   "cell_type": "code",
   "execution_count": 11,
   "id": "e345333e-a973-4fbf-8b78-4fec7db8df93",
   "metadata": {
    "tags": []
   },
   "outputs": [
    {
     "data": {
      "text/plain": [
       "count    100.000000\n",
       "mean       0.620000\n",
       "std        0.487832\n",
       "min        0.000000\n",
       "25%        0.000000\n",
       "50%        1.000000\n",
       "75%        1.000000\n",
       "max        1.000000\n",
       "Name: Newsletter, dtype: float64"
      ]
     },
     "execution_count": 11,
     "metadata": {},
     "output_type": "execute_result"
    }
   ],
   "source": [
    "df['Newsletter'].describe()"
   ]
  },
  {
   "cell_type": "code",
   "execution_count": 12,
   "id": "11ee1694-014c-403d-9b08-ad2dda8148b0",
   "metadata": {
    "tags": []
   },
   "outputs": [
    {
     "data": {
      "text/html": [
       "<div>\n",
       "<style scoped>\n",
       "    .dataframe tbody tr th:only-of-type {\n",
       "        vertical-align: middle;\n",
       "    }\n",
       "\n",
       "    .dataframe tbody tr th {\n",
       "        vertical-align: top;\n",
       "    }\n",
       "\n",
       "    .dataframe thead th {\n",
       "        text-align: right;\n",
       "    }\n",
       "</style>\n",
       "<table border=\"1\" class=\"dataframe\">\n",
       "  <thead>\n",
       "    <tr style=\"text-align: right;\">\n",
       "      <th></th>\n",
       "      <th>Postcode</th>\n",
       "      <th>NumberDonations</th>\n",
       "      <th>TotalDonated</th>\n",
       "      <th>AverageDonated</th>\n",
       "      <th>Newsletter</th>\n",
       "    </tr>\n",
       "  </thead>\n",
       "  <tbody>\n",
       "    <tr>\n",
       "      <th>0</th>\n",
       "      <td>NG9 3WF</td>\n",
       "      <td>4</td>\n",
       "      <td>61</td>\n",
       "      <td>15.25</td>\n",
       "      <td>0</td>\n",
       "    </tr>\n",
       "    <tr>\n",
       "      <th>1</th>\n",
       "      <td>NG9 4WP</td>\n",
       "      <td>1</td>\n",
       "      <td>21</td>\n",
       "      <td>21.00</td>\n",
       "      <td>0</td>\n",
       "    </tr>\n",
       "    <tr>\n",
       "      <th>2</th>\n",
       "      <td>NG9 3EL</td>\n",
       "      <td>1</td>\n",
       "      <td>27</td>\n",
       "      <td>27.00</td>\n",
       "      <td>0</td>\n",
       "    </tr>\n",
       "    <tr>\n",
       "      <th>3</th>\n",
       "      <td>NG1 9FH</td>\n",
       "      <td>5</td>\n",
       "      <td>75</td>\n",
       "      <td>15.00</td>\n",
       "      <td>0</td>\n",
       "    </tr>\n",
       "    <tr>\n",
       "      <th>4</th>\n",
       "      <td>NG5 6QZ</td>\n",
       "      <td>1</td>\n",
       "      <td>15</td>\n",
       "      <td>15.00</td>\n",
       "      <td>1</td>\n",
       "    </tr>\n",
       "    <tr>\n",
       "      <th>...</th>\n",
       "      <td>...</td>\n",
       "      <td>...</td>\n",
       "      <td>...</td>\n",
       "      <td>...</td>\n",
       "      <td>...</td>\n",
       "    </tr>\n",
       "    <tr>\n",
       "      <th>95</th>\n",
       "      <td>NG2 1WY</td>\n",
       "      <td>1</td>\n",
       "      <td>15</td>\n",
       "      <td>15.00</td>\n",
       "      <td>0</td>\n",
       "    </tr>\n",
       "    <tr>\n",
       "      <th>96</th>\n",
       "      <td>NG8 1ND</td>\n",
       "      <td>10</td>\n",
       "      <td>164</td>\n",
       "      <td>16.40</td>\n",
       "      <td>1</td>\n",
       "    </tr>\n",
       "    <tr>\n",
       "      <th>97</th>\n",
       "      <td>NG9 2QA</td>\n",
       "      <td>1</td>\n",
       "      <td>15</td>\n",
       "      <td>15.00</td>\n",
       "      <td>1</td>\n",
       "    </tr>\n",
       "    <tr>\n",
       "      <th>98</th>\n",
       "      <td>NG3 1FF</td>\n",
       "      <td>22</td>\n",
       "      <td>333</td>\n",
       "      <td>15.14</td>\n",
       "      <td>1</td>\n",
       "    </tr>\n",
       "    <tr>\n",
       "      <th>99</th>\n",
       "      <td>NG7 1UB</td>\n",
       "      <td>3</td>\n",
       "      <td>45</td>\n",
       "      <td>15.00</td>\n",
       "      <td>0</td>\n",
       "    </tr>\n",
       "  </tbody>\n",
       "</table>\n",
       "<p>100 rows × 5 columns</p>\n",
       "</div>"
      ],
      "text/plain": [
       "   Postcode  NumberDonations  TotalDonated  AverageDonated  Newsletter\n",
       "0   NG9 3WF                4            61           15.25           0\n",
       "1   NG9 4WP                1            21           21.00           0\n",
       "2   NG9 3EL                1            27           27.00           0\n",
       "3   NG1 9FH                5            75           15.00           0\n",
       "4   NG5 6QZ                1            15           15.00           1\n",
       "..      ...              ...           ...             ...         ...\n",
       "95  NG2 1WY                1            15           15.00           0\n",
       "96  NG8 1ND               10           164           16.40           1\n",
       "97  NG9 2QA                1            15           15.00           1\n",
       "98  NG3 1FF               22           333           15.14           1\n",
       "99  NG7 1UB                3            45           15.00           0\n",
       "\n",
       "[100 rows x 5 columns]"
      ]
     },
     "execution_count": 12,
     "metadata": {},
     "output_type": "execute_result"
    }
   ],
   "source": [
    "df"
   ]
  },
  {
   "cell_type": "code",
   "execution_count": 13,
   "id": "579cb1cb-16c6-4945-bc7d-89559f2ecba0",
   "metadata": {
    "tags": []
   },
   "outputs": [],
   "source": [
    "df.to_csv('FakeIndividualConstituents.csv', index=False)"
   ]
  },
  {
   "cell_type": "code",
   "execution_count": null,
   "id": "0265e654-3e66-4f55-9161-37e2e7785def",
   "metadata": {},
   "outputs": [],
   "source": []
  }
 ],
 "metadata": {
  "kernelspec": {
   "display_name": "Python 3 (ipykernel)",
   "language": "python",
   "name": "python3"
  },
  "language_info": {
   "codemirror_mode": {
    "name": "ipython",
    "version": 3
   },
   "file_extension": ".py",
   "mimetype": "text/x-python",
   "name": "python",
   "nbconvert_exporter": "python",
   "pygments_lexer": "ipython3",
   "version": "3.10.9"
  }
 },
 "nbformat": 4,
 "nbformat_minor": 5
}
