{
 "cells": [
  {
   "cell_type": "markdown",
   "id": "581dbed3-6352-4d8d-8bdb-1866d8ef4f0d",
   "metadata": {},
   "source": [
    "---\n",
    "title: \"The Spaceship Titanic with LightGBM\"\n",
    "author: \"Daniel Smith\"\n",
    "date: \"2023-11-23\"\n",
    "categories: [Python, ML, Pandas, Seaborn, LightGBM]\n",
    "title-block-banner: false\n",
    "jupyter: python3\n",
    "description: \"A LightGBM classifier is trained with hyperparameters tuned using a random search to achieve >80% classification accuracy on the Spaceship Titanic dataset.\"\n",
    "---"
   ]
  },
  {
   "cell_type": "code",
   "execution_count": 1,
   "id": "5aafe4c7-d448-4975-819c-e0b4bc5de8c6",
   "metadata": {
    "tags": []
   },
   "outputs": [],
   "source": [
    "import pandas as pd\n",
    "import numpy as np\n",
    "from scipy.stats import randint, uniform\n",
    "\n",
    "import seaborn as sns\n",
    "import matplotlib.pyplot as plt\n",
    "%matplotlib inline\n",
    "\n",
    "from sklearn.model_selection import train_test_split, RandomizedSearchCV\n",
    "from sklearn.metrics import accuracy_score, classification_report, confusion_matrix\n",
    "\n",
    "from lightgbm import LGBMClassifier"
   ]
  },
  {
   "cell_type": "code",
   "execution_count": 1,
   "id": "5727cb2e",
   "metadata": {},
   "outputs": [
    {
     "name": "stdout",
     "output_type": "stream",
     "text": [
      "Python version:\n",
      "3.11.4 | packaged by Anaconda, Inc. | (main, Jul  5 2023, 13:38:37) [MSC v.1916 64 bit (AMD64)]\n"
     ]
    }
   ],
   "source": [
    "import sys\n",
    "print(\"Python version:\")\n",
    "print(sys.version)"
   ]
  },
  {
   "cell_type": "markdown",
   "id": "aa664d25",
   "metadata": {},
   "source": [
    "**Table of contents**<a id='toc0_'></a>    \n",
    "1. [Data imports and exploration](#toc1_)    \n",
    "2. [Missing values and feature engineering](#toc2_)    \n",
    "2.1. [Filling `HomePlanet`, `Destination` and `VIP`](#toc2_1_)    \n",
    "2.2. [Filling `Age` and the expenditure features](#toc2_2_)    \n",
    "2.3. [New features - `AgeGroup`, `CabinSide` and `GroupSize`](#toc2_3_)    \n",
    "2.4. [Finishing preprocessing - dropping features and splitting into train and test sets](#toc2_4_)    \n",
    "3. [Tuning a `LGBMClassifier` with `RandomizedSearchCV`](#toc3_)    \n",
    "4. [Fitting the best `LGBMClassifier` to the train set](#toc4_)    \n",
    "5. [Using the trained model to predict on the test set](#toc5_)    \n",
    "6. [Further Directions](#toc6_)    \n",
    "\n",
    "<!-- vscode-jupyter-toc-config\n",
    "\tnumbering=true\n",
    "\tanchor=true\n",
    "\tflat=true\n",
    "\tminLevel=1\n",
    "\tmaxLevel=5\n",
    "\t/vscode-jupyter-toc-config -->\n",
    "<!-- THIS CELL WILL BE REPLACED ON TOC UPDATE. DO NOT WRITE YOUR TEXT IN THIS CELL -->"
   ]
  },
  {
   "cell_type": "markdown",
   "metadata": {},
   "source": [
    "# 1. <a id='toc1_'></a>[Data imports and exploration](#toc0_)"
   ]
  },
  {
   "cell_type": "markdown",
   "id": "bbe2fb95-0459-47e2-8567-e76b66a5ff99",
   "metadata": {},
   "source": [
    "We use the [Spaceship Titanic dataset from Kaggle](https://www.kaggle.com/competitions/spaceship-titanic), designed as a lighthearted, fictional reimagining of the famous (infamous) titanic dataset. The goal is to predict if passengers on the Spaceship Titanic were transported into an alternate dimension by a collision with a spacetime anamoly, based upon known data.\n",
    "\n",
    "The data is provided in two files, `train.csv` and `test.csv`. The training data `train.csv` has all of the following features, while the test data `test.csv` has all of the following features minus the target `Transported` feature.\n",
    "\n",
    "\n",
    "> * **PassengerId** - A unique Id for each passenger. Each Id takes the form gggg_pp where gggg indicates a group the passenger is travelling with and pp is their number within the group. People in a group are often family members, but not always.\n",
    "> * **HomePlanet** - The planet the passenger departed from, typically their planet of permanent residence.\n",
    "> * **CryoSleep** - Indicates whether the passenger elected to be put into suspended animation for the duration of the voyage. Passengers in cryosleep are confined to their cabins.\n",
    "> * **Cabin** - The cabin number where the passenger is staying. Takes the form deck/num/side, where side can be either P for Port or S for Starboard.\n",
    "> * **Destination** - The planet the passenger will be debarking to.\n",
    "> * **Age** - The age of the passenger.\n",
    "> * **VIP** - Whether the passenger has paid for special VIP service during the voyage.\n",
    "> * **RoomService**, **FoodCourt**, **ShoppingMall**, **Spa**, **VRDeck** - Amount the passenger has billed at each of the Spaceship Titanic's many luxury amenities.\n",
    "> * **Name** - The first and last names of the passenger.\n",
    "> * **Transported** - Whether the passenger was transported to another dimension. This is the target, the column you are trying to predict.\n",
    "\n",
    "\n",
    "The aim of the competition is to train a model on the training data and use it to predict labels for the test data. Kaggle then assigns a score to the submission by comparing the submitted labels with the known, hidden values. "
   ]
  },
  {
   "cell_type": "code",
   "execution_count": 2,
   "id": "7e2743ac-4762-4ab6-aa49-3e6c63d00ef5",
   "metadata": {
    "tags": []
   },
   "outputs": [
    {
     "data": {
      "text/html": [
       "<div>\n",
       "<style scoped>\n",
       "    .dataframe tbody tr th:only-of-type {\n",
       "        vertical-align: middle;\n",
       "    }\n",
       "\n",
       "    .dataframe tbody tr th {\n",
       "        vertical-align: top;\n",
       "    }\n",
       "\n",
       "    .dataframe thead th {\n",
       "        text-align: right;\n",
       "    }\n",
       "</style>\n",
       "<table border=\"1\" class=\"dataframe\">\n",
       "  <thead>\n",
       "    <tr style=\"text-align: right;\">\n",
       "      <th></th>\n",
       "      <th>PassengerId</th>\n",
       "      <th>HomePlanet</th>\n",
       "      <th>CryoSleep</th>\n",
       "      <th>Cabin</th>\n",
       "      <th>Destination</th>\n",
       "      <th>Age</th>\n",
       "      <th>VIP</th>\n",
       "      <th>RoomService</th>\n",
       "      <th>FoodCourt</th>\n",
       "      <th>ShoppingMall</th>\n",
       "      <th>Spa</th>\n",
       "      <th>VRDeck</th>\n",
       "      <th>Name</th>\n",
       "      <th>Transported</th>\n",
       "    </tr>\n",
       "  </thead>\n",
       "  <tbody>\n",
       "    <tr>\n",
       "      <th>0</th>\n",
       "      <td>0001_01</td>\n",
       "      <td>Europa</td>\n",
       "      <td>False</td>\n",
       "      <td>B/0/P</td>\n",
       "      <td>TRAPPIST-1e</td>\n",
       "      <td>39.0</td>\n",
       "      <td>False</td>\n",
       "      <td>0.0</td>\n",
       "      <td>0.0</td>\n",
       "      <td>0.0</td>\n",
       "      <td>0.0</td>\n",
       "      <td>0.0</td>\n",
       "      <td>Maham Ofracculy</td>\n",
       "      <td>False</td>\n",
       "    </tr>\n",
       "    <tr>\n",
       "      <th>1</th>\n",
       "      <td>0002_01</td>\n",
       "      <td>Earth</td>\n",
       "      <td>False</td>\n",
       "      <td>F/0/S</td>\n",
       "      <td>TRAPPIST-1e</td>\n",
       "      <td>24.0</td>\n",
       "      <td>False</td>\n",
       "      <td>109.0</td>\n",
       "      <td>9.0</td>\n",
       "      <td>25.0</td>\n",
       "      <td>549.0</td>\n",
       "      <td>44.0</td>\n",
       "      <td>Juanna Vines</td>\n",
       "      <td>True</td>\n",
       "    </tr>\n",
       "    <tr>\n",
       "      <th>2</th>\n",
       "      <td>0003_01</td>\n",
       "      <td>Europa</td>\n",
       "      <td>False</td>\n",
       "      <td>A/0/S</td>\n",
       "      <td>TRAPPIST-1e</td>\n",
       "      <td>58.0</td>\n",
       "      <td>True</td>\n",
       "      <td>43.0</td>\n",
       "      <td>3576.0</td>\n",
       "      <td>0.0</td>\n",
       "      <td>6715.0</td>\n",
       "      <td>49.0</td>\n",
       "      <td>Altark Susent</td>\n",
       "      <td>False</td>\n",
       "    </tr>\n",
       "    <tr>\n",
       "      <th>3</th>\n",
       "      <td>0003_02</td>\n",
       "      <td>Europa</td>\n",
       "      <td>False</td>\n",
       "      <td>A/0/S</td>\n",
       "      <td>TRAPPIST-1e</td>\n",
       "      <td>33.0</td>\n",
       "      <td>False</td>\n",
       "      <td>0.0</td>\n",
       "      <td>1283.0</td>\n",
       "      <td>371.0</td>\n",
       "      <td>3329.0</td>\n",
       "      <td>193.0</td>\n",
       "      <td>Solam Susent</td>\n",
       "      <td>False</td>\n",
       "    </tr>\n",
       "    <tr>\n",
       "      <th>4</th>\n",
       "      <td>0004_01</td>\n",
       "      <td>Earth</td>\n",
       "      <td>False</td>\n",
       "      <td>F/1/S</td>\n",
       "      <td>TRAPPIST-1e</td>\n",
       "      <td>16.0</td>\n",
       "      <td>False</td>\n",
       "      <td>303.0</td>\n",
       "      <td>70.0</td>\n",
       "      <td>151.0</td>\n",
       "      <td>565.0</td>\n",
       "      <td>2.0</td>\n",
       "      <td>Willy Santantines</td>\n",
       "      <td>True</td>\n",
       "    </tr>\n",
       "    <tr>\n",
       "      <th>...</th>\n",
       "      <td>...</td>\n",
       "      <td>...</td>\n",
       "      <td>...</td>\n",
       "      <td>...</td>\n",
       "      <td>...</td>\n",
       "      <td>...</td>\n",
       "      <td>...</td>\n",
       "      <td>...</td>\n",
       "      <td>...</td>\n",
       "      <td>...</td>\n",
       "      <td>...</td>\n",
       "      <td>...</td>\n",
       "      <td>...</td>\n",
       "      <td>...</td>\n",
       "    </tr>\n",
       "    <tr>\n",
       "      <th>4272</th>\n",
       "      <td>9266_02</td>\n",
       "      <td>Earth</td>\n",
       "      <td>True</td>\n",
       "      <td>G/1496/S</td>\n",
       "      <td>TRAPPIST-1e</td>\n",
       "      <td>34.0</td>\n",
       "      <td>False</td>\n",
       "      <td>0.0</td>\n",
       "      <td>0.0</td>\n",
       "      <td>0.0</td>\n",
       "      <td>0.0</td>\n",
       "      <td>0.0</td>\n",
       "      <td>Jeron Peter</td>\n",
       "      <td>NaN</td>\n",
       "    </tr>\n",
       "    <tr>\n",
       "      <th>4273</th>\n",
       "      <td>9269_01</td>\n",
       "      <td>Earth</td>\n",
       "      <td>False</td>\n",
       "      <td>NaN</td>\n",
       "      <td>TRAPPIST-1e</td>\n",
       "      <td>42.0</td>\n",
       "      <td>False</td>\n",
       "      <td>0.0</td>\n",
       "      <td>847.0</td>\n",
       "      <td>17.0</td>\n",
       "      <td>10.0</td>\n",
       "      <td>144.0</td>\n",
       "      <td>Matty Scheron</td>\n",
       "      <td>NaN</td>\n",
       "    </tr>\n",
       "    <tr>\n",
       "      <th>4274</th>\n",
       "      <td>9271_01</td>\n",
       "      <td>Mars</td>\n",
       "      <td>True</td>\n",
       "      <td>D/296/P</td>\n",
       "      <td>55 Cancri e</td>\n",
       "      <td>NaN</td>\n",
       "      <td>False</td>\n",
       "      <td>0.0</td>\n",
       "      <td>0.0</td>\n",
       "      <td>0.0</td>\n",
       "      <td>0.0</td>\n",
       "      <td>0.0</td>\n",
       "      <td>Jayrin Pore</td>\n",
       "      <td>NaN</td>\n",
       "    </tr>\n",
       "    <tr>\n",
       "      <th>4275</th>\n",
       "      <td>9273_01</td>\n",
       "      <td>Europa</td>\n",
       "      <td>False</td>\n",
       "      <td>D/297/P</td>\n",
       "      <td>NaN</td>\n",
       "      <td>NaN</td>\n",
       "      <td>False</td>\n",
       "      <td>0.0</td>\n",
       "      <td>2680.0</td>\n",
       "      <td>0.0</td>\n",
       "      <td>0.0</td>\n",
       "      <td>523.0</td>\n",
       "      <td>Kitakan Conale</td>\n",
       "      <td>NaN</td>\n",
       "    </tr>\n",
       "    <tr>\n",
       "      <th>4276</th>\n",
       "      <td>9277_01</td>\n",
       "      <td>Earth</td>\n",
       "      <td>True</td>\n",
       "      <td>G/1498/S</td>\n",
       "      <td>PSO J318.5-22</td>\n",
       "      <td>43.0</td>\n",
       "      <td>False</td>\n",
       "      <td>0.0</td>\n",
       "      <td>0.0</td>\n",
       "      <td>0.0</td>\n",
       "      <td>0.0</td>\n",
       "      <td>0.0</td>\n",
       "      <td>Lilace Leonzaley</td>\n",
       "      <td>NaN</td>\n",
       "    </tr>\n",
       "  </tbody>\n",
       "</table>\n",
       "<p>12970 rows × 14 columns</p>\n",
       "</div>"
      ],
      "text/plain": [
       "     PassengerId HomePlanet CryoSleep     Cabin    Destination   Age    VIP  \\\n",
       "0        0001_01     Europa     False     B/0/P    TRAPPIST-1e  39.0  False   \n",
       "1        0002_01      Earth     False     F/0/S    TRAPPIST-1e  24.0  False   \n",
       "2        0003_01     Europa     False     A/0/S    TRAPPIST-1e  58.0   True   \n",
       "3        0003_02     Europa     False     A/0/S    TRAPPIST-1e  33.0  False   \n",
       "4        0004_01      Earth     False     F/1/S    TRAPPIST-1e  16.0  False   \n",
       "...          ...        ...       ...       ...            ...   ...    ...   \n",
       "4272     9266_02      Earth      True  G/1496/S    TRAPPIST-1e  34.0  False   \n",
       "4273     9269_01      Earth     False       NaN    TRAPPIST-1e  42.0  False   \n",
       "4274     9271_01       Mars      True   D/296/P    55 Cancri e   NaN  False   \n",
       "4275     9273_01     Europa     False   D/297/P            NaN   NaN  False   \n",
       "4276     9277_01      Earth      True  G/1498/S  PSO J318.5-22  43.0  False   \n",
       "\n",
       "      RoomService  FoodCourt  ShoppingMall     Spa  VRDeck               Name  \\\n",
       "0             0.0        0.0           0.0     0.0     0.0    Maham Ofracculy   \n",
       "1           109.0        9.0          25.0   549.0    44.0       Juanna Vines   \n",
       "2            43.0     3576.0           0.0  6715.0    49.0      Altark Susent   \n",
       "3             0.0     1283.0         371.0  3329.0   193.0       Solam Susent   \n",
       "4           303.0       70.0         151.0   565.0     2.0  Willy Santantines   \n",
       "...           ...        ...           ...     ...     ...                ...   \n",
       "4272          0.0        0.0           0.0     0.0     0.0        Jeron Peter   \n",
       "4273          0.0      847.0          17.0    10.0   144.0      Matty Scheron   \n",
       "4274          0.0        0.0           0.0     0.0     0.0        Jayrin Pore   \n",
       "4275          0.0     2680.0           0.0     0.0   523.0     Kitakan Conale   \n",
       "4276          0.0        0.0           0.0     0.0     0.0   Lilace Leonzaley   \n",
       "\n",
       "     Transported  \n",
       "0          False  \n",
       "1           True  \n",
       "2          False  \n",
       "3          False  \n",
       "4           True  \n",
       "...          ...  \n",
       "4272         NaN  \n",
       "4273         NaN  \n",
       "4274         NaN  \n",
       "4275         NaN  \n",
       "4276         NaN  \n",
       "\n",
       "[12970 rows x 14 columns]"
      ]
     },
     "execution_count": 2,
     "metadata": {},
     "output_type": "execute_result"
    }
   ],
   "source": [
    "df_train = pd.read_csv('train.csv')\n",
    "df_test = pd.read_csv('test.csv')\n",
    "\n",
    "# Combine train and test sets into a single dataframe for convenience\n",
    "data = pd.concat([df_train,df_test],axis=0)\n",
    "data"
   ]
  },
  {
   "cell_type": "code",
   "execution_count": 3,
   "id": "8aef2381-edd8-4df0-b598-564fce99b1b8",
   "metadata": {
    "tags": []
   },
   "outputs": [
    {
     "name": "stdout",
     "output_type": "stream",
     "text": [
      "<class 'pandas.core.frame.DataFrame'>\n",
      "Index: 12970 entries, 0 to 4276\n",
      "Data columns (total 14 columns):\n",
      " #   Column        Non-Null Count  Dtype  \n",
      "---  ------        --------------  -----  \n",
      " 0   PassengerId   12970 non-null  object \n",
      " 1   HomePlanet    12682 non-null  object \n",
      " 2   CryoSleep     12660 non-null  object \n",
      " 3   Cabin         12671 non-null  object \n",
      " 4   Destination   12696 non-null  object \n",
      " 5   Age           12700 non-null  float64\n",
      " 6   VIP           12674 non-null  object \n",
      " 7   RoomService   12707 non-null  float64\n",
      " 8   FoodCourt     12681 non-null  float64\n",
      " 9   ShoppingMall  12664 non-null  float64\n",
      " 10  Spa           12686 non-null  float64\n",
      " 11  VRDeck        12702 non-null  float64\n",
      " 12  Name          12676 non-null  object \n",
      " 13  Transported   8693 non-null   object \n",
      "dtypes: float64(6), object(8)\n",
      "memory usage: 1.5+ MB\n"
     ]
    }
   ],
   "source": [
    "data.info()"
   ]
  },
  {
   "cell_type": "code",
   "execution_count": 4,
   "id": "3749a6de-82f0-464d-94a8-28b87565774b",
   "metadata": {
    "tags": []
   },
   "outputs": [
    {
     "data": {
      "text/html": [
       "<div>\n",
       "<style scoped>\n",
       "    .dataframe tbody tr th:only-of-type {\n",
       "        vertical-align: middle;\n",
       "    }\n",
       "\n",
       "    .dataframe tbody tr th {\n",
       "        vertical-align: top;\n",
       "    }\n",
       "\n",
       "    .dataframe thead th {\n",
       "        text-align: right;\n",
       "    }\n",
       "</style>\n",
       "<table border=\"1\" class=\"dataframe\">\n",
       "  <thead>\n",
       "    <tr style=\"text-align: right;\">\n",
       "      <th></th>\n",
       "      <th>Age</th>\n",
       "      <th>RoomService</th>\n",
       "      <th>FoodCourt</th>\n",
       "      <th>ShoppingMall</th>\n",
       "      <th>Spa</th>\n",
       "      <th>VRDeck</th>\n",
       "    </tr>\n",
       "  </thead>\n",
       "  <tbody>\n",
       "    <tr>\n",
       "      <th>count</th>\n",
       "      <td>8514.000000</td>\n",
       "      <td>8512.000000</td>\n",
       "      <td>8510.000000</td>\n",
       "      <td>8485.000000</td>\n",
       "      <td>8510.000000</td>\n",
       "      <td>8505.000000</td>\n",
       "    </tr>\n",
       "    <tr>\n",
       "      <th>mean</th>\n",
       "      <td>28.827930</td>\n",
       "      <td>224.687617</td>\n",
       "      <td>458.077203</td>\n",
       "      <td>173.729169</td>\n",
       "      <td>311.138778</td>\n",
       "      <td>304.854791</td>\n",
       "    </tr>\n",
       "    <tr>\n",
       "      <th>std</th>\n",
       "      <td>14.489021</td>\n",
       "      <td>666.717663</td>\n",
       "      <td>1611.489240</td>\n",
       "      <td>604.696458</td>\n",
       "      <td>1136.705535</td>\n",
       "      <td>1145.717189</td>\n",
       "    </tr>\n",
       "    <tr>\n",
       "      <th>min</th>\n",
       "      <td>0.000000</td>\n",
       "      <td>0.000000</td>\n",
       "      <td>0.000000</td>\n",
       "      <td>0.000000</td>\n",
       "      <td>0.000000</td>\n",
       "      <td>0.000000</td>\n",
       "    </tr>\n",
       "    <tr>\n",
       "      <th>25%</th>\n",
       "      <td>19.000000</td>\n",
       "      <td>0.000000</td>\n",
       "      <td>0.000000</td>\n",
       "      <td>0.000000</td>\n",
       "      <td>0.000000</td>\n",
       "      <td>0.000000</td>\n",
       "    </tr>\n",
       "    <tr>\n",
       "      <th>50%</th>\n",
       "      <td>27.000000</td>\n",
       "      <td>0.000000</td>\n",
       "      <td>0.000000</td>\n",
       "      <td>0.000000</td>\n",
       "      <td>0.000000</td>\n",
       "      <td>0.000000</td>\n",
       "    </tr>\n",
       "    <tr>\n",
       "      <th>75%</th>\n",
       "      <td>38.000000</td>\n",
       "      <td>47.000000</td>\n",
       "      <td>76.000000</td>\n",
       "      <td>27.000000</td>\n",
       "      <td>59.000000</td>\n",
       "      <td>46.000000</td>\n",
       "    </tr>\n",
       "    <tr>\n",
       "      <th>max</th>\n",
       "      <td>79.000000</td>\n",
       "      <td>14327.000000</td>\n",
       "      <td>29813.000000</td>\n",
       "      <td>23492.000000</td>\n",
       "      <td>22408.000000</td>\n",
       "      <td>24133.000000</td>\n",
       "    </tr>\n",
       "  </tbody>\n",
       "</table>\n",
       "</div>"
      ],
      "text/plain": [
       "               Age   RoomService     FoodCourt  ShoppingMall           Spa  \\\n",
       "count  8514.000000   8512.000000   8510.000000   8485.000000   8510.000000   \n",
       "mean     28.827930    224.687617    458.077203    173.729169    311.138778   \n",
       "std      14.489021    666.717663   1611.489240    604.696458   1136.705535   \n",
       "min       0.000000      0.000000      0.000000      0.000000      0.000000   \n",
       "25%      19.000000      0.000000      0.000000      0.000000      0.000000   \n",
       "50%      27.000000      0.000000      0.000000      0.000000      0.000000   \n",
       "75%      38.000000     47.000000     76.000000     27.000000     59.000000   \n",
       "max      79.000000  14327.000000  29813.000000  23492.000000  22408.000000   \n",
       "\n",
       "             VRDeck  \n",
       "count   8505.000000  \n",
       "mean     304.854791  \n",
       "std     1145.717189  \n",
       "min        0.000000  \n",
       "25%        0.000000  \n",
       "50%        0.000000  \n",
       "75%       46.000000  \n",
       "max    24133.000000  "
      ]
     },
     "execution_count": 4,
     "metadata": {},
     "output_type": "execute_result"
    }
   ],
   "source": [
    "df_train.describe()"
   ]
  },
  {
   "cell_type": "code",
   "execution_count": 5,
   "id": "449aa4ca-bef5-4884-8b9c-e9f729677c13",
   "metadata": {
    "tags": []
   },
   "outputs": [
    {
     "data": {
      "text/html": [
       "<div>\n",
       "<style scoped>\n",
       "    .dataframe tbody tr th:only-of-type {\n",
       "        vertical-align: middle;\n",
       "    }\n",
       "\n",
       "    .dataframe tbody tr th {\n",
       "        vertical-align: top;\n",
       "    }\n",
       "\n",
       "    .dataframe thead th {\n",
       "        text-align: right;\n",
       "    }\n",
       "</style>\n",
       "<table border=\"1\" class=\"dataframe\">\n",
       "  <thead>\n",
       "    <tr style=\"text-align: right;\">\n",
       "      <th></th>\n",
       "      <th>Age</th>\n",
       "      <th>RoomService</th>\n",
       "      <th>FoodCourt</th>\n",
       "      <th>ShoppingMall</th>\n",
       "      <th>Spa</th>\n",
       "      <th>VRDeck</th>\n",
       "    </tr>\n",
       "  </thead>\n",
       "  <tbody>\n",
       "    <tr>\n",
       "      <th>count</th>\n",
       "      <td>4186.000000</td>\n",
       "      <td>4195.000000</td>\n",
       "      <td>4171.000000</td>\n",
       "      <td>4179.000000</td>\n",
       "      <td>4176.000000</td>\n",
       "      <td>4197.000000</td>\n",
       "    </tr>\n",
       "    <tr>\n",
       "      <th>mean</th>\n",
       "      <td>28.658146</td>\n",
       "      <td>219.266269</td>\n",
       "      <td>439.484296</td>\n",
       "      <td>177.295525</td>\n",
       "      <td>303.052443</td>\n",
       "      <td>310.710031</td>\n",
       "    </tr>\n",
       "    <tr>\n",
       "      <th>std</th>\n",
       "      <td>14.179072</td>\n",
       "      <td>607.011289</td>\n",
       "      <td>1527.663045</td>\n",
       "      <td>560.821123</td>\n",
       "      <td>1117.186015</td>\n",
       "      <td>1246.994742</td>\n",
       "    </tr>\n",
       "    <tr>\n",
       "      <th>min</th>\n",
       "      <td>0.000000</td>\n",
       "      <td>0.000000</td>\n",
       "      <td>0.000000</td>\n",
       "      <td>0.000000</td>\n",
       "      <td>0.000000</td>\n",
       "      <td>0.000000</td>\n",
       "    </tr>\n",
       "    <tr>\n",
       "      <th>25%</th>\n",
       "      <td>19.000000</td>\n",
       "      <td>0.000000</td>\n",
       "      <td>0.000000</td>\n",
       "      <td>0.000000</td>\n",
       "      <td>0.000000</td>\n",
       "      <td>0.000000</td>\n",
       "    </tr>\n",
       "    <tr>\n",
       "      <th>50%</th>\n",
       "      <td>26.000000</td>\n",
       "      <td>0.000000</td>\n",
       "      <td>0.000000</td>\n",
       "      <td>0.000000</td>\n",
       "      <td>0.000000</td>\n",
       "      <td>0.000000</td>\n",
       "    </tr>\n",
       "    <tr>\n",
       "      <th>75%</th>\n",
       "      <td>37.000000</td>\n",
       "      <td>53.000000</td>\n",
       "      <td>78.000000</td>\n",
       "      <td>33.000000</td>\n",
       "      <td>50.000000</td>\n",
       "      <td>36.000000</td>\n",
       "    </tr>\n",
       "    <tr>\n",
       "      <th>max</th>\n",
       "      <td>79.000000</td>\n",
       "      <td>11567.000000</td>\n",
       "      <td>25273.000000</td>\n",
       "      <td>8292.000000</td>\n",
       "      <td>19844.000000</td>\n",
       "      <td>22272.000000</td>\n",
       "    </tr>\n",
       "  </tbody>\n",
       "</table>\n",
       "</div>"
      ],
      "text/plain": [
       "               Age   RoomService     FoodCourt  ShoppingMall           Spa  \\\n",
       "count  4186.000000   4195.000000   4171.000000   4179.000000   4176.000000   \n",
       "mean     28.658146    219.266269    439.484296    177.295525    303.052443   \n",
       "std      14.179072    607.011289   1527.663045    560.821123   1117.186015   \n",
       "min       0.000000      0.000000      0.000000      0.000000      0.000000   \n",
       "25%      19.000000      0.000000      0.000000      0.000000      0.000000   \n",
       "50%      26.000000      0.000000      0.000000      0.000000      0.000000   \n",
       "75%      37.000000     53.000000     78.000000     33.000000     50.000000   \n",
       "max      79.000000  11567.000000  25273.000000   8292.000000  19844.000000   \n",
       "\n",
       "             VRDeck  \n",
       "count   4197.000000  \n",
       "mean     310.710031  \n",
       "std     1246.994742  \n",
       "min        0.000000  \n",
       "25%        0.000000  \n",
       "50%        0.000000  \n",
       "75%       36.000000  \n",
       "max    22272.000000  "
      ]
     },
     "execution_count": 5,
     "metadata": {},
     "output_type": "execute_result"
    }
   ],
   "source": [
    "df_test.describe()"
   ]
  },
  {
   "cell_type": "code",
   "execution_count": 6,
   "id": "34330b5c-ea77-41bc-9a70-d358dc374792",
   "metadata": {
    "tags": []
   },
   "outputs": [
    {
     "data": {
      "text/plain": [
       "<Axes: >"
      ]
     },
     "execution_count": 6,
     "metadata": {},
     "output_type": "execute_result"
    },
    {
     "data": {
      "image/png": "[encoded data removed]",
      "text/plain": [
       "<Figure size 640x480 with 2 Axes>"
      ]
     },
     "metadata": {},
     "output_type": "display_data"
    }
   ],
   "source": [
    "sns.heatmap(data.isnull())"
   ]
  },
  {
   "cell_type": "code",
   "execution_count": 7,
   "id": "dd821fcf-6db7-4f95-a92c-fd7b29c8b646",
   "metadata": {
    "tags": []
   },
   "outputs": [
    {
     "data": {
      "text/plain": [
       "PassengerId       0\n",
       "HomePlanet      201\n",
       "CryoSleep       217\n",
       "Cabin           199\n",
       "Destination     182\n",
       "Age             179\n",
       "VIP             203\n",
       "RoomService     181\n",
       "FoodCourt       183\n",
       "ShoppingMall    208\n",
       "Spa             183\n",
       "VRDeck          188\n",
       "Name            200\n",
       "Transported       0\n",
       "dtype: int64"
      ]
     },
     "execution_count": 7,
     "metadata": {},
     "output_type": "execute_result"
    }
   ],
   "source": [
    "df_train.isnull().sum()"
   ]
  },
  {
   "cell_type": "code",
   "execution_count": 8,
   "id": "3041af79-6d42-476a-b190-42aa842f2b04",
   "metadata": {
    "tags": []
   },
   "outputs": [
    {
     "data": {
      "text/plain": [
       "PassengerId       0\n",
       "HomePlanet       87\n",
       "CryoSleep        93\n",
       "Cabin           100\n",
       "Destination      92\n",
       "Age              91\n",
       "VIP              93\n",
       "RoomService      82\n",
       "FoodCourt       106\n",
       "ShoppingMall     98\n",
       "Spa             101\n",
       "VRDeck           80\n",
       "Name             94\n",
       "dtype: int64"
      ]
     },
     "execution_count": 8,
     "metadata": {},
     "output_type": "execute_result"
    }
   ],
   "source": [
    "df_test.isnull().sum()"
   ]
  },
  {
   "cell_type": "markdown",
   "id": "e1c80818-f966-49a1-a93c-c392f19f57a1",
   "metadata": {},
   "source": [
    "As we can see, all features other than `PassengerId` and `Transported` have a non-zero number of null values for both the train and test sets. Deciding how to fill these null values is a crucial step in contructing a solution. Our programme is quite simple, but more complicated methods to fill can result in better performing models."
   ]
  },
  {
   "cell_type": "code",
   "execution_count": 9,
   "id": "c8268fa8-f9e7-4c12-b749-8ab5b8cea67f",
   "metadata": {
    "tags": []
   },
   "outputs": [
    {
     "data": {
      "text/plain": [
       "Text(0.5, 1.0, 'Transported distribution in df_train')"
      ]
     },
     "execution_count": 9,
     "metadata": {},
     "output_type": "execute_result"
    },
    {
     "data": {
      "image/png": "[encoded data removed]",
      "text/plain": [
       "<Figure size 600x600 with 1 Axes>"
      ]
     },
     "metadata": {},
     "output_type": "display_data"
    }
   ],
   "source": [
    "plt.figure(figsize=(6,6))\n",
    "df_train['Transported'].value_counts().plot.pie(autopct='%1.1f%%', shadow=True, textprops={'fontsize':12}).set_title(\"Transported distribution in df_train\")"
   ]
  },
  {
   "cell_type": "markdown",
   "id": "55c1de70-585c-4102-a412-d5dde4e1cc40",
   "metadata": {},
   "source": [
    "The above figure shows that the label is very well balanced in the train set, with roughly half of all passengers transported."
   ]
  },
  {
   "cell_type": "code",
   "execution_count": 10,
   "id": "d450efe4-79c0-4ffa-9839-72091ae78771",
   "metadata": {
    "tags": []
   },
   "outputs": [
    {
     "data": {
      "text/plain": [
       "Text(0.5, 0, 'Age (years)')"
      ]
     },
     "execution_count": 10,
     "metadata": {},
     "output_type": "execute_result"
    },
    {
     "data": {
      "image/png": "[encoded data removed]",
      "text/plain": [
       "<Figure size 1000x400 with 1 Axes>"
      ]
     },
     "metadata": {},
     "output_type": "display_data"
    }
   ],
   "source": [
    "plt.figure(figsize=(10,4))\n",
    "sns.histplot(data=df_train, x='Age', hue='Transported', binwidth=1, kde=True)\n",
    "plt.title('Age distribution')\n",
    "plt.xlabel('Age (years)')"
   ]
  },
  {
   "cell_type": "code",
   "execution_count": 11,
   "id": "e17c81da",
   "metadata": {},
   "outputs": [
    {
     "data": {
      "image/png": "[encoded data removed]",
      "text/plain": [
       "<Figure size 800x1200 with 4 Axes>"
      ]
     },
     "metadata": {},
     "output_type": "display_data"
    }
   ],
   "source": [
    "fig = plt.figure(figsize=(8,12))\n",
    "for i, var_name in enumerate(['HomePlanet', 'CryoSleep', 'Destination', 'VIP']):\n",
    "    ax = fig.add_subplot(4,1,i+1)\n",
    "    sns.countplot(data=df_train, x=var_name, axes=ax, hue='Transported')\n",
    "    ax.set_title(var_name)\n",
    "fig.tight_layout()"
   ]
  },
  {
   "cell_type": "markdown",
   "metadata": {},
   "source": [
    "# 2. <a id='toc2_'></a>[Missing values and feature engineering](#toc0_)"
   ]
  },
  {
   "cell_type": "code",
   "execution_count": 12,
   "id": "ac69f6ef-3113-4c62-a51d-10143faaa7f2",
   "metadata": {
    "tags": []
   },
   "outputs": [],
   "source": [
    "Expenses_features = ['RoomService','FoodCourt','ShoppingMall','Spa','VRDeck']"
   ]
  },
  {
   "cell_type": "markdown",
   "id": "44f1615c-ea3d-43ec-bac1-5f7255ed4ff8",
   "metadata": {},
   "source": [
    "Fill the null values in the `Expenses_features` with 0 for the passengers in cryosleep"
   ]
  },
  {
   "cell_type": "code",
   "execution_count": 13,
   "id": "0e08068e-affd-4cd2-aab7-d08e90658783",
   "metadata": {
    "tags": []
   },
   "outputs": [],
   "source": [
    "data.loc[:,Expenses_features] = data.apply(lambda x: 0 if x.CryoSleep == True else x, axis=1)"
   ]
  },
  {
   "cell_type": "markdown",
   "id": "b222dded-5089-4d45-a232-4091909c6efd",
   "metadata": {},
   "source": [
    "Create a new feature `TotalExpenditure`, just the sum of the `Expenses_features`"
   ]
  },
  {
   "cell_type": "code",
   "execution_count": 14,
   "id": "0b9a0707-206a-4c12-a696-83bae9c1b247",
   "metadata": {
    "tags": []
   },
   "outputs": [],
   "source": [
    "data['TotalExpenditure'] = data.loc[:,Expenses_features].sum(axis=1)"
   ]
  },
  {
   "cell_type": "markdown",
   "id": "14182881-7cb7-4757-a2e2-f195332391ed",
   "metadata": {},
   "source": [
    "Fill the null values in `CryoSleep` with `True` if `TotalExpenditure == 0`. This of course is not necessarily true - a passenger doesn't have to be in cryostatis to spend nothing. However, it seems a reasonable assumption for the purposes of filling missing values. Fill the other null values in `CryoSleep` with `False`."
   ]
  },
  {
   "cell_type": "code",
   "execution_count": 15,
   "id": "12c9c1fd",
   "metadata": {},
   "outputs": [],
   "source": [
    "data.loc[:,['CryoSleep']] = data.apply(lambda x: True if x.TotalExpenditure == 0 and pd.isna(x.CryoSleep) else x, axis=1)\n",
    "data['CryoSleep'] = data['CryoSleep'].fillna(False)"
   ]
  },
  {
   "cell_type": "markdown",
   "metadata": {},
   "source": [
    "## 2.1. <a id='toc2_1_'></a>[Filling `HomePlanet`, `Destination` and `VIP`](#toc0_)"
   ]
  },
  {
   "cell_type": "code",
   "execution_count": 16,
   "id": "f232a6e1-67dd-4e8e-ac34-e6b3a81dbc18",
   "metadata": {
    "tags": []
   },
   "outputs": [
    {
     "data": {
      "text/plain": [
       "HomePlanet\n",
       "Earth     4602\n",
       "Europa    2131\n",
       "Mars      1759\n",
       "Name: count, dtype: int64"
      ]
     },
     "execution_count": 16,
     "metadata": {},
     "output_type": "execute_result"
    }
   ],
   "source": [
    "df_train['HomePlanet'].value_counts()"
   ]
  },
  {
   "cell_type": "code",
   "execution_count": 17,
   "id": "2af9622a-208e-4ef7-8b96-04e509b0ab5f",
   "metadata": {
    "tags": []
   },
   "outputs": [
    {
     "data": {
      "text/plain": [
       "HomePlanet\n",
       "Earth     2263\n",
       "Europa    1002\n",
       "Mars       925\n",
       "Name: count, dtype: int64"
      ]
     },
     "execution_count": 17,
     "metadata": {},
     "output_type": "execute_result"
    }
   ],
   "source": [
    "df_test['HomePlanet'].value_counts()"
   ]
  },
  {
   "cell_type": "markdown",
   "id": "614f5040-9e90-4bda-a968-4b837576afb6",
   "metadata": {},
   "source": [
    "The mode for `HomePlanet` for both the train and test sets is \"Earth\", so we use this to fill the null values"
   ]
  },
  {
   "cell_type": "code",
   "execution_count": 18,
   "id": "b2f60058-bd38-4999-9770-a0e964fe7b16",
   "metadata": {
    "tags": []
   },
   "outputs": [],
   "source": [
    "data['HomePlanet'] = data['HomePlanet'].fillna('Earth')"
   ]
  },
  {
   "cell_type": "code",
   "execution_count": 19,
   "id": "cff23c05-67e4-4288-ac85-490761910cb8",
   "metadata": {
    "tags": []
   },
   "outputs": [
    {
     "data": {
      "text/plain": [
       "Destination\n",
       "TRAPPIST-1e      5915\n",
       "55 Cancri e      1800\n",
       "PSO J318.5-22     796\n",
       "Name: count, dtype: int64"
      ]
     },
     "execution_count": 19,
     "metadata": {},
     "output_type": "execute_result"
    }
   ],
   "source": [
    "df_train['Destination'].value_counts()"
   ]
  },
  {
   "cell_type": "code",
   "execution_count": 20,
   "id": "48f0d130-9443-420d-8990-56fbac7a22a6",
   "metadata": {
    "tags": []
   },
   "outputs": [
    {
     "data": {
      "text/plain": [
       "Destination\n",
       "TRAPPIST-1e      2956\n",
       "55 Cancri e       841\n",
       "PSO J318.5-22     388\n",
       "Name: count, dtype: int64"
      ]
     },
     "execution_count": 20,
     "metadata": {},
     "output_type": "execute_result"
    }
   ],
   "source": [
    "df_test['Destination'].value_counts()"
   ]
  },
  {
   "cell_type": "markdown",
   "id": "890fd060-afef-4621-95cc-2de9da6ca5d1",
   "metadata": {},
   "source": [
    "The mode for `Destination` for both the train and test sets is \"TRAPPIST-1e\", so we use this to fill the null values"
   ]
  },
  {
   "cell_type": "code",
   "execution_count": 21,
   "id": "4e8209e4-b147-4e43-aec2-c0f62805612f",
   "metadata": {
    "tags": []
   },
   "outputs": [],
   "source": [
    "data['Destination'] = data['Destination'].fillna('TRAPPIST-1e')"
   ]
  },
  {
   "cell_type": "code",
   "execution_count": 22,
   "id": "c95ba2bd-4d60-4bc6-9a8a-bcc3dc7a4c9e",
   "metadata": {
    "tags": []
   },
   "outputs": [
    {
     "data": {
      "text/plain": [
       "VIP\n",
       "False    8291\n",
       "True      199\n",
       "Name: count, dtype: int64"
      ]
     },
     "execution_count": 22,
     "metadata": {},
     "output_type": "execute_result"
    }
   ],
   "source": [
    "df_train['VIP'].value_counts()"
   ]
  },
  {
   "cell_type": "code",
   "execution_count": 23,
   "id": "0a1ad5c0-4a72-4700-9a6d-9155fc63fb9b",
   "metadata": {
    "tags": []
   },
   "outputs": [
    {
     "data": {
      "text/plain": [
       "VIP\n",
       "False    4110\n",
       "True       74\n",
       "Name: count, dtype: int64"
      ]
     },
     "execution_count": 23,
     "metadata": {},
     "output_type": "execute_result"
    }
   ],
   "source": [
    "df_test['VIP'].value_counts()"
   ]
  },
  {
   "cell_type": "code",
   "execution_count": 24,
   "id": "da1b3241-6d85-4508-b514-42bc3070a25f",
   "metadata": {
    "tags": []
   },
   "outputs": [],
   "source": [
    "data['VIP'] = data['VIP'].fillna(False)"
   ]
  },
  {
   "cell_type": "code",
   "execution_count": 25,
   "id": "3bdbca9a",
   "metadata": {},
   "outputs": [
    {
     "data": {
      "text/plain": [
       "PassengerId            0\n",
       "HomePlanet             0\n",
       "CryoSleep              0\n",
       "Cabin                299\n",
       "Destination            0\n",
       "Age                  270\n",
       "VIP                    0\n",
       "RoomService          170\n",
       "FoodCourt            180\n",
       "ShoppingMall         175\n",
       "Spa                  177\n",
       "VRDeck               177\n",
       "Name                 294\n",
       "Transported         4277\n",
       "TotalExpenditure       0\n",
       "dtype: int64"
      ]
     },
     "execution_count": 25,
     "metadata": {},
     "output_type": "execute_result"
    }
   ],
   "source": [
    "data.isna().sum()"
   ]
  },
  {
   "cell_type": "markdown",
   "metadata": {},
   "source": [
    "## 2.2. <a id='toc2_2_'></a>[Filling `Age` and the expenditure features](#toc0_)"
   ]
  },
  {
   "cell_type": "markdown",
   "id": "1af8a965-ed12-4053-bbf2-01ab4f3f375e",
   "metadata": {},
   "source": [
    "To fill the remaining null values in `Age` and `Expenses_features` we will use the median, to reduce the influence of outliers. This requires seperating `data` back into constituent train and test sets, to avoid data leakage."
   ]
  },
  {
   "cell_type": "code",
   "execution_count": 26,
   "id": "66a9955a-0a8d-4a86-8654-cbadfd3278a1",
   "metadata": {
    "tags": []
   },
   "outputs": [],
   "source": [
    "train = data[:len(df_train)]\n",
    "test = data[len(df_train):].drop('Transported', axis=1)"
   ]
  },
  {
   "cell_type": "code",
   "execution_count": 27,
   "id": "742be540-bfd3-4f45-ac8b-826999e5dfcd",
   "metadata": {
    "tags": []
   },
   "outputs": [
    {
     "name": "stdout",
     "output_type": "stream",
     "text": [
      "True\n"
     ]
    }
   ],
   "source": [
    "print(len(train) == len(df_train))"
   ]
  },
  {
   "cell_type": "code",
   "execution_count": 28,
   "id": "5f9ecfcb-de44-47cf-a491-d8346a3c8bbd",
   "metadata": {
    "tags": []
   },
   "outputs": [],
   "source": [
    "train.loc[:, 'Age'] = train['Age'].fillna(train['Age'].median())\n",
    "test.loc[:, 'Age'] = test['Age'].fillna(test['Age'].median())"
   ]
  },
  {
   "cell_type": "code",
   "execution_count": 29,
   "id": "6cc02d89-ae35-4853-9ff8-b334e82363ce",
   "metadata": {
    "tags": []
   },
   "outputs": [],
   "source": [
    "train.loc[:,Expenses_features] = train[Expenses_features].fillna(train[Expenses_features].median())\n",
    "test.loc[:,Expenses_features] = test[Expenses_features].fillna(test[Expenses_features].median())"
   ]
  },
  {
   "cell_type": "code",
   "execution_count": 30,
   "id": "7c34b8ba-6d17-4e7d-b154-522c17adf12b",
   "metadata": {
    "tags": []
   },
   "outputs": [
    {
     "name": "stdout",
     "output_type": "stream",
     "text": [
      "Remaining null values in train:\n",
      "\n",
      "PassengerId           0\n",
      "HomePlanet            0\n",
      "CryoSleep             0\n",
      "Cabin               199\n",
      "Destination           0\n",
      "Age                   0\n",
      "VIP                   0\n",
      "RoomService           0\n",
      "FoodCourt             0\n",
      "ShoppingMall          0\n",
      "Spa                   0\n",
      "VRDeck                0\n",
      "Name                200\n",
      "Transported           0\n",
      "TotalExpenditure      0\n",
      "dtype: int64\n",
      "\n",
      "Remaining null values in test:\n",
      "\n",
      "PassengerId           0\n",
      "HomePlanet            0\n",
      "CryoSleep             0\n",
      "Cabin               100\n",
      "Destination           0\n",
      "Age                   0\n",
      "VIP                   0\n",
      "RoomService           0\n",
      "FoodCourt             0\n",
      "ShoppingMall          0\n",
      "Spa                   0\n",
      "VRDeck                0\n",
      "Name                 94\n",
      "TotalExpenditure      0\n",
      "dtype: int64\n"
     ]
    }
   ],
   "source": [
    "print('Remaining null values in train:\\n')\n",
    "print(train.isna().sum())\n",
    "print('\\nRemaining null values in test:\\n')\n",
    "print(test.isna().sum())"
   ]
  },
  {
   "cell_type": "markdown",
   "id": "70ecfaf2-e8a2-4dee-8894-80c6d767d18d",
   "metadata": {},
   "source": [
    "Redefine `data` as the concatenation of `train` and `test`"
   ]
  },
  {
   "cell_type": "code",
   "execution_count": 31,
   "id": "446e5f53",
   "metadata": {},
   "outputs": [],
   "source": [
    "data = pd.concat([train,test], axis=0)"
   ]
  },
  {
   "cell_type": "markdown",
   "metadata": {},
   "source": [
    "## 2.3. <a id='toc2_3_'></a>[New features - `AgeGroup`, `CabinSide` and `GroupSize`](#toc0_)"
   ]
  },
  {
   "cell_type": "markdown",
   "id": "4b7e3825-6327-4392-acd6-945d87caf995",
   "metadata": {},
   "source": [
    "Create a new feature `AgeGroup` by binning the `Age` feature into 8  different categories."
   ]
  },
  {
   "cell_type": "code",
   "execution_count": 32,
   "id": "703956e1-ab5e-4026-ba94-a03d832c4227",
   "metadata": {
    "tags": []
   },
   "outputs": [
    {
     "data": {
      "text/plain": [
       "79.0"
      ]
     },
     "execution_count": 32,
     "metadata": {},
     "output_type": "execute_result"
    }
   ],
   "source": [
    "data['Age'].max()"
   ]
  },
  {
   "cell_type": "code",
   "execution_count": 33,
   "id": "fb9e9029-3aeb-4260-b265-5b4dfb5a8147",
   "metadata": {
    "tags": []
   },
   "outputs": [],
   "source": [
    "data['AgeGroup'] = 0\n",
    "for i in range(8):\n",
    "    data.loc[(data.Age >= 10*i) & (data.Age < 10*(i + 1)), 'AgeGroup'] = i"
   ]
  },
  {
   "cell_type": "code",
   "execution_count": 34,
   "id": "4c40eab2-50f9-4061-b953-ced89ef33782",
   "metadata": {
    "tags": []
   },
   "outputs": [
    {
     "data": {
      "text/plain": [
       "AgeGroup\n",
       "2    4460\n",
       "3    2538\n",
       "1    2235\n",
       "4    1570\n",
       "0     980\n",
       "5     809\n",
       "6     312\n",
       "7      66\n",
       "Name: count, dtype: int64"
      ]
     },
     "execution_count": 34,
     "metadata": {},
     "output_type": "execute_result"
    }
   ],
   "source": [
    "data['AgeGroup'].value_counts()"
   ]
  },
  {
   "cell_type": "markdown",
   "id": "8d28f8b2-b840-49af-9fe8-600dcf115393",
   "metadata": {},
   "source": [
    "Create a dummy feature `Group` by extracting the first character from the `PassengerId` column. Use `Group` to define a new feature `GroupSize` indicating how many people are in the passengers group. Drop the feature `Group` as it has too many values to be useful."
   ]
  },
  {
   "cell_type": "code",
   "execution_count": 35,
   "id": "95bf9b64-cadb-43aa-bd2e-75e64db34d41",
   "metadata": {
    "tags": []
   },
   "outputs": [],
   "source": [
    "data['Group'] = data['PassengerId'].apply(lambda x: x.split('_')[0]).astype(int)\n",
    "data['GroupSize'] = data['Group'].map(lambda x: data['Group'].value_counts()[x])\n",
    "data = data.drop('Group', axis=1)"
   ]
  },
  {
   "cell_type": "markdown",
   "id": "ca7358bd-9a8d-49ff-a180-052101ea1eb4",
   "metadata": {},
   "source": [
    "Create a new boolean feature `Solo`, indicating if a passenger is in a group just by themselves"
   ]
  },
  {
   "cell_type": "code",
   "execution_count": 36,
   "id": "d562253a-042f-426b-a989-7d5288f77455",
   "metadata": {
    "tags": []
   },
   "outputs": [],
   "source": [
    "data['Solo'] = (data['GroupSize'] == 1).astype(int)"
   ]
  },
  {
   "cell_type": "markdown",
   "id": "263a4d15-8c64-4de3-aadb-a52e4165a54e",
   "metadata": {},
   "source": [
    "We won't use `Cabin` directly, but we engineer a new feature `CabinSide` by taking the last character of `Cabin`. \"P\" for port and \"S\" for starboard. To implement this we fill `Cabin` with a placeholder value."
   ]
  },
  {
   "cell_type": "code",
   "execution_count": 37,
   "id": "109ee935-b37e-4f73-9bbb-06363103bba4",
   "metadata": {
    "tags": []
   },
   "outputs": [],
   "source": [
    "data['Cabin'] = data['Cabin'].fillna('T/0/P')"
   ]
  },
  {
   "cell_type": "code",
   "execution_count": 38,
   "id": "917a0e2d",
   "metadata": {},
   "outputs": [],
   "source": [
    "data['CabinSide'] = data['Cabin'].apply(lambda x: x.split('/')[-1])"
   ]
  },
  {
   "cell_type": "markdown",
   "metadata": {},
   "source": [
    "## 2.4. <a id='toc2_4_'></a>[Finishing preprocessing - dropping features and splitting into train and test sets](#toc0_)"
   ]
  },
  {
   "cell_type": "code",
   "execution_count": 39,
   "id": "012451d0-cba7-436a-8e96-a6b228bf42c8",
   "metadata": {
    "tags": []
   },
   "outputs": [],
   "source": [
    "data = data.drop(['PassengerId','Cabin','Name'], axis=1)"
   ]
  },
  {
   "cell_type": "code",
   "execution_count": 40,
   "id": "1d91cc74-1dae-432e-9e7e-2d56b41dc5ec",
   "metadata": {
    "tags": []
   },
   "outputs": [
    {
     "data": {
      "text/plain": [
       "HomePlanet             0\n",
       "CryoSleep              0\n",
       "Destination            0\n",
       "Age                    0\n",
       "VIP                    0\n",
       "RoomService            0\n",
       "FoodCourt              0\n",
       "ShoppingMall           0\n",
       "Spa                    0\n",
       "VRDeck                 0\n",
       "Transported         4277\n",
       "TotalExpenditure       0\n",
       "AgeGroup               0\n",
       "GroupSize              0\n",
       "Solo                   0\n",
       "CabinSide              0\n",
       "dtype: int64"
      ]
     },
     "execution_count": 40,
     "metadata": {},
     "output_type": "execute_result"
    }
   ],
   "source": [
    "data.isna().sum()"
   ]
  },
  {
   "cell_type": "code",
   "execution_count": 41,
   "id": "ec664286-e90c-4266-92dc-1c9cf4477138",
   "metadata": {
    "tags": []
   },
   "outputs": [
    {
     "data": {
      "text/html": [
       "<div>\n",
       "<style scoped>\n",
       "    .dataframe tbody tr th:only-of-type {\n",
       "        vertical-align: middle;\n",
       "    }\n",
       "\n",
       "    .dataframe tbody tr th {\n",
       "        vertical-align: top;\n",
       "    }\n",
       "\n",
       "    .dataframe thead th {\n",
       "        text-align: right;\n",
       "    }\n",
       "</style>\n",
       "<table border=\"1\" class=\"dataframe\">\n",
       "  <thead>\n",
       "    <tr style=\"text-align: right;\">\n",
       "      <th></th>\n",
       "      <th>HomePlanet</th>\n",
       "      <th>CryoSleep</th>\n",
       "      <th>Destination</th>\n",
       "      <th>Age</th>\n",
       "      <th>VIP</th>\n",
       "      <th>RoomService</th>\n",
       "      <th>FoodCourt</th>\n",
       "      <th>ShoppingMall</th>\n",
       "      <th>Spa</th>\n",
       "      <th>VRDeck</th>\n",
       "      <th>Transported</th>\n",
       "      <th>TotalExpenditure</th>\n",
       "      <th>AgeGroup</th>\n",
       "      <th>GroupSize</th>\n",
       "      <th>Solo</th>\n",
       "      <th>CabinSide</th>\n",
       "    </tr>\n",
       "  </thead>\n",
       "  <tbody>\n",
       "    <tr>\n",
       "      <th>0</th>\n",
       "      <td>Europa</td>\n",
       "      <td>False</td>\n",
       "      <td>TRAPPIST-1e</td>\n",
       "      <td>39.0</td>\n",
       "      <td>False</td>\n",
       "      <td>0.0</td>\n",
       "      <td>0.0</td>\n",
       "      <td>0.0</td>\n",
       "      <td>0.0</td>\n",
       "      <td>0.0</td>\n",
       "      <td>False</td>\n",
       "      <td>0.0</td>\n",
       "      <td>3</td>\n",
       "      <td>1</td>\n",
       "      <td>1</td>\n",
       "      <td>P</td>\n",
       "    </tr>\n",
       "    <tr>\n",
       "      <th>1</th>\n",
       "      <td>Earth</td>\n",
       "      <td>False</td>\n",
       "      <td>TRAPPIST-1e</td>\n",
       "      <td>24.0</td>\n",
       "      <td>False</td>\n",
       "      <td>109.0</td>\n",
       "      <td>9.0</td>\n",
       "      <td>25.0</td>\n",
       "      <td>549.0</td>\n",
       "      <td>44.0</td>\n",
       "      <td>True</td>\n",
       "      <td>736.0</td>\n",
       "      <td>2</td>\n",
       "      <td>1</td>\n",
       "      <td>1</td>\n",
       "      <td>S</td>\n",
       "    </tr>\n",
       "    <tr>\n",
       "      <th>2</th>\n",
       "      <td>Europa</td>\n",
       "      <td>False</td>\n",
       "      <td>TRAPPIST-1e</td>\n",
       "      <td>58.0</td>\n",
       "      <td>True</td>\n",
       "      <td>43.0</td>\n",
       "      <td>3576.0</td>\n",
       "      <td>0.0</td>\n",
       "      <td>6715.0</td>\n",
       "      <td>49.0</td>\n",
       "      <td>False</td>\n",
       "      <td>10383.0</td>\n",
       "      <td>5</td>\n",
       "      <td>2</td>\n",
       "      <td>0</td>\n",
       "      <td>S</td>\n",
       "    </tr>\n",
       "    <tr>\n",
       "      <th>3</th>\n",
       "      <td>Europa</td>\n",
       "      <td>False</td>\n",
       "      <td>TRAPPIST-1e</td>\n",
       "      <td>33.0</td>\n",
       "      <td>False</td>\n",
       "      <td>0.0</td>\n",
       "      <td>1283.0</td>\n",
       "      <td>371.0</td>\n",
       "      <td>3329.0</td>\n",
       "      <td>193.0</td>\n",
       "      <td>False</td>\n",
       "      <td>5176.0</td>\n",
       "      <td>3</td>\n",
       "      <td>2</td>\n",
       "      <td>0</td>\n",
       "      <td>S</td>\n",
       "    </tr>\n",
       "    <tr>\n",
       "      <th>4</th>\n",
       "      <td>Earth</td>\n",
       "      <td>False</td>\n",
       "      <td>TRAPPIST-1e</td>\n",
       "      <td>16.0</td>\n",
       "      <td>False</td>\n",
       "      <td>303.0</td>\n",
       "      <td>70.0</td>\n",
       "      <td>151.0</td>\n",
       "      <td>565.0</td>\n",
       "      <td>2.0</td>\n",
       "      <td>True</td>\n",
       "      <td>1091.0</td>\n",
       "      <td>1</td>\n",
       "      <td>1</td>\n",
       "      <td>1</td>\n",
       "      <td>S</td>\n",
       "    </tr>\n",
       "    <tr>\n",
       "      <th>...</th>\n",
       "      <td>...</td>\n",
       "      <td>...</td>\n",
       "      <td>...</td>\n",
       "      <td>...</td>\n",
       "      <td>...</td>\n",
       "      <td>...</td>\n",
       "      <td>...</td>\n",
       "      <td>...</td>\n",
       "      <td>...</td>\n",
       "      <td>...</td>\n",
       "      <td>...</td>\n",
       "      <td>...</td>\n",
       "      <td>...</td>\n",
       "      <td>...</td>\n",
       "      <td>...</td>\n",
       "      <td>...</td>\n",
       "    </tr>\n",
       "    <tr>\n",
       "      <th>4272</th>\n",
       "      <td>Earth</td>\n",
       "      <td>True</td>\n",
       "      <td>TRAPPIST-1e</td>\n",
       "      <td>34.0</td>\n",
       "      <td>False</td>\n",
       "      <td>0.0</td>\n",
       "      <td>0.0</td>\n",
       "      <td>0.0</td>\n",
       "      <td>0.0</td>\n",
       "      <td>0.0</td>\n",
       "      <td>NaN</td>\n",
       "      <td>0.0</td>\n",
       "      <td>3</td>\n",
       "      <td>2</td>\n",
       "      <td>0</td>\n",
       "      <td>S</td>\n",
       "    </tr>\n",
       "    <tr>\n",
       "      <th>4273</th>\n",
       "      <td>Earth</td>\n",
       "      <td>False</td>\n",
       "      <td>TRAPPIST-1e</td>\n",
       "      <td>42.0</td>\n",
       "      <td>False</td>\n",
       "      <td>0.0</td>\n",
       "      <td>847.0</td>\n",
       "      <td>17.0</td>\n",
       "      <td>10.0</td>\n",
       "      <td>144.0</td>\n",
       "      <td>NaN</td>\n",
       "      <td>1018.0</td>\n",
       "      <td>4</td>\n",
       "      <td>1</td>\n",
       "      <td>1</td>\n",
       "      <td>P</td>\n",
       "    </tr>\n",
       "    <tr>\n",
       "      <th>4274</th>\n",
       "      <td>Mars</td>\n",
       "      <td>True</td>\n",
       "      <td>55 Cancri e</td>\n",
       "      <td>26.0</td>\n",
       "      <td>False</td>\n",
       "      <td>0.0</td>\n",
       "      <td>0.0</td>\n",
       "      <td>0.0</td>\n",
       "      <td>0.0</td>\n",
       "      <td>0.0</td>\n",
       "      <td>NaN</td>\n",
       "      <td>0.0</td>\n",
       "      <td>2</td>\n",
       "      <td>1</td>\n",
       "      <td>1</td>\n",
       "      <td>P</td>\n",
       "    </tr>\n",
       "    <tr>\n",
       "      <th>4275</th>\n",
       "      <td>Europa</td>\n",
       "      <td>False</td>\n",
       "      <td>TRAPPIST-1e</td>\n",
       "      <td>26.0</td>\n",
       "      <td>False</td>\n",
       "      <td>0.0</td>\n",
       "      <td>2680.0</td>\n",
       "      <td>0.0</td>\n",
       "      <td>0.0</td>\n",
       "      <td>523.0</td>\n",
       "      <td>NaN</td>\n",
       "      <td>3203.0</td>\n",
       "      <td>2</td>\n",
       "      <td>1</td>\n",
       "      <td>1</td>\n",
       "      <td>P</td>\n",
       "    </tr>\n",
       "    <tr>\n",
       "      <th>4276</th>\n",
       "      <td>Earth</td>\n",
       "      <td>True</td>\n",
       "      <td>PSO J318.5-22</td>\n",
       "      <td>43.0</td>\n",
       "      <td>False</td>\n",
       "      <td>0.0</td>\n",
       "      <td>0.0</td>\n",
       "      <td>0.0</td>\n",
       "      <td>0.0</td>\n",
       "      <td>0.0</td>\n",
       "      <td>NaN</td>\n",
       "      <td>0.0</td>\n",
       "      <td>4</td>\n",
       "      <td>1</td>\n",
       "      <td>1</td>\n",
       "      <td>S</td>\n",
       "    </tr>\n",
       "  </tbody>\n",
       "</table>\n",
       "<p>12970 rows × 16 columns</p>\n",
       "</div>"
      ],
      "text/plain": [
       "     HomePlanet  CryoSleep    Destination   Age    VIP  RoomService  \\\n",
       "0        Europa      False    TRAPPIST-1e  39.0  False          0.0   \n",
       "1         Earth      False    TRAPPIST-1e  24.0  False        109.0   \n",
       "2        Europa      False    TRAPPIST-1e  58.0   True         43.0   \n",
       "3        Europa      False    TRAPPIST-1e  33.0  False          0.0   \n",
       "4         Earth      False    TRAPPIST-1e  16.0  False        303.0   \n",
       "...         ...        ...            ...   ...    ...          ...   \n",
       "4272      Earth       True    TRAPPIST-1e  34.0  False          0.0   \n",
       "4273      Earth      False    TRAPPIST-1e  42.0  False          0.0   \n",
       "4274       Mars       True    55 Cancri e  26.0  False          0.0   \n",
       "4275     Europa      False    TRAPPIST-1e  26.0  False          0.0   \n",
       "4276      Earth       True  PSO J318.5-22  43.0  False          0.0   \n",
       "\n",
       "      FoodCourt  ShoppingMall     Spa  VRDeck Transported  TotalExpenditure  \\\n",
       "0           0.0           0.0     0.0     0.0       False               0.0   \n",
       "1           9.0          25.0   549.0    44.0        True             736.0   \n",
       "2        3576.0           0.0  6715.0    49.0       False           10383.0   \n",
       "3        1283.0         371.0  3329.0   193.0       False            5176.0   \n",
       "4          70.0         151.0   565.0     2.0        True            1091.0   \n",
       "...         ...           ...     ...     ...         ...               ...   \n",
       "4272        0.0           0.0     0.0     0.0         NaN               0.0   \n",
       "4273      847.0          17.0    10.0   144.0         NaN            1018.0   \n",
       "4274        0.0           0.0     0.0     0.0         NaN               0.0   \n",
       "4275     2680.0           0.0     0.0   523.0         NaN            3203.0   \n",
       "4276        0.0           0.0     0.0     0.0         NaN               0.0   \n",
       "\n",
       "      AgeGroup  GroupSize  Solo CabinSide  \n",
       "0            3          1     1         P  \n",
       "1            2          1     1         S  \n",
       "2            5          2     0         S  \n",
       "3            3          2     0         S  \n",
       "4            1          1     1         S  \n",
       "...        ...        ...   ...       ...  \n",
       "4272         3          2     0         S  \n",
       "4273         4          1     1         P  \n",
       "4274         2          1     1         P  \n",
       "4275         2          1     1         P  \n",
       "4276         4          1     1         S  \n",
       "\n",
       "[12970 rows x 16 columns]"
      ]
     },
     "execution_count": 41,
     "metadata": {},
     "output_type": "execute_result"
    }
   ],
   "source": [
    "data"
   ]
  },
  {
   "cell_type": "code",
   "execution_count": 42,
   "id": "5114df21-e4f3-45da-8ba3-2b8415e7fa59",
   "metadata": {
    "tags": []
   },
   "outputs": [],
   "source": [
    "train = data[:len(df_train)]\n",
    "test = data[len(df_train):].drop('Transported', axis=1)"
   ]
  },
  {
   "cell_type": "code",
   "execution_count": 43,
   "id": "f2537fc9-b043-490f-af1a-cbddb80ebfb2",
   "metadata": {
    "tags": []
   },
   "outputs": [
    {
     "data": {
      "text/html": [
       "<div>\n",
       "<style scoped>\n",
       "    .dataframe tbody tr th:only-of-type {\n",
       "        vertical-align: middle;\n",
       "    }\n",
       "\n",
       "    .dataframe tbody tr th {\n",
       "        vertical-align: top;\n",
       "    }\n",
       "\n",
       "    .dataframe thead th {\n",
       "        text-align: right;\n",
       "    }\n",
       "</style>\n",
       "<table border=\"1\" class=\"dataframe\">\n",
       "  <thead>\n",
       "    <tr style=\"text-align: right;\">\n",
       "      <th></th>\n",
       "      <th>HomePlanet</th>\n",
       "      <th>CryoSleep</th>\n",
       "      <th>Destination</th>\n",
       "      <th>Age</th>\n",
       "      <th>VIP</th>\n",
       "      <th>RoomService</th>\n",
       "      <th>FoodCourt</th>\n",
       "      <th>ShoppingMall</th>\n",
       "      <th>Spa</th>\n",
       "      <th>VRDeck</th>\n",
       "      <th>Transported</th>\n",
       "      <th>TotalExpenditure</th>\n",
       "      <th>AgeGroup</th>\n",
       "      <th>GroupSize</th>\n",
       "      <th>Solo</th>\n",
       "      <th>CabinSide</th>\n",
       "    </tr>\n",
       "  </thead>\n",
       "  <tbody>\n",
       "    <tr>\n",
       "      <th>0</th>\n",
       "      <td>Europa</td>\n",
       "      <td>False</td>\n",
       "      <td>TRAPPIST-1e</td>\n",
       "      <td>39.0</td>\n",
       "      <td>False</td>\n",
       "      <td>0.0</td>\n",
       "      <td>0.0</td>\n",
       "      <td>0.0</td>\n",
       "      <td>0.0</td>\n",
       "      <td>0.0</td>\n",
       "      <td>False</td>\n",
       "      <td>0.0</td>\n",
       "      <td>3</td>\n",
       "      <td>1</td>\n",
       "      <td>1</td>\n",
       "      <td>P</td>\n",
       "    </tr>\n",
       "    <tr>\n",
       "      <th>1</th>\n",
       "      <td>Earth</td>\n",
       "      <td>False</td>\n",
       "      <td>TRAPPIST-1e</td>\n",
       "      <td>24.0</td>\n",
       "      <td>False</td>\n",
       "      <td>109.0</td>\n",
       "      <td>9.0</td>\n",
       "      <td>25.0</td>\n",
       "      <td>549.0</td>\n",
       "      <td>44.0</td>\n",
       "      <td>True</td>\n",
       "      <td>736.0</td>\n",
       "      <td>2</td>\n",
       "      <td>1</td>\n",
       "      <td>1</td>\n",
       "      <td>S</td>\n",
       "    </tr>\n",
       "    <tr>\n",
       "      <th>2</th>\n",
       "      <td>Europa</td>\n",
       "      <td>False</td>\n",
       "      <td>TRAPPIST-1e</td>\n",
       "      <td>58.0</td>\n",
       "      <td>True</td>\n",
       "      <td>43.0</td>\n",
       "      <td>3576.0</td>\n",
       "      <td>0.0</td>\n",
       "      <td>6715.0</td>\n",
       "      <td>49.0</td>\n",
       "      <td>False</td>\n",
       "      <td>10383.0</td>\n",
       "      <td>5</td>\n",
       "      <td>2</td>\n",
       "      <td>0</td>\n",
       "      <td>S</td>\n",
       "    </tr>\n",
       "    <tr>\n",
       "      <th>3</th>\n",
       "      <td>Europa</td>\n",
       "      <td>False</td>\n",
       "      <td>TRAPPIST-1e</td>\n",
       "      <td>33.0</td>\n",
       "      <td>False</td>\n",
       "      <td>0.0</td>\n",
       "      <td>1283.0</td>\n",
       "      <td>371.0</td>\n",
       "      <td>3329.0</td>\n",
       "      <td>193.0</td>\n",
       "      <td>False</td>\n",
       "      <td>5176.0</td>\n",
       "      <td>3</td>\n",
       "      <td>2</td>\n",
       "      <td>0</td>\n",
       "      <td>S</td>\n",
       "    </tr>\n",
       "    <tr>\n",
       "      <th>4</th>\n",
       "      <td>Earth</td>\n",
       "      <td>False</td>\n",
       "      <td>TRAPPIST-1e</td>\n",
       "      <td>16.0</td>\n",
       "      <td>False</td>\n",
       "      <td>303.0</td>\n",
       "      <td>70.0</td>\n",
       "      <td>151.0</td>\n",
       "      <td>565.0</td>\n",
       "      <td>2.0</td>\n",
       "      <td>True</td>\n",
       "      <td>1091.0</td>\n",
       "      <td>1</td>\n",
       "      <td>1</td>\n",
       "      <td>1</td>\n",
       "      <td>S</td>\n",
       "    </tr>\n",
       "  </tbody>\n",
       "</table>\n",
       "</div>"
      ],
      "text/plain": [
       "  HomePlanet  CryoSleep  Destination   Age    VIP  RoomService  FoodCourt  \\\n",
       "0     Europa      False  TRAPPIST-1e  39.0  False          0.0        0.0   \n",
       "1      Earth      False  TRAPPIST-1e  24.0  False        109.0        9.0   \n",
       "2     Europa      False  TRAPPIST-1e  58.0   True         43.0     3576.0   \n",
       "3     Europa      False  TRAPPIST-1e  33.0  False          0.0     1283.0   \n",
       "4      Earth      False  TRAPPIST-1e  16.0  False        303.0       70.0   \n",
       "\n",
       "   ShoppingMall     Spa  VRDeck Transported  TotalExpenditure  AgeGroup  \\\n",
       "0           0.0     0.0     0.0       False               0.0         3   \n",
       "1          25.0   549.0    44.0        True             736.0         2   \n",
       "2           0.0  6715.0    49.0       False           10383.0         5   \n",
       "3         371.0  3329.0   193.0       False            5176.0         3   \n",
       "4         151.0   565.0     2.0        True            1091.0         1   \n",
       "\n",
       "   GroupSize  Solo CabinSide  \n",
       "0          1     1         P  \n",
       "1          1     1         S  \n",
       "2          2     0         S  \n",
       "3          2     0         S  \n",
       "4          1     1         S  "
      ]
     },
     "execution_count": 43,
     "metadata": {},
     "output_type": "execute_result"
    }
   ],
   "source": [
    "train.head()"
   ]
  },
  {
   "cell_type": "code",
   "execution_count": 44,
   "id": "1d793265-8109-457e-bc8b-c8b347628a90",
   "metadata": {
    "tags": []
   },
   "outputs": [
    {
     "data": {
      "text/html": [
       "<div>\n",
       "<style scoped>\n",
       "    .dataframe tbody tr th:only-of-type {\n",
       "        vertical-align: middle;\n",
       "    }\n",
       "\n",
       "    .dataframe tbody tr th {\n",
       "        vertical-align: top;\n",
       "    }\n",
       "\n",
       "    .dataframe thead th {\n",
       "        text-align: right;\n",
       "    }\n",
       "</style>\n",
       "<table border=\"1\" class=\"dataframe\">\n",
       "  <thead>\n",
       "    <tr style=\"text-align: right;\">\n",
       "      <th></th>\n",
       "      <th>HomePlanet</th>\n",
       "      <th>CryoSleep</th>\n",
       "      <th>Destination</th>\n",
       "      <th>Age</th>\n",
       "      <th>VIP</th>\n",
       "      <th>RoomService</th>\n",
       "      <th>FoodCourt</th>\n",
       "      <th>ShoppingMall</th>\n",
       "      <th>Spa</th>\n",
       "      <th>VRDeck</th>\n",
       "      <th>TotalExpenditure</th>\n",
       "      <th>AgeGroup</th>\n",
       "      <th>GroupSize</th>\n",
       "      <th>Solo</th>\n",
       "      <th>CabinSide</th>\n",
       "    </tr>\n",
       "  </thead>\n",
       "  <tbody>\n",
       "    <tr>\n",
       "      <th>0</th>\n",
       "      <td>Earth</td>\n",
       "      <td>True</td>\n",
       "      <td>TRAPPIST-1e</td>\n",
       "      <td>27.0</td>\n",
       "      <td>False</td>\n",
       "      <td>0.0</td>\n",
       "      <td>0.0</td>\n",
       "      <td>0.0</td>\n",
       "      <td>0.0</td>\n",
       "      <td>0.0</td>\n",
       "      <td>0.0</td>\n",
       "      <td>2</td>\n",
       "      <td>1</td>\n",
       "      <td>1</td>\n",
       "      <td>S</td>\n",
       "    </tr>\n",
       "    <tr>\n",
       "      <th>1</th>\n",
       "      <td>Earth</td>\n",
       "      <td>False</td>\n",
       "      <td>TRAPPIST-1e</td>\n",
       "      <td>19.0</td>\n",
       "      <td>False</td>\n",
       "      <td>0.0</td>\n",
       "      <td>9.0</td>\n",
       "      <td>0.0</td>\n",
       "      <td>2823.0</td>\n",
       "      <td>0.0</td>\n",
       "      <td>2832.0</td>\n",
       "      <td>1</td>\n",
       "      <td>1</td>\n",
       "      <td>1</td>\n",
       "      <td>S</td>\n",
       "    </tr>\n",
       "    <tr>\n",
       "      <th>2</th>\n",
       "      <td>Europa</td>\n",
       "      <td>True</td>\n",
       "      <td>55 Cancri e</td>\n",
       "      <td>31.0</td>\n",
       "      <td>False</td>\n",
       "      <td>0.0</td>\n",
       "      <td>0.0</td>\n",
       "      <td>0.0</td>\n",
       "      <td>0.0</td>\n",
       "      <td>0.0</td>\n",
       "      <td>0.0</td>\n",
       "      <td>3</td>\n",
       "      <td>1</td>\n",
       "      <td>1</td>\n",
       "      <td>S</td>\n",
       "    </tr>\n",
       "    <tr>\n",
       "      <th>3</th>\n",
       "      <td>Europa</td>\n",
       "      <td>False</td>\n",
       "      <td>TRAPPIST-1e</td>\n",
       "      <td>38.0</td>\n",
       "      <td>False</td>\n",
       "      <td>0.0</td>\n",
       "      <td>6652.0</td>\n",
       "      <td>0.0</td>\n",
       "      <td>181.0</td>\n",
       "      <td>585.0</td>\n",
       "      <td>7418.0</td>\n",
       "      <td>3</td>\n",
       "      <td>1</td>\n",
       "      <td>1</td>\n",
       "      <td>S</td>\n",
       "    </tr>\n",
       "    <tr>\n",
       "      <th>4</th>\n",
       "      <td>Earth</td>\n",
       "      <td>False</td>\n",
       "      <td>TRAPPIST-1e</td>\n",
       "      <td>20.0</td>\n",
       "      <td>False</td>\n",
       "      <td>10.0</td>\n",
       "      <td>0.0</td>\n",
       "      <td>635.0</td>\n",
       "      <td>0.0</td>\n",
       "      <td>0.0</td>\n",
       "      <td>645.0</td>\n",
       "      <td>2</td>\n",
       "      <td>1</td>\n",
       "      <td>1</td>\n",
       "      <td>S</td>\n",
       "    </tr>\n",
       "  </tbody>\n",
       "</table>\n",
       "</div>"
      ],
      "text/plain": [
       "  HomePlanet  CryoSleep  Destination   Age    VIP  RoomService  FoodCourt  \\\n",
       "0      Earth       True  TRAPPIST-1e  27.0  False          0.0        0.0   \n",
       "1      Earth      False  TRAPPIST-1e  19.0  False          0.0        9.0   \n",
       "2     Europa       True  55 Cancri e  31.0  False          0.0        0.0   \n",
       "3     Europa      False  TRAPPIST-1e  38.0  False          0.0     6652.0   \n",
       "4      Earth      False  TRAPPIST-1e  20.0  False         10.0        0.0   \n",
       "\n",
       "   ShoppingMall     Spa  VRDeck  TotalExpenditure  AgeGroup  GroupSize  Solo  \\\n",
       "0           0.0     0.0     0.0               0.0         2          1     1   \n",
       "1           0.0  2823.0     0.0            2832.0         1          1     1   \n",
       "2           0.0     0.0     0.0               0.0         3          1     1   \n",
       "3           0.0   181.0   585.0            7418.0         3          1     1   \n",
       "4         635.0     0.0     0.0             645.0         2          1     1   \n",
       "\n",
       "  CabinSide  \n",
       "0         S  \n",
       "1         S  \n",
       "2         S  \n",
       "3         S  \n",
       "4         S  "
      ]
     },
     "execution_count": 44,
     "metadata": {},
     "output_type": "execute_result"
    }
   ],
   "source": [
    "test.head()"
   ]
  },
  {
   "cell_type": "markdown",
   "id": "440850c0",
   "metadata": {},
   "source": [
    "These are our final dataframes for the train and test set. We have engineered new features `TotalExpenditure`, `AgeGroup`, `GroupSize`, `Solo` and `CabinSide`. We have filled all null values, and are now nearly ready to train a model"
   ]
  },
  {
   "cell_type": "markdown",
   "metadata": {},
   "source": [
    "# 3. <a id='toc3_'></a>[Tuning a `LGBMClassifier` with `RandomizedSearchCV`](#toc0_)"
   ]
  },
  {
   "cell_type": "markdown",
   "id": "386c7f96-05de-4737-bdb7-fd2a9dbe48ea",
   "metadata": {},
   "source": [
    "Before we can fit a model to the data, we need to encode the categorical and boolean features in a way the `LGBMClassifier` can understand.\n",
    "\n",
    "- Categorical features are encoded with the `pandas.Categorical` datatype. This is convenient and avoids the need to manually encode using, for example, `pandas.get_dummies`. LightGBM can handle categorical features encoded in this way but not all ML algorithms can, for example neural networks cannot. \n",
    "\n",
    "- Boolean features are converted to the `int` datatype."
   ]
  },
  {
   "cell_type": "code",
   "execution_count": 45,
   "id": "867eef96-11c0-47c0-8a42-ef569e9ccc7f",
   "metadata": {
    "tags": []
   },
   "outputs": [
    {
     "data": {
      "text/plain": [
       "HomePlanet           object\n",
       "CryoSleep              bool\n",
       "Destination          object\n",
       "Age                 float64\n",
       "VIP                    bool\n",
       "RoomService         float64\n",
       "FoodCourt           float64\n",
       "ShoppingMall        float64\n",
       "Spa                 float64\n",
       "VRDeck              float64\n",
       "Transported          object\n",
       "TotalExpenditure    float64\n",
       "AgeGroup              int64\n",
       "GroupSize             int64\n",
       "Solo                  int32\n",
       "CabinSide            object\n",
       "dtype: object"
      ]
     },
     "execution_count": 45,
     "metadata": {},
     "output_type": "execute_result"
    }
   ],
   "source": [
    "train.dtypes"
   ]
  },
  {
   "cell_type": "code",
   "execution_count": 46,
   "id": "bb92b007-da4d-49de-b963-b3a8c79075fe",
   "metadata": {
    "tags": []
   },
   "outputs": [
    {
     "name": "stderr",
     "output_type": "stream",
     "text": [
      "C:\\Users\\Daniel\\AppData\\Local\\Temp\\ipykernel_12220\\2185600861.py:1: SettingWithCopyWarning: \n",
      "A value is trying to be set on a copy of a slice from a DataFrame.\n",
      "Try using .loc[row_indexer,col_indexer] = value instead\n",
      "\n",
      "See the caveats in the documentation: https://pandas.pydata.org/pandas-docs/stable/user_guide/indexing.html#returning-a-view-versus-a-copy\n",
      "  train[['HomePlanet','Destination','CabinSide']] = train[['HomePlanet','Destination','CabinSide']].astype('category')\n",
      "C:\\Users\\Daniel\\AppData\\Local\\Temp\\ipykernel_12220\\2185600861.py:2: SettingWithCopyWarning: \n",
      "A value is trying to be set on a copy of a slice from a DataFrame.\n",
      "Try using .loc[row_indexer,col_indexer] = value instead\n",
      "\n",
      "See the caveats in the documentation: https://pandas.pydata.org/pandas-docs/stable/user_guide/indexing.html#returning-a-view-versus-a-copy\n",
      "  train[['VIP','Transported','CryoSleep']] = train[['VIP','Transported','CryoSleep']].astype(int)\n"
     ]
    }
   ],
   "source": [
    "train[['HomePlanet','Destination','CabinSide']] = train[['HomePlanet','Destination','CabinSide']].astype('category')\n",
    "train[['VIP','Transported','CryoSleep']] = train[['VIP','Transported','CryoSleep']].astype(int)"
   ]
  },
  {
   "cell_type": "code",
   "execution_count": 47,
   "id": "4af5c49c-2a90-4b7c-9957-3c6702e2f540",
   "metadata": {
    "tags": []
   },
   "outputs": [
    {
     "data": {
      "text/plain": [
       "HomePlanet          category\n",
       "CryoSleep              int32\n",
       "Destination         category\n",
       "Age                  float64\n",
       "VIP                    int32\n",
       "RoomService          float64\n",
       "FoodCourt            float64\n",
       "ShoppingMall         float64\n",
       "Spa                  float64\n",
       "VRDeck               float64\n",
       "Transported            int32\n",
       "TotalExpenditure     float64\n",
       "AgeGroup               int64\n",
       "GroupSize              int64\n",
       "Solo                   int32\n",
       "CabinSide           category\n",
       "dtype: object"
      ]
     },
     "execution_count": 47,
     "metadata": {},
     "output_type": "execute_result"
    }
   ],
   "source": [
    "train.dtypes"
   ]
  },
  {
   "cell_type": "markdown",
   "id": "15145576-dd74-4c9d-be02-d6441ef19c74",
   "metadata": {},
   "source": [
    "Use `train_test_split` to seperate out a validation set from the training data"
   ]
  },
  {
   "cell_type": "code",
   "execution_count": 48,
   "id": "3155e10f-a42a-4a7d-8797-44ab64c72100",
   "metadata": {
    "tags": []
   },
   "outputs": [],
   "source": [
    "X = train.drop('Transported', axis=1)\n",
    "y = train['Transported']\n",
    "X_train, X_val, y_train, y_val = train_test_split(X, y, test_size=0.2, random_state=594)\n",
    "evals = [(X_train, y_train), (X_val, y_val)]"
   ]
  },
  {
   "cell_type": "code",
   "execution_count": 49,
   "id": "3fd7dc67-7ef8-4770-8f8f-5a53482dcf28",
   "metadata": {
    "tags": []
   },
   "outputs": [],
   "source": [
    "estimator = LGBMClassifier(random_state=594, verbose=-1)"
   ]
  },
  {
   "cell_type": "markdown",
   "id": "a5bc1f61-0c21-4108-8a98-b871458112f0",
   "metadata": {},
   "source": [
    "Initialise a parameter grid to use in the random search using the `randint` and `uniform` classes from scipy."
   ]
  },
  {
   "cell_type": "code",
   "execution_count": 50,
   "id": "f5b270a3-d12b-400d-bd30-7ed1e4ce59ad",
   "metadata": {
    "tags": []
   },
   "outputs": [],
   "source": [
    "param_grid = {\n",
    "    'n_estimators': randint(50, 500),\n",
    "    'learning_rate': uniform(0.01, 0.3),\n",
    "    'max_depth': randint(3, 15),\n",
    "    'num_leaves': randint(20, 200),\n",
    "    'subsample': uniform(0.6, 0.4),\n",
    "    'colsample_bytree': uniform(0.6, 0.4),\n",
    "    'min_child_samples': randint(5, 100),\n",
    "    'reg_alpha': uniform(0, 1),\n",
    "    'reg_lambda': uniform(0, 1),\n",
    "}"
   ]
  },
  {
   "cell_type": "markdown",
   "id": "2cba2ee7-17f6-4487-843c-b8a5e3c24ba7",
   "metadata": {},
   "source": [
    "Initialise and fit a random search to the training data (minus the validation set)"
   ]
  },
  {
   "cell_type": "code",
   "execution_count": 51,
   "id": "67c116f7-6288-423b-b9cd-171da1efbb3c",
   "metadata": {
    "tags": []
   },
   "outputs": [],
   "source": [
    "random_search = RandomizedSearchCV(\n",
    "    estimator=estimator,\n",
    "    param_distributions=param_grid,\n",
    "    scoring='accuracy',\n",
    "    cv=5,\n",
    "    n_jobs=-1,\n",
    "    n_iter=300,\n",
    ")"
   ]
  },
  {
   "cell_type": "code",
   "execution_count": 52,
   "id": "d99de079-c0c4-486d-9c98-1dbb9f8e7521",
   "metadata": {
    "tags": []
   },
   "outputs": [
    {
     "data": {
      "text/html": [
       "<style>#sk-container-id-1 {color: black;}#sk-container-id-1 pre{padding: 0;}#sk-container-id-1 div.sk-toggleable {background-color: white;}#sk-container-id-1 label.sk-toggleable__label {cursor: pointer;display: block;width: 100%;margin-bottom: 0;padding: 0.3em;box-sizing: border-box;text-align: center;}#sk-container-id-1 label.sk-toggleable__label-arrow:before {content: \"▸\";float: left;margin-right: 0.25em;color: #696969;}#sk-container-id-1 label.sk-toggleable__label-arrow:hover:before {color: black;}#sk-container-id-1 div.sk-estimator:hover label.sk-toggleable__label-arrow:before {color: black;}#sk-container-id-1 div.sk-toggleable__content {max-height: 0;max-width: 0;overflow: hidden;text-align: left;background-color: #f0f8ff;}#sk-container-id-1 div.sk-toggleable__content pre {margin: 0.2em;color: black;border-radius: 0.25em;background-color: #f0f8ff;}#sk-container-id-1 input.sk-toggleable__control:checked~div.sk-toggleable__content {max-height: 200px;max-width: 100%;overflow: auto;}#sk-container-id-1 input.sk-toggleable__control:checked~label.sk-toggleable__label-arrow:before {content: \"▾\";}#sk-container-id-1 div.sk-estimator input.sk-toggleable__control:checked~label.sk-toggleable__label {background-color: #d4ebff;}#sk-container-id-1 div.sk-label input.sk-toggleable__control:checked~label.sk-toggleable__label {background-color: #d4ebff;}#sk-container-id-1 input.sk-hidden--visually {border: 0;clip: rect(1px 1px 1px 1px);clip: rect(1px, 1px, 1px, 1px);height: 1px;margin: -1px;overflow: hidden;padding: 0;position: absolute;width: 1px;}#sk-container-id-1 div.sk-estimator {font-family: monospace;background-color: #f0f8ff;border: 1px dotted black;border-radius: 0.25em;box-sizing: border-box;margin-bottom: 0.5em;}#sk-container-id-1 div.sk-estimator:hover {background-color: #d4ebff;}#sk-container-id-1 div.sk-parallel-item::after {content: \"\";width: 100%;border-bottom: 1px solid gray;flex-grow: 1;}#sk-container-id-1 div.sk-label:hover label.sk-toggleable__label {background-color: #d4ebff;}#sk-container-id-1 div.sk-serial::before {content: \"\";position: absolute;border-left: 1px solid gray;box-sizing: border-box;top: 0;bottom: 0;left: 50%;z-index: 0;}#sk-container-id-1 div.sk-serial {display: flex;flex-direction: column;align-items: center;background-color: white;padding-right: 0.2em;padding-left: 0.2em;position: relative;}#sk-container-id-1 div.sk-item {position: relative;z-index: 1;}#sk-container-id-1 div.sk-parallel {display: flex;align-items: stretch;justify-content: center;background-color: white;position: relative;}#sk-container-id-1 div.sk-item::before, #sk-container-id-1 div.sk-parallel-item::before {content: \"\";position: absolute;border-left: 1px solid gray;box-sizing: border-box;top: 0;bottom: 0;left: 50%;z-index: -1;}#sk-container-id-1 div.sk-parallel-item {display: flex;flex-direction: column;z-index: 1;position: relative;background-color: white;}#sk-container-id-1 div.sk-parallel-item:first-child::after {align-self: flex-end;width: 50%;}#sk-container-id-1 div.sk-parallel-item:last-child::after {align-self: flex-start;width: 50%;}#sk-container-id-1 div.sk-parallel-item:only-child::after {width: 0;}#sk-container-id-1 div.sk-dashed-wrapped {border: 1px dashed gray;margin: 0 0.4em 0.5em 0.4em;box-sizing: border-box;padding-bottom: 0.4em;background-color: white;}#sk-container-id-1 div.sk-label label {font-family: monospace;font-weight: bold;display: inline-block;line-height: 1.2em;}#sk-container-id-1 div.sk-label-container {text-align: center;}#sk-container-id-1 div.sk-container {/* jupyter's `normalize.less` sets `[hidden] { display: none; }` but bootstrap.min.css set `[hidden] { display: none !important; }` so we also need the `!important` here to be able to override the default hidden behavior on the sphinx rendered scikit-learn.org. See: https://github.com/scikit-learn/scikit-learn/issues/21755 */display: inline-block !important;position: relative;}#sk-container-id-1 div.sk-text-repr-fallback {display: none;}</style><div id=\"sk-container-id-1\" class=\"sk-top-container\"><div class=\"sk-text-repr-fallback\"><pre>RandomizedSearchCV(cv=5, estimator=LGBMClassifier(random_state=594, verbose=-1),\n",
       "                   n_iter=300, n_jobs=-1,\n",
       "                   param_distributions={&#x27;colsample_bytree&#x27;: &lt;scipy.stats._distn_infrastructure.rv_continuous_frozen object at 0x00000207A3E95190&gt;,\n",
       "                                        &#x27;learning_rate&#x27;: &lt;scipy.stats._distn_infrastructure.rv_continuous_frozen object at 0x00000207A2505AD0&gt;,\n",
       "                                        &#x27;max_depth&#x27;: &lt;scipy.stats._dis...\n",
       "                                        &#x27;num_leaves&#x27;: &lt;scipy.stats._distn_infrastructure.rv_discrete_frozen object at 0x00000207A3E944D0&gt;,\n",
       "                                        &#x27;reg_alpha&#x27;: &lt;scipy.stats._distn_infrastructure.rv_continuous_frozen object at 0x00000207A3E95D50&gt;,\n",
       "                                        &#x27;reg_lambda&#x27;: &lt;scipy.stats._distn_infrastructure.rv_continuous_frozen object at 0x00000207A3E962D0&gt;,\n",
       "                                        &#x27;subsample&#x27;: &lt;scipy.stats._distn_infrastructure.rv_continuous_frozen object at 0x00000207A3E94C50&gt;},\n",
       "                   scoring=&#x27;accuracy&#x27;)</pre><b>In a Jupyter environment, please rerun this cell to show the HTML representation or trust the notebook. <br />On GitHub, the HTML representation is unable to render, please try loading this page with nbviewer.org.</b></div><div class=\"sk-container\" hidden><div class=\"sk-item sk-dashed-wrapped\"><div class=\"sk-label-container\"><div class=\"sk-label sk-toggleable\"><input class=\"sk-toggleable__control sk-hidden--visually\" id=\"sk-estimator-id-1\" type=\"checkbox\" ><label for=\"sk-estimator-id-1\" class=\"sk-toggleable__label sk-toggleable__label-arrow\">RandomizedSearchCV</label><div class=\"sk-toggleable__content\"><pre>RandomizedSearchCV(cv=5, estimator=LGBMClassifier(random_state=594, verbose=-1),\n",
       "                   n_iter=300, n_jobs=-1,\n",
       "                   param_distributions={&#x27;colsample_bytree&#x27;: &lt;scipy.stats._distn_infrastructure.rv_continuous_frozen object at 0x00000207A3E95190&gt;,\n",
       "                                        &#x27;learning_rate&#x27;: &lt;scipy.stats._distn_infrastructure.rv_continuous_frozen object at 0x00000207A2505AD0&gt;,\n",
       "                                        &#x27;max_depth&#x27;: &lt;scipy.stats._dis...\n",
       "                                        &#x27;num_leaves&#x27;: &lt;scipy.stats._distn_infrastructure.rv_discrete_frozen object at 0x00000207A3E944D0&gt;,\n",
       "                                        &#x27;reg_alpha&#x27;: &lt;scipy.stats._distn_infrastructure.rv_continuous_frozen object at 0x00000207A3E95D50&gt;,\n",
       "                                        &#x27;reg_lambda&#x27;: &lt;scipy.stats._distn_infrastructure.rv_continuous_frozen object at 0x00000207A3E962D0&gt;,\n",
       "                                        &#x27;subsample&#x27;: &lt;scipy.stats._distn_infrastructure.rv_continuous_frozen object at 0x00000207A3E94C50&gt;},\n",
       "                   scoring=&#x27;accuracy&#x27;)</pre></div></div></div><div class=\"sk-parallel\"><div class=\"sk-parallel-item\"><div class=\"sk-item\"><div class=\"sk-label-container\"><div class=\"sk-label sk-toggleable\"><input class=\"sk-toggleable__control sk-hidden--visually\" id=\"sk-estimator-id-2\" type=\"checkbox\" ><label for=\"sk-estimator-id-2\" class=\"sk-toggleable__label sk-toggleable__label-arrow\">estimator: LGBMClassifier</label><div class=\"sk-toggleable__content\"><pre>LGBMClassifier(random_state=594, verbose=-1)</pre></div></div></div><div class=\"sk-serial\"><div class=\"sk-item\"><div class=\"sk-estimator sk-toggleable\"><input class=\"sk-toggleable__control sk-hidden--visually\" id=\"sk-estimator-id-3\" type=\"checkbox\" ><label for=\"sk-estimator-id-3\" class=\"sk-toggleable__label sk-toggleable__label-arrow\">LGBMClassifier</label><div class=\"sk-toggleable__content\"><pre>LGBMClassifier(random_state=594, verbose=-1)</pre></div></div></div></div></div></div></div></div></div></div>"
      ],
      "text/plain": [
       "RandomizedSearchCV(cv=5, estimator=LGBMClassifier(random_state=594, verbose=-1),\n",
       "                   n_iter=300, n_jobs=-1,\n",
       "                   param_distributions={'colsample_bytree': <scipy.stats._distn_infrastructure.rv_continuous_frozen object at 0x00000207A3E95190>,\n",
       "                                        'learning_rate': <scipy.stats._distn_infrastructure.rv_continuous_frozen object at 0x00000207A2505AD0>,\n",
       "                                        'max_depth': <scipy.stats._dis...\n",
       "                                        'num_leaves': <scipy.stats._distn_infrastructure.rv_discrete_frozen object at 0x00000207A3E944D0>,\n",
       "                                        'reg_alpha': <scipy.stats._distn_infrastructure.rv_continuous_frozen object at 0x00000207A3E95D50>,\n",
       "                                        'reg_lambda': <scipy.stats._distn_infrastructure.rv_continuous_frozen object at 0x00000207A3E962D0>,\n",
       "                                        'subsample': <scipy.stats._distn_infrastructure.rv_continuous_frozen object at 0x00000207A3E94C50>},\n",
       "                   scoring='accuracy')"
      ]
     },
     "execution_count": 52,
     "metadata": {},
     "output_type": "execute_result"
    }
   ],
   "source": [
    "random_search.fit(\n",
    "    X_train,\n",
    "    y_train,\n",
    "    eval_set=evals,\n",
    ")"
   ]
  },
  {
   "cell_type": "code",
   "execution_count": 53,
   "id": "0c0e664e-2fd1-46b8-8370-9efe0bf748ed",
   "metadata": {
    "tags": []
   },
   "outputs": [
    {
     "data": {
      "text/plain": [
       "0.8011219090866775"
      ]
     },
     "execution_count": 53,
     "metadata": {},
     "output_type": "execute_result"
    }
   ],
   "source": [
    "random_search.best_score_"
   ]
  },
  {
   "cell_type": "code",
   "execution_count": 54,
   "id": "4a7f21e6-2018-48f4-b654-3482c31555b4",
   "metadata": {
    "tags": []
   },
   "outputs": [
    {
     "data": {
      "text/plain": [
       "{'colsample_bytree': 0.9470125857910588,\n",
       " 'learning_rate': 0.08878983735014609,\n",
       " 'max_depth': 4,\n",
       " 'min_child_samples': 25,\n",
       " 'n_estimators': 255,\n",
       " 'num_leaves': 27,\n",
       " 'reg_alpha': 0.6589313013800681,\n",
       " 'reg_lambda': 0.3417673497709479,\n",
       " 'subsample': 0.7259411789298494}"
      ]
     },
     "execution_count": 54,
     "metadata": {},
     "output_type": "execute_result"
    }
   ],
   "source": [
    "random_search.best_params_"
   ]
  },
  {
   "cell_type": "code",
   "execution_count": 55,
   "id": "14ffb327",
   "metadata": {},
   "outputs": [
    {
     "data": {
      "text/html": [
       "<style>#sk-container-id-2 {color: black;}#sk-container-id-2 pre{padding: 0;}#sk-container-id-2 div.sk-toggleable {background-color: white;}#sk-container-id-2 label.sk-toggleable__label {cursor: pointer;display: block;width: 100%;margin-bottom: 0;padding: 0.3em;box-sizing: border-box;text-align: center;}#sk-container-id-2 label.sk-toggleable__label-arrow:before {content: \"▸\";float: left;margin-right: 0.25em;color: #696969;}#sk-container-id-2 label.sk-toggleable__label-arrow:hover:before {color: black;}#sk-container-id-2 div.sk-estimator:hover label.sk-toggleable__label-arrow:before {color: black;}#sk-container-id-2 div.sk-toggleable__content {max-height: 0;max-width: 0;overflow: hidden;text-align: left;background-color: #f0f8ff;}#sk-container-id-2 div.sk-toggleable__content pre {margin: 0.2em;color: black;border-radius: 0.25em;background-color: #f0f8ff;}#sk-container-id-2 input.sk-toggleable__control:checked~div.sk-toggleable__content {max-height: 200px;max-width: 100%;overflow: auto;}#sk-container-id-2 input.sk-toggleable__control:checked~label.sk-toggleable__label-arrow:before {content: \"▾\";}#sk-container-id-2 div.sk-estimator input.sk-toggleable__control:checked~label.sk-toggleable__label {background-color: #d4ebff;}#sk-container-id-2 div.sk-label input.sk-toggleable__control:checked~label.sk-toggleable__label {background-color: #d4ebff;}#sk-container-id-2 input.sk-hidden--visually {border: 0;clip: rect(1px 1px 1px 1px);clip: rect(1px, 1px, 1px, 1px);height: 1px;margin: -1px;overflow: hidden;padding: 0;position: absolute;width: 1px;}#sk-container-id-2 div.sk-estimator {font-family: monospace;background-color: #f0f8ff;border: 1px dotted black;border-radius: 0.25em;box-sizing: border-box;margin-bottom: 0.5em;}#sk-container-id-2 div.sk-estimator:hover {background-color: #d4ebff;}#sk-container-id-2 div.sk-parallel-item::after {content: \"\";width: 100%;border-bottom: 1px solid gray;flex-grow: 1;}#sk-container-id-2 div.sk-label:hover label.sk-toggleable__label {background-color: #d4ebff;}#sk-container-id-2 div.sk-serial::before {content: \"\";position: absolute;border-left: 1px solid gray;box-sizing: border-box;top: 0;bottom: 0;left: 50%;z-index: 0;}#sk-container-id-2 div.sk-serial {display: flex;flex-direction: column;align-items: center;background-color: white;padding-right: 0.2em;padding-left: 0.2em;position: relative;}#sk-container-id-2 div.sk-item {position: relative;z-index: 1;}#sk-container-id-2 div.sk-parallel {display: flex;align-items: stretch;justify-content: center;background-color: white;position: relative;}#sk-container-id-2 div.sk-item::before, #sk-container-id-2 div.sk-parallel-item::before {content: \"\";position: absolute;border-left: 1px solid gray;box-sizing: border-box;top: 0;bottom: 0;left: 50%;z-index: -1;}#sk-container-id-2 div.sk-parallel-item {display: flex;flex-direction: column;z-index: 1;position: relative;background-color: white;}#sk-container-id-2 div.sk-parallel-item:first-child::after {align-self: flex-end;width: 50%;}#sk-container-id-2 div.sk-parallel-item:last-child::after {align-self: flex-start;width: 50%;}#sk-container-id-2 div.sk-parallel-item:only-child::after {width: 0;}#sk-container-id-2 div.sk-dashed-wrapped {border: 1px dashed gray;margin: 0 0.4em 0.5em 0.4em;box-sizing: border-box;padding-bottom: 0.4em;background-color: white;}#sk-container-id-2 div.sk-label label {font-family: monospace;font-weight: bold;display: inline-block;line-height: 1.2em;}#sk-container-id-2 div.sk-label-container {text-align: center;}#sk-container-id-2 div.sk-container {/* jupyter's `normalize.less` sets `[hidden] { display: none; }` but bootstrap.min.css set `[hidden] { display: none !important; }` so we also need the `!important` here to be able to override the default hidden behavior on the sphinx rendered scikit-learn.org. See: https://github.com/scikit-learn/scikit-learn/issues/21755 */display: inline-block !important;position: relative;}#sk-container-id-2 div.sk-text-repr-fallback {display: none;}</style><div id=\"sk-container-id-2\" class=\"sk-top-container\"><div class=\"sk-text-repr-fallback\"><pre>LGBMClassifier(colsample_bytree=0.9470125857910588,\n",
       "               learning_rate=0.08878983735014609, max_depth=4,\n",
       "               min_child_samples=25, n_estimators=255, num_leaves=27,\n",
       "               random_state=594, reg_alpha=0.6589313013800681,\n",
       "               reg_lambda=0.3417673497709479, subsample=0.7259411789298494,\n",
       "               verbose=-1)</pre><b>In a Jupyter environment, please rerun this cell to show the HTML representation or trust the notebook. <br />On GitHub, the HTML representation is unable to render, please try loading this page with nbviewer.org.</b></div><div class=\"sk-container\" hidden><div class=\"sk-item\"><div class=\"sk-estimator sk-toggleable\"><input class=\"sk-toggleable__control sk-hidden--visually\" id=\"sk-estimator-id-4\" type=\"checkbox\" checked><label for=\"sk-estimator-id-4\" class=\"sk-toggleable__label sk-toggleable__label-arrow\">LGBMClassifier</label><div class=\"sk-toggleable__content\"><pre>LGBMClassifier(colsample_bytree=0.9470125857910588,\n",
       "               learning_rate=0.08878983735014609, max_depth=4,\n",
       "               min_child_samples=25, n_estimators=255, num_leaves=27,\n",
       "               random_state=594, reg_alpha=0.6589313013800681,\n",
       "               reg_lambda=0.3417673497709479, subsample=0.7259411789298494,\n",
       "               verbose=-1)</pre></div></div></div></div></div>"
      ],
      "text/plain": [
       "LGBMClassifier(colsample_bytree=0.9470125857910588,\n",
       "               learning_rate=0.08878983735014609, max_depth=4,\n",
       "               min_child_samples=25, n_estimators=255, num_leaves=27,\n",
       "               random_state=594, reg_alpha=0.6589313013800681,\n",
       "               reg_lambda=0.3417673497709479, subsample=0.7259411789298494,\n",
       "               verbose=-1)"
      ]
     },
     "execution_count": 55,
     "metadata": {},
     "output_type": "execute_result"
    }
   ],
   "source": [
    "model = random_search.best_estimator_\n",
    "model"
   ]
  },
  {
   "cell_type": "markdown",
   "metadata": {},
   "source": [
    "# 4. <a id='toc4_'></a>[Fitting the best `LGBMClassifier` to the train set](#toc0_)"
   ]
  },
  {
   "cell_type": "code",
   "execution_count": 56,
   "id": "6358c92b-98b3-4e77-aaa9-a17717410469",
   "metadata": {
    "tags": []
   },
   "outputs": [
    {
     "data": {
      "text/html": [
       "<style>#sk-container-id-3 {color: black;}#sk-container-id-3 pre{padding: 0;}#sk-container-id-3 div.sk-toggleable {background-color: white;}#sk-container-id-3 label.sk-toggleable__label {cursor: pointer;display: block;width: 100%;margin-bottom: 0;padding: 0.3em;box-sizing: border-box;text-align: center;}#sk-container-id-3 label.sk-toggleable__label-arrow:before {content: \"▸\";float: left;margin-right: 0.25em;color: #696969;}#sk-container-id-3 label.sk-toggleable__label-arrow:hover:before {color: black;}#sk-container-id-3 div.sk-estimator:hover label.sk-toggleable__label-arrow:before {color: black;}#sk-container-id-3 div.sk-toggleable__content {max-height: 0;max-width: 0;overflow: hidden;text-align: left;background-color: #f0f8ff;}#sk-container-id-3 div.sk-toggleable__content pre {margin: 0.2em;color: black;border-radius: 0.25em;background-color: #f0f8ff;}#sk-container-id-3 input.sk-toggleable__control:checked~div.sk-toggleable__content {max-height: 200px;max-width: 100%;overflow: auto;}#sk-container-id-3 input.sk-toggleable__control:checked~label.sk-toggleable__label-arrow:before {content: \"▾\";}#sk-container-id-3 div.sk-estimator input.sk-toggleable__control:checked~label.sk-toggleable__label {background-color: #d4ebff;}#sk-container-id-3 div.sk-label input.sk-toggleable__control:checked~label.sk-toggleable__label {background-color: #d4ebff;}#sk-container-id-3 input.sk-hidden--visually {border: 0;clip: rect(1px 1px 1px 1px);clip: rect(1px, 1px, 1px, 1px);height: 1px;margin: -1px;overflow: hidden;padding: 0;position: absolute;width: 1px;}#sk-container-id-3 div.sk-estimator {font-family: monospace;background-color: #f0f8ff;border: 1px dotted black;border-radius: 0.25em;box-sizing: border-box;margin-bottom: 0.5em;}#sk-container-id-3 div.sk-estimator:hover {background-color: #d4ebff;}#sk-container-id-3 div.sk-parallel-item::after {content: \"\";width: 100%;border-bottom: 1px solid gray;flex-grow: 1;}#sk-container-id-3 div.sk-label:hover label.sk-toggleable__label {background-color: #d4ebff;}#sk-container-id-3 div.sk-serial::before {content: \"\";position: absolute;border-left: 1px solid gray;box-sizing: border-box;top: 0;bottom: 0;left: 50%;z-index: 0;}#sk-container-id-3 div.sk-serial {display: flex;flex-direction: column;align-items: center;background-color: white;padding-right: 0.2em;padding-left: 0.2em;position: relative;}#sk-container-id-3 div.sk-item {position: relative;z-index: 1;}#sk-container-id-3 div.sk-parallel {display: flex;align-items: stretch;justify-content: center;background-color: white;position: relative;}#sk-container-id-3 div.sk-item::before, #sk-container-id-3 div.sk-parallel-item::before {content: \"\";position: absolute;border-left: 1px solid gray;box-sizing: border-box;top: 0;bottom: 0;left: 50%;z-index: -1;}#sk-container-id-3 div.sk-parallel-item {display: flex;flex-direction: column;z-index: 1;position: relative;background-color: white;}#sk-container-id-3 div.sk-parallel-item:first-child::after {align-self: flex-end;width: 50%;}#sk-container-id-3 div.sk-parallel-item:last-child::after {align-self: flex-start;width: 50%;}#sk-container-id-3 div.sk-parallel-item:only-child::after {width: 0;}#sk-container-id-3 div.sk-dashed-wrapped {border: 1px dashed gray;margin: 0 0.4em 0.5em 0.4em;box-sizing: border-box;padding-bottom: 0.4em;background-color: white;}#sk-container-id-3 div.sk-label label {font-family: monospace;font-weight: bold;display: inline-block;line-height: 1.2em;}#sk-container-id-3 div.sk-label-container {text-align: center;}#sk-container-id-3 div.sk-container {/* jupyter's `normalize.less` sets `[hidden] { display: none; }` but bootstrap.min.css set `[hidden] { display: none !important; }` so we also need the `!important` here to be able to override the default hidden behavior on the sphinx rendered scikit-learn.org. See: https://github.com/scikit-learn/scikit-learn/issues/21755 */display: inline-block !important;position: relative;}#sk-container-id-3 div.sk-text-repr-fallback {display: none;}</style><div id=\"sk-container-id-3\" class=\"sk-top-container\"><div class=\"sk-text-repr-fallback\"><pre>LGBMClassifier(colsample_bytree=0.9470125857910588,\n",
       "               learning_rate=0.08878983735014609, max_depth=4,\n",
       "               min_child_samples=25, n_estimators=255, num_leaves=27,\n",
       "               random_state=594, reg_alpha=0.6589313013800681,\n",
       "               reg_lambda=0.3417673497709479, subsample=0.7259411789298494,\n",
       "               verbose=-1)</pre><b>In a Jupyter environment, please rerun this cell to show the HTML representation or trust the notebook. <br />On GitHub, the HTML representation is unable to render, please try loading this page with nbviewer.org.</b></div><div class=\"sk-container\" hidden><div class=\"sk-item\"><div class=\"sk-estimator sk-toggleable\"><input class=\"sk-toggleable__control sk-hidden--visually\" id=\"sk-estimator-id-5\" type=\"checkbox\" checked><label for=\"sk-estimator-id-5\" class=\"sk-toggleable__label sk-toggleable__label-arrow\">LGBMClassifier</label><div class=\"sk-toggleable__content\"><pre>LGBMClassifier(colsample_bytree=0.9470125857910588,\n",
       "               learning_rate=0.08878983735014609, max_depth=4,\n",
       "               min_child_samples=25, n_estimators=255, num_leaves=27,\n",
       "               random_state=594, reg_alpha=0.6589313013800681,\n",
       "               reg_lambda=0.3417673497709479, subsample=0.7259411789298494,\n",
       "               verbose=-1)</pre></div></div></div></div></div>"
      ],
      "text/plain": [
       "LGBMClassifier(colsample_bytree=0.9470125857910588,\n",
       "               learning_rate=0.08878983735014609, max_depth=4,\n",
       "               min_child_samples=25, n_estimators=255, num_leaves=27,\n",
       "               random_state=594, reg_alpha=0.6589313013800681,\n",
       "               reg_lambda=0.3417673497709479, subsample=0.7259411789298494,\n",
       "               verbose=-1)"
      ]
     },
     "execution_count": 56,
     "metadata": {},
     "output_type": "execute_result"
    }
   ],
   "source": [
    "model.fit(\n",
    "    X_train,\n",
    "    y_train,\n",
    ")"
   ]
  },
  {
   "cell_type": "markdown",
   "id": "9700ebd5-bdb5-4770-a621-6f825218bd89",
   "metadata": {},
   "source": [
    "Predicting on the validation set, producing a confusion matrix and a classification report."
   ]
  },
  {
   "cell_type": "code",
   "execution_count": 57,
   "id": "702cbfc8-bc0d-41ca-9cdd-013dd3975056",
   "metadata": {
    "tags": []
   },
   "outputs": [
    {
     "name": "stdout",
     "output_type": "stream",
     "text": [
      "Accuracy on Validation Set: 0.8039\n"
     ]
    }
   ],
   "source": [
    "y_val_pred = model.predict(X_val)\n",
    "accuracy = accuracy_score(y_val, y_val_pred)\n",
    "print(f\"Accuracy on Validation Set: {accuracy:.4f}\")"
   ]
  },
  {
   "cell_type": "code",
   "execution_count": 58,
   "id": "d37f7dc8-8085-439f-8cf7-bd620242bb9c",
   "metadata": {
    "tags": []
   },
   "outputs": [
    {
     "name": "stdout",
     "output_type": "stream",
     "text": [
      "Confusion Matrix:\n",
      "\n",
      "[[649 207]\n",
      " [134 749]]\n"
     ]
    }
   ],
   "source": [
    "conf_matrix = confusion_matrix(y_val, y_val_pred)\n",
    "print(\"Confusion Matrix:\\n\")\n",
    "print(conf_matrix)"
   ]
  },
  {
   "cell_type": "code",
   "execution_count": 59,
   "id": "d14110cb",
   "metadata": {},
   "outputs": [
    {
     "name": "stdout",
     "output_type": "stream",
     "text": [
      "Classification Report:\n",
      "\n",
      "              precision    recall  f1-score   support\n",
      "\n",
      "           0       0.83      0.76      0.79       856\n",
      "           1       0.78      0.85      0.81       883\n",
      "\n",
      "    accuracy                           0.80      1739\n",
      "   macro avg       0.81      0.80      0.80      1739\n",
      "weighted avg       0.81      0.80      0.80      1739\n",
      "\n"
     ]
    }
   ],
   "source": [
    "class_report = classification_report(y_val, y_val_pred)\n",
    "print(\"Classification Report:\\n\")\n",
    "print(class_report)"
   ]
  },
  {
   "cell_type": "markdown",
   "metadata": {},
   "source": [
    "# 5. <a id='toc5_'></a>[Using the trained model to predict on the test set](#toc0_)"
   ]
  },
  {
   "cell_type": "markdown",
   "id": "af742a3f-6ac5-4627-905b-46b81ab06672",
   "metadata": {},
   "source": [
    "As with the training data, we must change the type of the categorical features in the test set to `pandas.Categorical`."
   ]
  },
  {
   "cell_type": "code",
   "execution_count": 60,
   "id": "9ae09af1-1bba-48b3-af97-8b0380e6064e",
   "metadata": {
    "tags": []
   },
   "outputs": [
    {
     "data": {
      "text/plain": [
       "HomePlanet           object\n",
       "CryoSleep              bool\n",
       "Destination          object\n",
       "Age                 float64\n",
       "VIP                    bool\n",
       "RoomService         float64\n",
       "FoodCourt           float64\n",
       "ShoppingMall        float64\n",
       "Spa                 float64\n",
       "VRDeck              float64\n",
       "TotalExpenditure    float64\n",
       "AgeGroup              int64\n",
       "GroupSize             int64\n",
       "Solo                  int32\n",
       "CabinSide            object\n",
       "dtype: object"
      ]
     },
     "execution_count": 60,
     "metadata": {},
     "output_type": "execute_result"
    }
   ],
   "source": [
    "test.dtypes"
   ]
  },
  {
   "cell_type": "code",
   "execution_count": 61,
   "id": "0af47125-4747-4049-a31e-d53c62c5fe5c",
   "metadata": {
    "tags": []
   },
   "outputs": [],
   "source": [
    "test[['HomePlanet','Destination','CabinSide']] = test[['HomePlanet','Destination','CabinSide']].astype('category')\n",
    "test[['VIP','CryoSleep']] = test[['VIP','CryoSleep']].astype(int)"
   ]
  },
  {
   "cell_type": "code",
   "execution_count": 62,
   "id": "55e45edf-c3e7-4044-aad2-3f2f60710609",
   "metadata": {
    "tags": []
   },
   "outputs": [
    {
     "data": {
      "text/plain": [
       "0       1\n",
       "1       0\n",
       "2       1\n",
       "3       1\n",
       "4       1\n",
       "       ..\n",
       "4272    1\n",
       "4273    0\n",
       "4274    1\n",
       "4275    1\n",
       "4276    1\n",
       "Length: 4277, dtype: int32"
      ]
     },
     "execution_count": 62,
     "metadata": {},
     "output_type": "execute_result"
    }
   ],
   "source": [
    "pred = pd.Series(model.predict(test))\n",
    "pred"
   ]
  },
  {
   "cell_type": "markdown",
   "id": "87a40dc0-84c1-4340-a017-984af0400c76",
   "metadata": {},
   "source": [
    "Construct a dataframe in the appropriate form for submission"
   ]
  },
  {
   "cell_type": "code",
   "execution_count": 63,
   "id": "0110984c-f096-479d-8c0d-9d2fd0ba9b53",
   "metadata": {
    "tags": []
   },
   "outputs": [
    {
     "data": {
      "text/html": [
       "<div>\n",
       "<style scoped>\n",
       "    .dataframe tbody tr th:only-of-type {\n",
       "        vertical-align: middle;\n",
       "    }\n",
       "\n",
       "    .dataframe tbody tr th {\n",
       "        vertical-align: top;\n",
       "    }\n",
       "\n",
       "    .dataframe thead th {\n",
       "        text-align: right;\n",
       "    }\n",
       "</style>\n",
       "<table border=\"1\" class=\"dataframe\">\n",
       "  <thead>\n",
       "    <tr style=\"text-align: right;\">\n",
       "      <th></th>\n",
       "      <th>PassengerId</th>\n",
       "      <th>Transported</th>\n",
       "    </tr>\n",
       "  </thead>\n",
       "  <tbody>\n",
       "    <tr>\n",
       "      <th>0</th>\n",
       "      <td>0013_01</td>\n",
       "      <td>True</td>\n",
       "    </tr>\n",
       "    <tr>\n",
       "      <th>1</th>\n",
       "      <td>0018_01</td>\n",
       "      <td>False</td>\n",
       "    </tr>\n",
       "    <tr>\n",
       "      <th>2</th>\n",
       "      <td>0019_01</td>\n",
       "      <td>True</td>\n",
       "    </tr>\n",
       "    <tr>\n",
       "      <th>3</th>\n",
       "      <td>0021_01</td>\n",
       "      <td>True</td>\n",
       "    </tr>\n",
       "    <tr>\n",
       "      <th>4</th>\n",
       "      <td>0023_01</td>\n",
       "      <td>True</td>\n",
       "    </tr>\n",
       "    <tr>\n",
       "      <th>...</th>\n",
       "      <td>...</td>\n",
       "      <td>...</td>\n",
       "    </tr>\n",
       "    <tr>\n",
       "      <th>4272</th>\n",
       "      <td>9266_02</td>\n",
       "      <td>True</td>\n",
       "    </tr>\n",
       "    <tr>\n",
       "      <th>4273</th>\n",
       "      <td>9269_01</td>\n",
       "      <td>False</td>\n",
       "    </tr>\n",
       "    <tr>\n",
       "      <th>4274</th>\n",
       "      <td>9271_01</td>\n",
       "      <td>True</td>\n",
       "    </tr>\n",
       "    <tr>\n",
       "      <th>4275</th>\n",
       "      <td>9273_01</td>\n",
       "      <td>True</td>\n",
       "    </tr>\n",
       "    <tr>\n",
       "      <th>4276</th>\n",
       "      <td>9277_01</td>\n",
       "      <td>True</td>\n",
       "    </tr>\n",
       "  </tbody>\n",
       "</table>\n",
       "<p>4277 rows × 2 columns</p>\n",
       "</div>"
      ],
      "text/plain": [
       "     PassengerId  Transported\n",
       "0        0013_01         True\n",
       "1        0018_01        False\n",
       "2        0019_01         True\n",
       "3        0021_01         True\n",
       "4        0023_01         True\n",
       "...          ...          ...\n",
       "4272     9266_02         True\n",
       "4273     9269_01        False\n",
       "4274     9271_01         True\n",
       "4275     9273_01         True\n",
       "4276     9277_01         True\n",
       "\n",
       "[4277 rows x 2 columns]"
      ]
     },
     "execution_count": 63,
     "metadata": {},
     "output_type": "execute_result"
    }
   ],
   "source": [
    "ids = df_test['PassengerId']\n",
    "soln = pd.concat([ids,pred],axis=1)\n",
    "soln.columns = ['PassengerId','Transported']\n",
    "soln['Transported'] = soln['Transported'].astype(bool)\n",
    "soln"
   ]
  },
  {
   "cell_type": "code",
   "execution_count": 64,
   "id": "3dd57191-ac86-4d5a-af0a-e3dd9a0460ba",
   "metadata": {
    "tags": []
   },
   "outputs": [],
   "source": [
    "soln.to_csv('soln.csv',index=False)"
   ]
  },
  {
   "cell_type": "markdown",
   "id": "c7be7c55",
   "metadata": {},
   "source": [
    "Submitting this `soln.csv` file to [Kaggle](https://www.kaggle.com/competitions/spaceship-titanic/submissions) resulted in a public score of 0.801, placing the entry in the top 22% of the leaderboard. This is impressive considering the simplicity of the model, the short training time required and the uncomplicated methods used to fill null values"
   ]
  },
  {
   "cell_type": "markdown",
   "metadata": {},
   "source": [
    "# 6. <a id='toc6_'></a>[Further Directions](#toc0_)"
   ]
  },
  {
   "cell_type": "markdown",
   "id": "91c7b3bd-fc12-4748-95b7-c5d392c14ec8",
   "metadata": {},
   "source": [
    "Our model's performance could be improved through work in several different directions, such as further feature engineering, further hyperparameter tuning and experimentation with other models.\n",
    "\n",
    "For example, we could engineer a new feature `FamilySize` based upon the number of passengers with the same surname. This would pose the challenge of first finding a way to fill the null values in the `Name` column.\n",
    "\n",
    "Our method for filling the null values in the categorical columns such as `Destination` and `HomePlanet` was simplistic, just filling based upon the most common occurance without attempting to preserve the overall distribution of the data over such categories. More sophisticated methods of filling that attempt to preserve data distribution might result in a more powerful and more generalisable model.\n",
    "\n",
    "Tuning the `LGBMClassifier` with `GridSearchCV` rather than `RandomSearchCV` might obtain slight performance gains at the cost of greater computational expense."
   ]
  },
  {
   "cell_type": "markdown",
   "id": "592a0a4c-0f2c-4b7f-bdc3-b026d963d02f",
   "metadata": {},
   "source": [
    "We experimented with other ML models alongside LightGBM, particularly other gradient boosting algorithms such as XGBoost and CatBoost. These models have the advantage of being able to handle categorical features encoded with the `pandas.Categorical` datatype. For example, an XGBoost solution might look like"
   ]
  },
  {
   "cell_type": "code",
   "execution_count": 65,
   "id": "bd9b5b6a-e825-4d07-b488-1e7a2e556fdc",
   "metadata": {
    "tags": []
   },
   "outputs": [],
   "source": [
    "from xgboost import XGBClassifier"
   ]
  },
  {
   "cell_type": "code",
   "execution_count": 66,
   "id": "85ec81ed-b822-4ae7-90c7-f9f62f00fdd8",
   "metadata": {
    "tags": []
   },
   "outputs": [],
   "source": [
    "param_grid = {\n",
    "    'n_estimators': randint(50, 500),\n",
    "    'learning_rate': uniform(0.01, 0.3),\n",
    "    'max_depth': randint(3, 15),\n",
    "    'min_child_weight': randint(1, 10),\n",
    "    'subsample': uniform(0.6, 0.4),\n",
    "    'colsample_bytree': uniform(0.6, 0.4),\n",
    "    'gamma': uniform(0, 1),\n",
    "    'reg_alpha': uniform(0, 1),\n",
    "    'reg_lambda': uniform(0, 1),\n",
    "}"
   ]
  },
  {
   "cell_type": "code",
   "execution_count": 67,
   "id": "bf9f628b-5ab9-4f6f-abb1-75726fbf8a3c",
   "metadata": {
    "tags": []
   },
   "outputs": [],
   "source": [
    "estimator = XGBClassifier(tree_method='hist',enable_categorical=True) "
   ]
  },
  {
   "cell_type": "markdown",
   "id": "7cc9f784-93a3-4557-909e-3ffb30a4b3ad",
   "metadata": {},
   "source": [
    "The experimental setting `enable_categorical=True` is required for `XGBClassifier` to train on a dataset with features of the `pandas.Categorical` type. Only certain values for `tree_method` such as `'hist'` support this feature."
   ]
  },
  {
   "cell_type": "code",
   "execution_count": 68,
   "id": "99f223c7-0406-4efe-ac1d-ed2afade19dd",
   "metadata": {
    "tags": []
   },
   "outputs": [],
   "source": [
    "random_search = RandomizedSearchCV(\n",
    "    estimator=estimator,\n",
    "    param_distributions=param_grid,\n",
    "    scoring='accuracy',  \n",
    "    cv=5,\n",
    "    n_jobs=-1,\n",
    "    n_iter=10\n",
    ")"
   ]
  },
  {
   "cell_type": "code",
   "execution_count": 69,
   "id": "69c7ad36-8c88-45b2-a118-267baa5df2df",
   "metadata": {
    "tags": []
   },
   "outputs": [
    {
     "name": "stdout",
     "output_type": "stream",
     "text": [
      "[0]\tvalidation_0-logloss:0.63143\tvalidation_1-logloss:0.63332\n",
      "[50]\tvalidation_0-logloss:0.34983\tvalidation_1-logloss:0.41640\n",
      "[100]\tvalidation_0-logloss:0.30078\tvalidation_1-logloss:0.42601\n",
      "[142]\tvalidation_0-logloss:0.27415\tvalidation_1-logloss:0.43132\n"
     ]
    },
    {
     "data": {
      "text/html": [
       "<style>#sk-container-id-4 {color: black;}#sk-container-id-4 pre{padding: 0;}#sk-container-id-4 div.sk-toggleable {background-color: white;}#sk-container-id-4 label.sk-toggleable__label {cursor: pointer;display: block;width: 100%;margin-bottom: 0;padding: 0.3em;box-sizing: border-box;text-align: center;}#sk-container-id-4 label.sk-toggleable__label-arrow:before {content: \"▸\";float: left;margin-right: 0.25em;color: #696969;}#sk-container-id-4 label.sk-toggleable__label-arrow:hover:before {color: black;}#sk-container-id-4 div.sk-estimator:hover label.sk-toggleable__label-arrow:before {color: black;}#sk-container-id-4 div.sk-toggleable__content {max-height: 0;max-width: 0;overflow: hidden;text-align: left;background-color: #f0f8ff;}#sk-container-id-4 div.sk-toggleable__content pre {margin: 0.2em;color: black;border-radius: 0.25em;background-color: #f0f8ff;}#sk-container-id-4 input.sk-toggleable__control:checked~div.sk-toggleable__content {max-height: 200px;max-width: 100%;overflow: auto;}#sk-container-id-4 input.sk-toggleable__control:checked~label.sk-toggleable__label-arrow:before {content: \"▾\";}#sk-container-id-4 div.sk-estimator input.sk-toggleable__control:checked~label.sk-toggleable__label {background-color: #d4ebff;}#sk-container-id-4 div.sk-label input.sk-toggleable__control:checked~label.sk-toggleable__label {background-color: #d4ebff;}#sk-container-id-4 input.sk-hidden--visually {border: 0;clip: rect(1px 1px 1px 1px);clip: rect(1px, 1px, 1px, 1px);height: 1px;margin: -1px;overflow: hidden;padding: 0;position: absolute;width: 1px;}#sk-container-id-4 div.sk-estimator {font-family: monospace;background-color: #f0f8ff;border: 1px dotted black;border-radius: 0.25em;box-sizing: border-box;margin-bottom: 0.5em;}#sk-container-id-4 div.sk-estimator:hover {background-color: #d4ebff;}#sk-container-id-4 div.sk-parallel-item::after {content: \"\";width: 100%;border-bottom: 1px solid gray;flex-grow: 1;}#sk-container-id-4 div.sk-label:hover label.sk-toggleable__label {background-color: #d4ebff;}#sk-container-id-4 div.sk-serial::before {content: \"\";position: absolute;border-left: 1px solid gray;box-sizing: border-box;top: 0;bottom: 0;left: 50%;z-index: 0;}#sk-container-id-4 div.sk-serial {display: flex;flex-direction: column;align-items: center;background-color: white;padding-right: 0.2em;padding-left: 0.2em;position: relative;}#sk-container-id-4 div.sk-item {position: relative;z-index: 1;}#sk-container-id-4 div.sk-parallel {display: flex;align-items: stretch;justify-content: center;background-color: white;position: relative;}#sk-container-id-4 div.sk-item::before, #sk-container-id-4 div.sk-parallel-item::before {content: \"\";position: absolute;border-left: 1px solid gray;box-sizing: border-box;top: 0;bottom: 0;left: 50%;z-index: -1;}#sk-container-id-4 div.sk-parallel-item {display: flex;flex-direction: column;z-index: 1;position: relative;background-color: white;}#sk-container-id-4 div.sk-parallel-item:first-child::after {align-self: flex-end;width: 50%;}#sk-container-id-4 div.sk-parallel-item:last-child::after {align-self: flex-start;width: 50%;}#sk-container-id-4 div.sk-parallel-item:only-child::after {width: 0;}#sk-container-id-4 div.sk-dashed-wrapped {border: 1px dashed gray;margin: 0 0.4em 0.5em 0.4em;box-sizing: border-box;padding-bottom: 0.4em;background-color: white;}#sk-container-id-4 div.sk-label label {font-family: monospace;font-weight: bold;display: inline-block;line-height: 1.2em;}#sk-container-id-4 div.sk-label-container {text-align: center;}#sk-container-id-4 div.sk-container {/* jupyter's `normalize.less` sets `[hidden] { display: none; }` but bootstrap.min.css set `[hidden] { display: none !important; }` so we also need the `!important` here to be able to override the default hidden behavior on the sphinx rendered scikit-learn.org. See: https://github.com/scikit-learn/scikit-learn/issues/21755 */display: inline-block !important;position: relative;}#sk-container-id-4 div.sk-text-repr-fallback {display: none;}</style><div id=\"sk-container-id-4\" class=\"sk-top-container\"><div class=\"sk-text-repr-fallback\"><pre>RandomizedSearchCV(cv=5,\n",
       "                   estimator=XGBClassifier(base_score=None, booster=None,\n",
       "                                           callbacks=None,\n",
       "                                           colsample_bylevel=None,\n",
       "                                           colsample_bynode=None,\n",
       "                                           colsample_bytree=None,\n",
       "                                           early_stopping_rounds=None,\n",
       "                                           enable_categorical=True,\n",
       "                                           eval_metric=None, feature_types=None,\n",
       "                                           gamma=None, gpu_id=None,\n",
       "                                           grow_policy=None,\n",
       "                                           importance_type=None,\n",
       "                                           interaction_constraints=None,\n",
       "                                           learning_rate=...\n",
       "                                        &#x27;n_estimators&#x27;: &lt;scipy.stats._distn_infrastructure.rv_discrete_frozen object at 0x00000207A3DC32D0&gt;,\n",
       "                                        &#x27;reg_alpha&#x27;: &lt;scipy.stats._distn_infrastructure.rv_continuous_frozen object at 0x00000207A409CB50&gt;,\n",
       "                                        &#x27;reg_lambda&#x27;: &lt;scipy.stats._distn_infrastructure.rv_continuous_frozen object at 0x00000207A409F1D0&gt;,\n",
       "                                        &#x27;subsample&#x27;: &lt;scipy.stats._distn_infrastructure.rv_continuous_frozen object at 0x00000207A4094DD0&gt;},\n",
       "                   scoring=&#x27;accuracy&#x27;)</pre><b>In a Jupyter environment, please rerun this cell to show the HTML representation or trust the notebook. <br />On GitHub, the HTML representation is unable to render, please try loading this page with nbviewer.org.</b></div><div class=\"sk-container\" hidden><div class=\"sk-item sk-dashed-wrapped\"><div class=\"sk-label-container\"><div class=\"sk-label sk-toggleable\"><input class=\"sk-toggleable__control sk-hidden--visually\" id=\"sk-estimator-id-6\" type=\"checkbox\" ><label for=\"sk-estimator-id-6\" class=\"sk-toggleable__label sk-toggleable__label-arrow\">RandomizedSearchCV</label><div class=\"sk-toggleable__content\"><pre>RandomizedSearchCV(cv=5,\n",
       "                   estimator=XGBClassifier(base_score=None, booster=None,\n",
       "                                           callbacks=None,\n",
       "                                           colsample_bylevel=None,\n",
       "                                           colsample_bynode=None,\n",
       "                                           colsample_bytree=None,\n",
       "                                           early_stopping_rounds=None,\n",
       "                                           enable_categorical=True,\n",
       "                                           eval_metric=None, feature_types=None,\n",
       "                                           gamma=None, gpu_id=None,\n",
       "                                           grow_policy=None,\n",
       "                                           importance_type=None,\n",
       "                                           interaction_constraints=None,\n",
       "                                           learning_rate=...\n",
       "                                        &#x27;n_estimators&#x27;: &lt;scipy.stats._distn_infrastructure.rv_discrete_frozen object at 0x00000207A3DC32D0&gt;,\n",
       "                                        &#x27;reg_alpha&#x27;: &lt;scipy.stats._distn_infrastructure.rv_continuous_frozen object at 0x00000207A409CB50&gt;,\n",
       "                                        &#x27;reg_lambda&#x27;: &lt;scipy.stats._distn_infrastructure.rv_continuous_frozen object at 0x00000207A409F1D0&gt;,\n",
       "                                        &#x27;subsample&#x27;: &lt;scipy.stats._distn_infrastructure.rv_continuous_frozen object at 0x00000207A4094DD0&gt;},\n",
       "                   scoring=&#x27;accuracy&#x27;)</pre></div></div></div><div class=\"sk-parallel\"><div class=\"sk-parallel-item\"><div class=\"sk-item\"><div class=\"sk-label-container\"><div class=\"sk-label sk-toggleable\"><input class=\"sk-toggleable__control sk-hidden--visually\" id=\"sk-estimator-id-7\" type=\"checkbox\" ><label for=\"sk-estimator-id-7\" class=\"sk-toggleable__label sk-toggleable__label-arrow\">estimator: XGBClassifier</label><div class=\"sk-toggleable__content\"><pre>XGBClassifier(base_score=None, booster=None, callbacks=None,\n",
       "              colsample_bylevel=None, colsample_bynode=None,\n",
       "              colsample_bytree=None, early_stopping_rounds=None,\n",
       "              enable_categorical=True, eval_metric=None, feature_types=None,\n",
       "              gamma=None, gpu_id=None, grow_policy=None, importance_type=None,\n",
       "              interaction_constraints=None, learning_rate=None, max_bin=None,\n",
       "              max_cat_threshold=None, max_cat_to_onehot=None,\n",
       "              max_delta_step=None, max_depth=None, max_leaves=None,\n",
       "              min_child_weight=None, missing=nan, monotone_constraints=None,\n",
       "              n_estimators=100, n_jobs=None, num_parallel_tree=None,\n",
       "              predictor=None, random_state=None, ...)</pre></div></div></div><div class=\"sk-serial\"><div class=\"sk-item\"><div class=\"sk-estimator sk-toggleable\"><input class=\"sk-toggleable__control sk-hidden--visually\" id=\"sk-estimator-id-8\" type=\"checkbox\" ><label for=\"sk-estimator-id-8\" class=\"sk-toggleable__label sk-toggleable__label-arrow\">XGBClassifier</label><div class=\"sk-toggleable__content\"><pre>XGBClassifier(base_score=None, booster=None, callbacks=None,\n",
       "              colsample_bylevel=None, colsample_bynode=None,\n",
       "              colsample_bytree=None, early_stopping_rounds=None,\n",
       "              enable_categorical=True, eval_metric=None, feature_types=None,\n",
       "              gamma=None, gpu_id=None, grow_policy=None, importance_type=None,\n",
       "              interaction_constraints=None, learning_rate=None, max_bin=None,\n",
       "              max_cat_threshold=None, max_cat_to_onehot=None,\n",
       "              max_delta_step=None, max_depth=None, max_leaves=None,\n",
       "              min_child_weight=None, missing=nan, monotone_constraints=None,\n",
       "              n_estimators=100, n_jobs=None, num_parallel_tree=None,\n",
       "              predictor=None, random_state=None, ...)</pre></div></div></div></div></div></div></div></div></div></div>"
      ],
      "text/plain": [
       "RandomizedSearchCV(cv=5,\n",
       "                   estimator=XGBClassifier(base_score=None, booster=None,\n",
       "                                           callbacks=None,\n",
       "                                           colsample_bylevel=None,\n",
       "                                           colsample_bynode=None,\n",
       "                                           colsample_bytree=None,\n",
       "                                           early_stopping_rounds=None,\n",
       "                                           enable_categorical=True,\n",
       "                                           eval_metric=None, feature_types=None,\n",
       "                                           gamma=None, gpu_id=None,\n",
       "                                           grow_policy=None,\n",
       "                                           importance_type=None,\n",
       "                                           interaction_constraints=None,\n",
       "                                           learning_rate=...\n",
       "                                        'n_estimators': <scipy.stats._distn_infrastructure.rv_discrete_frozen object at 0x00000207A3DC32D0>,\n",
       "                                        'reg_alpha': <scipy.stats._distn_infrastructure.rv_continuous_frozen object at 0x00000207A409CB50>,\n",
       "                                        'reg_lambda': <scipy.stats._distn_infrastructure.rv_continuous_frozen object at 0x00000207A409F1D0>,\n",
       "                                        'subsample': <scipy.stats._distn_infrastructure.rv_continuous_frozen object at 0x00000207A4094DD0>},\n",
       "                   scoring='accuracy')"
      ]
     },
     "execution_count": 69,
     "metadata": {},
     "output_type": "execute_result"
    }
   ],
   "source": [
    "random_search.fit(\n",
    "    X_train,\n",
    "    y_train,\n",
    "    eval_set=evals,\n",
    "    verbose=50\n",
    ")"
   ]
  },
  {
   "cell_type": "code",
   "execution_count": 70,
   "id": "86469aac-a3d9-44ac-a43e-9c98b0f23e89",
   "metadata": {
    "tags": []
   },
   "outputs": [
    {
     "data": {
      "text/plain": [
       "0.7963762936451702"
      ]
     },
     "execution_count": 70,
     "metadata": {},
     "output_type": "execute_result"
    }
   ],
   "source": [
    "random_search.best_score_"
   ]
  },
  {
   "cell_type": "code",
   "execution_count": 71,
   "id": "1c3e18f1-f1bf-4b6b-b314-9b59ae131ba4",
   "metadata": {
    "tags": []
   },
   "outputs": [
    {
     "data": {
      "text/plain": [
       "{'colsample_bytree': 0.890526765017646,\n",
       " 'gamma': 0.32464487982897205,\n",
       " 'learning_rate': 0.15202213811727022,\n",
       " 'max_depth': 6,\n",
       " 'min_child_weight': 1,\n",
       " 'n_estimators': 143,\n",
       " 'reg_alpha': 0.8157941688227823,\n",
       " 'reg_lambda': 0.6997868800284398,\n",
       " 'subsample': 0.9266653247869721}"
      ]
     },
     "execution_count": 71,
     "metadata": {},
     "output_type": "execute_result"
    }
   ],
   "source": [
    "random_search.best_params_"
   ]
  },
  {
   "cell_type": "code",
   "execution_count": 72,
   "id": "5fae6f12-ac2e-423f-bf85-b285a5784a65",
   "metadata": {
    "tags": []
   },
   "outputs": [
    {
     "name": "stdout",
     "output_type": "stream",
     "text": [
      "Accuracy on Validation Set: 0.7953\n"
     ]
    }
   ],
   "source": [
    "y_val_pred = random_search.best_estimator_.predict(X_val)\n",
    "accuracy = accuracy_score(y_val, y_val_pred)\n",
    "print(f\"Accuracy on Validation Set: {accuracy:.4f}\")"
   ]
  },
  {
   "cell_type": "markdown",
   "id": "c941010a-82e8-4f15-bd91-69866527144d",
   "metadata": {},
   "source": [
    "Manually encoding the categorical features would allow experimentation with models that can only handle numeric features, such as neural networks or `RandomForestClassifier` from sklearn."
   ]
  }
 ],
 "metadata": {
  "kernelspec": {
   "display_name": "Python 3 (ipykernel)",
   "language": "python",
   "name": "python3"
  },
  "language_info": {
   "codemirror_mode": {
    "name": "ipython",
    "version": 3
   },
   "file_extension": ".py",
   "mimetype": "text/x-python",
   "name": "python",
   "nbconvert_exporter": "python",
   "pygments_lexer": "ipython3",
   "version": "3.11.4"
  },
  "toc-autonumbering": true,
  "toc-showcode": false,
  "toc-showmarkdowntxt": false
 },
 "nbformat": 4,
 "nbformat_minor": 5
}
